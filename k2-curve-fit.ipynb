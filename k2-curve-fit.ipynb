{
 "cells": [
  {
   "cell_type": "code",
   "execution_count": 1,
   "metadata": {
    "collapsed": false
   },
   "outputs": [],
   "source": [
    "import pandas as pd\n",
    "import matplotlib.pyplot as plt\n",
    "import numpy as np\n",
    "from scipy import optimize\n",
    "from scipy import fftpack\n",
    "%matplotlib notebook"
   ]
  },
  {
   "cell_type": "code",
   "execution_count": null,
   "metadata": {
    "collapsed": true
   },
   "outputs": [],
   "source": [
    "k2 = pd.read_csv('/Devel/k2/data/C4/COOL/210451321.csv')"
   ]
  },
  {
   "cell_type": "code",
   "execution_count": null,
   "metadata": {
    "collapsed": true
   },
   "outputs": [],
   "source": [
    "k2 = pd.read_csv('/Devel/k2/data/C4/COOL/210451321.csv')\n",
    "k2.columns = ['time','flux','error']"
   ]
  },
  {
   "cell_type": "code",
   "execution_count": null,
   "metadata": {
    "collapsed": true
   },
   "outputs": [],
   "source": [
    "thresh_value = np.mean(k2['flux'])+2.5*np.std(k2['flux'])"
   ]
  },
  {
   "cell_type": "code",
   "execution_count": null,
   "metadata": {
    "collapsed": true
   },
   "outputs": [],
   "source": [
    "thresh_line=np.ones(len(k2['time']))*thresh_value"
   ]
  },
  {
   "cell_type": "code",
   "execution_count": null,
   "metadata": {
    "collapsed": true
   },
   "outputs": [],
   "source": [
    "k2[k2['flux']>thresh_value].flux.count()"
   ]
  },
  {
   "cell_type": "code",
   "execution_count": null,
   "metadata": {
    "collapsed": true
   },
   "outputs": [],
   "source": [
    "hist = np.histogram(k2['flux'], bins=15)"
   ]
  },
  {
   "cell_type": "code",
   "execution_count": null,
   "metadata": {
    "collapsed": true
   },
   "outputs": [],
   "source": [
    "ticks=map(str,map(int,hist[1][1:]))"
   ]
  },
  {
   "cell_type": "code",
   "execution_count": null,
   "metadata": {
    "collapsed": true
   },
   "outputs": [],
   "source": [
    "map(int,hist[0])"
   ]
  },
  {
   "cell_type": "code",
   "execution_count": null,
   "metadata": {
    "collapsed": true
   },
   "outputs": [],
   "source": [
    "plt.bar(range(len(hist[0])),hist[0],tick_label=ticks)"
   ]
  },
  {
   "cell_type": "code",
   "execution_count": null,
   "metadata": {
    "collapsed": true
   },
   "outputs": [],
   "source": [
    "np.mean(k2['flux'])+2.5*np.std(k2['flux'])"
   ]
  },
  {
   "cell_type": "code",
   "execution_count": null,
   "metadata": {
    "collapsed": true
   },
   "outputs": [],
   "source": [
    "Ns = [5,50]\n",
    "plt.plot(k2['flux'])\n",
    "for N in Ns:\n",
    "    plt.plot(np.convolve(k2['flux'], np.ones((N,))/N, mode='full'))\n",
    "labels = np.append([0], Ns)\n",
    "plt.legend(labels, loc='upper right')"
   ]
  },
  {
   "cell_type": "code",
   "execution_count": null,
   "metadata": {
    "collapsed": true
   },
   "outputs": [],
   "source": [
    "n_std_dev = 2.5\n",
    "N = 30\n",
    "thresh_value = np.mean(k2['flux'])+n_std_dev*np.std(k2['flux'])"
   ]
  },
  {
   "cell_type": "code",
   "execution_count": null,
   "metadata": {
    "collapsed": false
   },
   "outputs": [],
   "source": [
    "plt.plot(k2['flux'])\n",
    "plt.plot(np.convolve(k2['flux'], np.ones((N,))/N, mode='full') + thresh_value)"
   ]
  },
  {
   "cell_type": "code",
   "execution_count": null,
   "metadata": {
    "collapsed": true
   },
   "outputs": [],
   "source": [
    "threshold_array = np.convolve(k2['flux'], np.ones((N,))/N, mode='full') + thresh_value"
   ]
  },
  {
   "cell_type": "code",
   "execution_count": null,
   "metadata": {
    "collapsed": true
   },
   "outputs": [],
   "source": [
    "flare_array = np.zeros(len(k2['flux']))"
   ]
  },
  {
   "cell_type": "code",
   "execution_count": null,
   "metadata": {
    "collapsed": true
   },
   "outputs": [],
   "source": [
    "for index in range(len(k2['flux'])):\n",
    "    if k2['flux'][index] > threshold_array[index]:\n",
    "        flare_array[index] =  k2['flux'][index]"
   ]
  },
  {
   "cell_type": "code",
   "execution_count": null,
   "metadata": {
    "collapsed": false
   },
   "outputs": [],
   "source": [
    "plt.plot(k2['time'],k2['flux'])"
   ]
  },
  {
   "cell_type": "code",
   "execution_count": null,
   "metadata": {
    "collapsed": false
   },
   "outputs": [],
   "source": [
    "len(flare_array[flare_array>0])"
   ]
  },
  {
   "cell_type": "code",
   "execution_count": null,
   "metadata": {
    "collapsed": true
   },
   "outputs": [],
   "source": [
    "flares_df = pd.read_csv('/Devel/k2/flares.csv')"
   ]
  },
  {
   "cell_type": "code",
   "execution_count": null,
   "metadata": {
    "collapsed": true
   },
   "outputs": [],
   "source": [
    "def test_func(x, a, b, c):\n",
    "    return a * np.sin(b * x) +c"
   ]
  },
  {
   "cell_type": "code",
   "execution_count": null,
   "metadata": {
    "collapsed": true
   },
   "outputs": [],
   "source": [
    "k2_30 = pd.read_csv('/Devel/k2/data/C4/COOL/210459199.csv') # 210579563 210700098"
   ]
  },
  {
   "cell_type": "code",
   "execution_count": null,
   "metadata": {
    "collapsed": true
   },
   "outputs": [],
   "source": [
    "k2_30.columns = ['time','flux','error']"
   ]
  },
  {
   "cell_type": "code",
   "execution_count": null,
   "metadata": {
    "collapsed": true
   },
   "outputs": [],
   "source": [
    "x_data = k2['time']\n",
    "y_data = k2['flux']"
   ]
  },
  {
   "cell_type": "code",
   "execution_count": null,
   "metadata": {
    "collapsed": false
   },
   "outputs": [],
   "source": [
    "plt.plot(x_data, y_data)\n",
    "plt.scatter(x_data, y_data)"
   ]
  },
  {
   "cell_type": "code",
   "execution_count": null,
   "metadata": {
    "collapsed": false
   },
   "outputs": [],
   "source": [
    "plt.plot(x_data, y_data)"
   ]
  },
  {
   "cell_type": "code",
   "execution_count": null,
   "metadata": {
    "collapsed": true
   },
   "outputs": [],
   "source": [
    "x_data = k2['time']\n",
    "y_data = k2['flux']"
   ]
  },
  {
   "cell_type": "code",
   "execution_count": null,
   "metadata": {
    "collapsed": false
   },
   "outputs": [],
   "source": [
    "x_data.values"
   ]
  },
  {
   "cell_type": "code",
   "execution_count": null,
   "metadata": {
    "collapsed": true
   },
   "outputs": [],
   "source": [
    "\n",
    "params, params_covariance = curve_fit(test_func,  x_data,y_data,\n",
    "                                               p0=[10, 3, 5000])"
   ]
  },
  {
   "cell_type": "code",
   "execution_count": null,
   "metadata": {
    "collapsed": false
   },
   "outputs": [],
   "source": [
    "params"
   ]
  },
  {
   "cell_type": "code",
   "execution_count": null,
   "metadata": {
    "collapsed": true
   },
   "outputs": [],
   "source": [
    "from numpy import pi, r_"
   ]
  },
  {
   "cell_type": "code",
   "execution_count": null,
   "metadata": {
    "collapsed": true
   },
   "outputs": [],
   "source": [
    "num_points = 150\n",
    "Tx = np.linspace(5., 8., num_points)\n",
    "Ty = Tx\n",
    "\n",
    "tX = 11.86*np.cos(2*pi/0.81*Tx-1.32) + 0.64*Tx+4*((0.5-np.random.rand(num_points))*np.exp(2*np.random.rand(num_points)**2))\n",
    "tY = -32.14*np.cos(2*np.pi/0.8*Ty-1.94) + 0.15*Ty+7*((0.5-np.random.rand(num_points))*np.exp(2*np.random.rand(num_points)**2))"
   ]
  },
  {
   "cell_type": "code",
   "execution_count": null,
   "metadata": {
    "collapsed": true
   },
   "outputs": [],
   "source": [
    "fitfunc = lambda p, x: p[0]*np.cos(2*np.pi/p[1]*x+p[2]) + p[3]*x\n",
    "errfunc = lambda p, x, y: fitfunc(p, x) - y # Distance to the target function\n",
    "p0 = [-15., 0.8, 0., -1.] # Initial guess for the parameters\n",
    "p1, success = optimize.leastsq(errfunc, p0[:], args=(Tx, tX))"
   ]
  },
  {
   "cell_type": "code",
   "execution_count": null,
   "metadata": {
    "collapsed": true
   },
   "outputs": [],
   "source": [
    "# Fit the second set\n",
    "p0 = [-15., 0.8, 0., -1.]\n",
    "p2,success = optimize.leastsq(errfunc, p0[:], args=(Ty, tY))\n",
    "\n",
    "time = np.linspace(Ty.min(), Ty.max(), 100)\n",
    "plt.plot(Ty, tY, \"b^\", time, fitfunc(p2, time), \"b-\")"
   ]
  },
  {
   "cell_type": "code",
   "execution_count": null,
   "metadata": {
    "collapsed": true
   },
   "outputs": [],
   "source": [
    "# Legend the plot\n",
    "plt.title(\"Oscillations in the compressed trap\")\n",
    "plt.xlabel(\"time [ms]\")\n",
    "plt.ylabel(\"displacement [um]\")\n",
    "plt.legend(('x position', 'x fit', 'y position', 'y fit'))\n",
    "\n",
    "ax = plt.axes()\n",
    "\n",
    "plt.text(0.8, 0.07,\n",
    "         'x freq :  %.3f kHz \\n y freq :  %.3f kHz' % (1/p1[1],1/p2[1]),\n",
    "         fontsize=16,\n",
    "         horizontalalignment='center',\n",
    "         verticalalignment='center',\n",
    "         transform=ax.transAxes)\n"
   ]
  },
  {
   "cell_type": "code",
   "execution_count": null,
   "metadata": {
    "collapsed": true
   },
   "outputs": [],
   "source": [
    "p0 = [60., 1.5, 10, .5] # Initial guess for the parameters\n",
    "p3, success = optimize.leastsq(errfunc, p0[:], args=(x_data, y_data))"
   ]
  },
  {
   "cell_type": "code",
   "execution_count": null,
   "metadata": {
    "collapsed": true
   },
   "outputs": [],
   "source": [
    "fitfunc = lambda p, x: p[0]*np.cos(2*np.pi/p[1]*x+p[2]) + p[3]*x\n",
    "errfunc = lambda p, x, y: fitfunc(p, x) - y # Distance to the target function\n",
    "p3,success = optimize.leastsq(errfunc, p0[:], args=(x_data, y_data))"
   ]
  },
  {
   "cell_type": "code",
   "execution_count": null,
   "metadata": {
    "collapsed": false
   },
   "outputs": [],
   "source": [
    "p3"
   ]
  },
  {
   "cell_type": "code",
   "execution_count": null,
   "metadata": {
    "collapsed": false
   },
   "outputs": [],
   "source": [
    "plt.plot(x_data, fitfunc(p3, x_data))\n",
    "plt.plot(x_data, y_data, 'r-')"
   ]
  },
  {
   "cell_type": "code",
   "execution_count": null,
   "metadata": {
    "collapsed": true
   },
   "outputs": [],
   "source": [
    "p0 = [25., 0.9, 100, 100., .03, 10., 0.] # Initial guess for the parameters\n",
    "fitfunc = lambda p, x: p[0]*np.cos(2*np.pi/p[1]*x+p[2]) + p[3]*np.cos(2*np.pi/p[4]*x+p[5]) + p[6]*x\n",
    "errfunc = lambda p, x, y: fitfunc(p, x) - y # Distance to the target function\n",
    "p4,success = optimize.leastsq(errfunc, p0[:], args=(x_data, y_data))"
   ]
  },
  {
   "cell_type": "code",
   "execution_count": null,
   "metadata": {
    "collapsed": false
   },
   "outputs": [],
   "source": [
    "p4"
   ]
  },
  {
   "cell_type": "code",
   "execution_count": null,
   "metadata": {
    "collapsed": true
   },
   "outputs": [],
   "source": [
    "p4=[4.93372630e+03,   2.27757883e+00,   2.92263097e+04,\n",
    "         1.84129851e+03,   3.00972371e-01,   1.54301177e+03,\n",
    "        -3.53885845e-01]"
   ]
  },
  {
   "cell_type": "code",
   "execution_count": null,
   "metadata": {
    "collapsed": false
   },
   "outputs": [],
   "source": [
    "t"
   ]
  },
  {
   "cell_type": "code",
   "execution_count": null,
   "metadata": {
    "collapsed": false
   },
   "outputs": [],
   "source": [
    "\n",
    "f1 = 40  # Frequency, in cycles per second, or Hertz\n",
    "f2 = 12\n",
    "f_s = 3000  # Sampling rate, or number of measurements per second\n",
    "\n",
    "t = np.linspace(0, 2, 2 * f_s, endpoint=False)\n",
    "x = 2000*np.sin(f1 * 2 * np.pi * t - .5)+ 12000*np.sin(f2 * 2 * np.pi * t + 1.2)\n",
    "\n",
    "fig, ax = plt.subplots()\n",
    "ax.plot(t, x)\n",
    "ax.set_xlabel('Time [s]')\n",
    "ax.set_ylabel('Signal amplitude');\n",
    "X = fftpack.fft(x)\n",
    "freqs = fftpack.fftfreq(len(t)) * f_s\n",
    "\n",
    "fig, ax = plt.subplots()\n",
    "\n",
    "ax.stem(freqs, np.abs(X))\n",
    "ax.set_xlabel('Frequency in Hertz [Hz]')\n",
    "ax.set_ylabel('Frequency Domain (Spectrum) Magnitude')\n",
    "ax.set_xlim(-f_s / 2, f_s / 2)\n",
    "ax.set_ylim(-5, 110)"
   ]
  },
  {
   "cell_type": "code",
   "execution_count": null,
   "metadata": {
    "collapsed": false
   },
   "outputs": [],
   "source": [
    "x_data_new[1]-x_data_new[0]"
   ]
  },
  {
   "cell_type": "code",
   "execution_count": null,
   "metadata": {
    "collapsed": false
   },
   "outputs": [],
   "source": [
    "dt = x_data_new[1]-x_data_new[0]"
   ]
  },
  {
   "cell_type": "code",
   "execution_count": null,
   "metadata": {
    "collapsed": false
   },
   "outputs": [],
   "source": [
    "dt = x_data_new[1]-x_data_new[0]\n",
    "cycles_per_day = 1/dt"
   ]
  },
  {
   "cell_type": "code",
   "execution_count": null,
   "metadata": {
    "collapsed": false
   },
   "outputs": [],
   "source": [
    "cycles_per_day"
   ]
  },
  {
   "cell_type": "code",
   "execution_count": null,
   "metadata": {
    "collapsed": false
   },
   "outputs": [],
   "source": [
    "f_s = cycles_per_day  # Sampling rate, or number of measurements per day\n",
    "\n",
    "fig, ax = plt.subplots()\n",
    "ax.scatter(x_data_new, y_data_new)\n",
    "ax.set_xlabel('Time [days]')\n",
    "ax.set_ylabel('Signal amplitude');\n"
   ]
  },
  {
   "cell_type": "code",
   "execution_count": null,
   "metadata": {
    "collapsed": false
   },
   "outputs": [],
   "source": [
    "dt = x_data_new[1]-x_data_new[0]\n",
    "cycles_per_day = 1/dt\n",
    "X = fftpack.fft(y_data_new)\n",
    "freqs = fftpack.fftfreq(len(y_data_new)) * f_s"
   ]
  },
  {
   "cell_type": "code",
   "execution_count": null,
   "metadata": {
    "collapsed": false
   },
   "outputs": [],
   "source": [
    "fig, ax = plt.subplots()\n",
    "\n",
    "ax.stem(freqs, np.abs(X))\n",
    "ax.set_xlabel('Frequency in Cycles/Day')\n",
    "ax.set_ylabel('Frequency Domain (Spectrum) Magnitude')\n",
    "ax.set_xlim(0, 5)\n",
    "ax.set_ylim(-5, np.max(abs(X)))\n",
    "plt.savefig('fft_')"
   ]
  },
  {
   "cell_type": "code",
   "execution_count": null,
   "metadata": {
    "collapsed": false
   },
   "outputs": [],
   "source": [
    "freqs[freqs>0]"
   ]
  },
  {
   "cell_type": "code",
   "execution_count": null,
   "metadata": {
    "collapsed": false
   },
   "outputs": [],
   "source": [
    "mags = np.abs(X[np.where(freqs>0.01)])"
   ]
  },
  {
   "cell_type": "code",
   "execution_count": null,
   "metadata": {
    "collapsed": false
   },
   "outputs": [],
   "source": [
    "np.max(mags)"
   ]
  },
  {
   "cell_type": "code",
   "execution_count": null,
   "metadata": {
    "collapsed": true
   },
   "outputs": [],
   "source": [
    "mags = np.abs(X[np.where(freqs>0.01)])\n",
    "ind = np.argpartition(mags,-2)[-2:]"
   ]
  },
  {
   "cell_type": "code",
   "execution_count": null,
   "metadata": {
    "collapsed": false
   },
   "outputs": [],
   "source": [
    "freqs[ind]"
   ]
  },
  {
   "cell_type": "code",
   "execution_count": null,
   "metadata": {
    "collapsed": false
   },
   "outputs": [],
   "source": [
    "mags[ind].max()/mags[ind].min()"
   ]
  },
  {
   "cell_type": "code",
   "execution_count": null,
   "metadata": {
    "collapsed": false
   },
   "outputs": [],
   "source": [
    "mags[ind][2]/mags[ind][1]"
   ]
  },
  {
   "cell_type": "code",
   "execution_count": null,
   "metadata": {
    "collapsed": true
   },
   "outputs": [],
   "source": [
    "p = [mags[ind][1], 1/freqs[ind][1], 0, 0]"
   ]
  },
  {
   "cell_type": "code",
   "execution_count": null,
   "metadata": {
    "collapsed": false
   },
   "outputs": [],
   "source": [
    "p"
   ]
  },
  {
   "cell_type": "code",
   "execution_count": null,
   "metadata": {
    "collapsed": false
   },
   "outputs": [],
   "source": [
    "multifitfunc = lambda p, x: p[0]*np.cos(2*np.pi/p[1]*x+p[2]) + p[3]*x\n",
    "errfunc = lambda p, x, y: multifitfunc(p, x) - y # Distance to the target function\n",
    "p0 = p # Initial guess for the parameters\n",
    "p1, success = optimize.leastsq(errfunc, p0[:], args=(x_data, y_data))"
   ]
  },
  {
   "cell_type": "code",
   "execution_count": null,
   "metadata": {
    "collapsed": false
   },
   "outputs": [],
   "source": [
    "p1"
   ]
  },
  {
   "cell_type": "code",
   "execution_count": null,
   "metadata": {
    "collapsed": false
   },
   "outputs": [],
   "source": [
    "plt.plot(x_data,multifitfunc(p1, x_data))"
   ]
  },
  {
   "cell_type": "code",
   "execution_count": null,
   "metadata": {
    "collapsed": false
   },
   "outputs": [],
   "source": [
    "N = 50"
   ]
  },
  {
   "cell_type": "code",
   "execution_count": null,
   "metadata": {
    "collapsed": false
   },
   "outputs": [],
   "source": [
    "y_data_sub = y_data-multifitfunc(p1, x_data)\n",
    "thresh_value = np.mean(y_data)+1.5*np.std(y_data)\n",
    "k2_30_sub_low_pass = np.convolve(y_data_sub, np.ones((N,))/N, mode='full')\n",
    "k2_30_sub_low_pass = k2_30_sub_low_pass[(len(k2_30_sub_low_pass) - len(y_data))/2:-(len(k2_30_sub_low_pass) - len(y_data))/2]"
   ]
  },
  {
   "cell_type": "code",
   "execution_count": null,
   "metadata": {
    "collapsed": false
   },
   "outputs": [],
   "source": [
    "len(y_data_sub), len(x_data), len(multifitfunc(p1, x_data)), len(y_data),len(k2_30_sub_low_pass)"
   ]
  },
  {
   "cell_type": "code",
   "execution_count": null,
   "metadata": {
    "collapsed": false
   },
   "outputs": [],
   "source": [
    "(len(k2_30_sub_low_pass) - len(y_data))/2"
   ]
  },
  {
   "cell_type": "code",
   "execution_count": null,
   "metadata": {
    "collapsed": false
   },
   "outputs": [],
   "source": [
    "len(k2_30_sub_low_pass[(len(k2_30_sub_low_pass) - len(y_data))/2:-(len(k2_30_sub_low_pass) - len(y_data))/2])"
   ]
  },
  {
   "cell_type": "code",
   "execution_count": null,
   "metadata": {
    "collapsed": false
   },
   "outputs": [],
   "source": [
    "plt.plot(x_data, y_data)"
   ]
  },
  {
   "cell_type": "code",
   "execution_count": null,
   "metadata": {
    "collapsed": false
   },
   "outputs": [],
   "source": [
    "plt.scatter(x_data,y_data_sub)"
   ]
  },
  {
   "cell_type": "code",
   "execution_count": null,
   "metadata": {
    "collapsed": true
   },
   "outputs": [],
   "source": [
    "fig, ax = plt.subplots()\n",
    "\n",
    "ax.stem(x_data, k2_30_sub[])"
   ]
  },
  {
   "cell_type": "code",
   "execution_count": null,
   "metadata": {
    "collapsed": false
   },
   "outputs": [],
   "source": [
    "flairs = []\n",
    "flairs_time = np.zeros(len(k2_30_sub))\n",
    "for idx, row in k2_30_sub.iterrows():\n",
    "    if row['flux']>k2_30_sub_low_pass[idx]:\n",
    "        flairs_time[idx] = row['flux']\n",
    "        flairs.append(row['flux'])"
   ]
  },
  {
   "cell_type": "code",
   "execution_count": null,
   "metadata": {
    "collapsed": false
   },
   "outputs": [],
   "source": [
    "plt.scatter(x_data, flairs_time)"
   ]
  },
  {
   "cell_type": "code",
   "execution_count": null,
   "metadata": {
    "collapsed": false
   },
   "outputs": [],
   "source": [
    "np.mean(flairs)"
   ]
  },
  {
   "cell_type": "code",
   "execution_count": null,
   "metadata": {
    "collapsed": true
   },
   "outputs": [],
   "source": [
    "flairs_z_score = (flairs - np.mean(flairs))/np.std(flairs)"
   ]
  },
  {
   "cell_type": "code",
   "execution_count": null,
   "metadata": {
    "collapsed": true
   },
   "outputs": [],
   "source": [
    "hist = np.histogram(flairs_z_score, bins=15)"
   ]
  },
  {
   "cell_type": "code",
   "execution_count": null,
   "metadata": {
    "collapsed": false
   },
   "outputs": [],
   "source": [
    "hist"
   ]
  },
  {
   "cell_type": "code",
   "execution_count": null,
   "metadata": {
    "collapsed": false
   },
   "outputs": [],
   "source": [
    "plt.hist(flairs_z_score[flairs_z_score>0])"
   ]
  },
  {
   "cell_type": "code",
   "execution_count": null,
   "metadata": {
    "collapsed": false
   },
   "outputs": [],
   "source": [
    "flairs_z_score[flairs_z_score>0]"
   ]
  },
  {
   "cell_type": "code",
   "execution_count": null,
   "metadata": {
    "collapsed": false
   },
   "outputs": [],
   "source": [
    "ticks=map(str,map(int,hist[1][1:]))\n",
    "len(ticks)"
   ]
  },
  {
   "cell_type": "code",
   "execution_count": null,
   "metadata": {
    "collapsed": true
   },
   "outputs": [],
   "source": [
    "plt.show()"
   ]
  },
  {
   "cell_type": "code",
   "execution_count": null,
   "metadata": {
    "collapsed": false
   },
   "outputs": [],
   "source": [
    "thresh_value = np.mean(k2_30_sub_low_pass + 4*np.std(k2_30_sub_low_pass))"
   ]
  },
  {
   "cell_type": "code",
   "execution_count": null,
   "metadata": {
    "collapsed": false
   },
   "outputs": [],
   "source": [
    "thresh_value"
   ]
  },
  {
   "cell_type": "code",
   "execution_count": null,
   "metadata": {
    "collapsed": false
   },
   "outputs": [],
   "source": [
    "thresh_array = np.zeros(len(x_data)) + thresh_value"
   ]
  },
  {
   "cell_type": "code",
   "execution_count": null,
   "metadata": {
    "collapsed": false
   },
   "outputs": [],
   "source": [
    "plt.plot(x_data, y_data_sub)\n",
    "plt.plot(x_data, thresh_array)"
   ]
  },
  {
   "cell_type": "code",
   "execution_count": null,
   "metadata": {
    "collapsed": false
   },
   "outputs": [],
   "source": [
    "flux = k2_30_sub['flux']"
   ]
  },
  {
   "cell_type": "code",
   "execution_count": null,
   "metadata": {
    "collapsed": false
   },
   "outputs": [],
   "source": [
    "flair_points = flux[flux>thresh_value]"
   ]
  },
  {
   "cell_type": "code",
   "execution_count": null,
   "metadata": {
    "collapsed": false
   },
   "outputs": [],
   "source": [
    "indices = np.array(flair_points.index)"
   ]
  },
  {
   "cell_type": "code",
   "execution_count": null,
   "metadata": {
    "collapsed": false
   },
   "outputs": [],
   "source": [
    "indices.dtype"
   ]
  },
  {
   "cell_type": "code",
   "execution_count": null,
   "metadata": {
    "collapsed": false
   },
   "outputs": [],
   "source": [
    "it = np.nditer(indices, flags=['c_index'])"
   ]
  },
  {
   "cell_type": "code",
   "execution_count": null,
   "metadata": {
    "collapsed": false
   },
   "outputs": [],
   "source": [
    "flairs = 0\n",
    "above_thresh = False\n",
    "while not it.finished:\n",
    "    if (it.index < len(indices)-1) and (indices[it.index +1] - indices[it.index] == 1) and not above_thresh:\n",
    "        above_thresh = True\n",
    "        print indices[it.index]\n",
    "        flairs += 1\n",
    "    else:\n",
    "        above_thresh = False\n",
    "    it.iternext() \n",
    "print(flairs)"
   ]
  },
  {
   "cell_type": "code",
   "execution_count": null,
   "metadata": {
    "collapsed": true
   },
   "outputs": [],
   "source": [
    "# Magnitude 1, period 1, phase 1, magnitude2, phase2, offset\n",
    "\n",
    "pm = [mags[ind][0], 1/freqs[ind][0], 0, mags[ind][1], 1/freqs[ind][1], 0, 0]"
   ]
  },
  {
   "cell_type": "code",
   "execution_count": null,
   "metadata": {
    "collapsed": false
   },
   "outputs": [],
   "source": [
    "mags"
   ]
  },
  {
   "cell_type": "code",
   "execution_count": null,
   "metadata": {
    "collapsed": false
   },
   "outputs": [],
   "source": [
    "pm"
   ]
  },
  {
   "cell_type": "code",
   "execution_count": null,
   "metadata": {
    "collapsed": false
   },
   "outputs": [],
   "source": [
    "multifitfunc2 = lambda p, x: p[0]*np.cos(2*np.pi/p[1]*x+p[2]) + p[3]*np.cos(2*np.pi/p[4]*x+p[5]) +p[6]*x\n",
    "errfunc = lambda p, x, y: multifitfunc2(p, x) - y # Distance to the target function\n",
    "p0 = pm # Initial guess for the parameters\n",
    "p1m, success = optimize.leastsq(errfunc, p0[:], args=(x_data, y_data))"
   ]
  },
  {
   "cell_type": "code",
   "execution_count": null,
   "metadata": {
    "collapsed": false
   },
   "outputs": [],
   "source": [
    "fit = multifitfunc2(p1m, x_data)"
   ]
  },
  {
   "cell_type": "code",
   "execution_count": null,
   "metadata": {
    "collapsed": false
   },
   "outputs": [],
   "source": [
    "p1m"
   ]
  },
  {
   "cell_type": "code",
   "execution_count": null,
   "metadata": {
    "collapsed": false
   },
   "outputs": [],
   "source": [
    "plt.plot(x_data,y_data)\n",
    "plt.plot(x_data,10*fit+5000)"
   ]
  },
  {
   "cell_type": "code",
   "execution_count": null,
   "metadata": {
    "collapsed": true
   },
   "outputs": [],
   "source": [
    "from scipy.interpolate import CubicSpline"
   ]
  },
  {
   "cell_type": "code",
   "execution_count": null,
   "metadata": {
    "collapsed": false
   },
   "outputs": [],
   "source": [
    "cs = CubicSpline(x_data, y_data)"
   ]
  },
  {
   "cell_type": "code",
   "execution_count": null,
   "metadata": {
    "collapsed": false
   },
   "outputs": [],
   "source": [
    "x_data[0],x_data.values[-1]"
   ]
  },
  {
   "cell_type": "code",
   "execution_count": null,
   "metadata": {
    "collapsed": false
   },
   "outputs": [],
   "source": [
    "xs = np.arange(x_data[0], x_data.values[-1], 1)"
   ]
  },
  {
   "cell_type": "code",
   "execution_count": null,
   "metadata": {
    "collapsed": false
   },
   "outputs": [],
   "source": [
    "plt.scatter(x_data,y_data)\n",
    "plt.plot(x_data, cs(x_data),'-r')"
   ]
  },
  {
   "cell_type": "code",
   "execution_count": null,
   "metadata": {
    "collapsed": true
   },
   "outputs": [],
   "source": [
    "x1_data = k2['time']\n",
    "y1_data = k2['flux']"
   ]
  },
  {
   "cell_type": "code",
   "execution_count": null,
   "metadata": {
    "collapsed": false
   },
   "outputs": [],
   "source": [
    "plt.scatter(x1_data,y1_data)\n",
    "plt.plot(x1_data, y1_data,'-r')"
   ]
  },
  {
   "cell_type": "code",
   "execution_count": null,
   "metadata": {
    "collapsed": true
   },
   "outputs": [],
   "source": [
    "it = np.nditer(y_data, flags=['c_index'])"
   ]
  },
  {
   "cell_type": "code",
   "execution_count": null,
   "metadata": {
    "collapsed": false
   },
   "outputs": [],
   "source": [
    "d1 = np.zeros(len(x1_data))\n",
    "dt = np.zeros(len(x1_data))\n",
    "while not it.finished:\n",
    "    if it.index < len(y1_data)-1:\n",
    "        dt[it.index] = x1_data[it.index + 1] - x1_data[it.index]\n",
    "        d1[it.index] = (y1_data[it.index + 1] - y1_data[it.index])/(x1_data[it.index + 1] - x1_data[it.index])\n",
    "    \n",
    "    it.iternext() \n",
    "    "
   ]
  },
  {
   "cell_type": "code",
   "execution_count": null,
   "metadata": {
    "collapsed": false
   },
   "outputs": [],
   "source": [
    "d1"
   ]
  },
  {
   "cell_type": "code",
   "execution_count": null,
   "metadata": {
    "collapsed": false
   },
   "outputs": [],
   "source": [
    "pos_threshold = np.std(d1[d1>0])+np.mean(d1[d1>0])\n",
    "neg_threshold = -np.std(d1[d1<0])+np.mean(d1[d1<0])"
   ]
  },
  {
   "cell_type": "code",
   "execution_count": null,
   "metadata": {
    "collapsed": false
   },
   "outputs": [],
   "source": [
    "plt.scatter(x_data, y_data, s=5)"
   ]
  },
  {
   "cell_type": "code",
   "execution_count": null,
   "metadata": {
    "collapsed": true
   },
   "outputs": [],
   "source": [
    "pos_threshold_line = np.zeros(len(x_data)) + pos_threshold\n",
    "neg_threshold_line = np.zeros(len(x_data)) + neg_threshold"
   ]
  },
  {
   "cell_type": "code",
   "execution_count": null,
   "metadata": {
    "collapsed": false
   },
   "outputs": [],
   "source": [
    "plt.plot(x1_data, d1,'-r')\n",
    "plt.scatter(x1_data, y1_data, s=5)\n",
    "\n",
    "plt.plot(x1_data, pos_threshold_line,'-g')\n",
    "plt.plot(x1_data, neg_threshold_line,'-g')"
   ]
  },
  {
   "cell_type": "code",
   "execution_count": null,
   "metadata": {
    "collapsed": false
   },
   "outputs": [],
   "source": [
    "len(d1[d1>pos_threshold])"
   ]
  },
  {
   "cell_type": "code",
   "execution_count": null,
   "metadata": {
    "collapsed": false
   },
   "outputs": [],
   "source": [
    "np.where(d1>pos_threshold)[0]"
   ]
  },
  {
   "cell_type": "code",
   "execution_count": null,
   "metadata": {
    "collapsed": false
   },
   "outputs": [],
   "source": [
    "np.where(d1<neg_threshold)[0]"
   ]
  },
  {
   "cell_type": "code",
   "execution_count": null,
   "metadata": {
    "collapsed": false
   },
   "outputs": [],
   "source": [
    "d1_thresh = np.concatenate((np.where(d1>pos_threshold)[0], np.where(d1<neg_threshold)[0]))"
   ]
  },
  {
   "cell_type": "code",
   "execution_count": null,
   "metadata": {
    "collapsed": false
   },
   "outputs": [],
   "source": [
    "indices = np.sort(d1_thresh)"
   ]
  },
  {
   "cell_type": "code",
   "execution_count": null,
   "metadata": {
    "collapsed": false
   },
   "outputs": [],
   "source": [
    "it = np.nditer(indices, flags=['c_index'])\n",
    "flairs = 0\n",
    "above_thresh = False\n",
    "while not it.finished:\n",
    "    if (it.index < len(indices)-1) and (indices[it.index +1] - indices[it.index] == 1) and not above_thresh:\n",
    "        above_thresh = True\n",
    "        print indices[it.index]\n",
    "        flairs += 1\n",
    "    else:\n",
    "        above_thresh = False\n",
    "    it.iternext() \n",
    "print(flairs)"
   ]
  },
  {
   "cell_type": "code",
   "execution_count": 2,
   "metadata": {
    "collapsed": true
   },
   "outputs": [],
   "source": [
    "from scipy import interpolate"
   ]
  },
  {
   "cell_type": "code",
   "execution_count": null,
   "metadata": {
    "collapsed": true
   },
   "outputs": [],
   "source": [
    "f = interpolate.interp1d(x_data, y_data)"
   ]
  },
  {
   "cell_type": "code",
   "execution_count": null,
   "metadata": {
    "collapsed": false
   },
   "outputs": [],
   "source": [
    "y_data_new = f(x_data_new)"
   ]
  },
  {
   "cell_type": "code",
   "execution_count": null,
   "metadata": {
    "collapsed": true
   },
   "outputs": [],
   "source": [
    "x_data_new = np.arange(x_data.min(), x_data.max(), .02)"
   ]
  },
  {
   "cell_type": "code",
   "execution_count": null,
   "metadata": {
    "collapsed": false
   },
   "outputs": [],
   "source": [
    "len(x_data_new),len(y_data_new)"
   ]
  },
  {
   "cell_type": "code",
   "execution_count": null,
   "metadata": {
    "collapsed": false
   },
   "outputs": [],
   "source": [
    "plt.scatter(x_data_new,y_data_new)"
   ]
  },
  {
   "cell_type": "code",
   "execution_count": 12,
   "metadata": {
    "collapsed": false
   },
   "outputs": [],
   "source": [
    "k2 = pd.read_csv('/Devel/k2/data/C4/COOL/210865020.csv')\n",
    "k2.columns = ['time','flux','error']\n",
    "x_data = k2['time']\n",
    "y_data = k2['flux']\n",
    "f = interpolate.interp1d(x_data, y_data)\n",
    "x_data_new = np.arange(x_data.min(), x_data.max(), .02)\n",
    "y_data_new = f(x_data_new)"
   ]
  },
  {
   "cell_type": "code",
   "execution_count": 13,
   "metadata": {
    "collapsed": true
   },
   "outputs": [],
   "source": [
    "dt = x_data_new[1]-x_data_new[0]\n",
    "cycles_per_day = 1/dt\n",
    "X = fftpack.fft(y_data_new)\n",
    "freqs = fftpack.fftfreq(len(y_data_new)) * cycles_per_day"
   ]
  },
  {
   "cell_type": "code",
   "execution_count": 22,
   "metadata": {
    "collapsed": false
   },
   "outputs": [
    {
     "data": {
      "application/javascript": [
       "/* Put everything inside the global mpl namespace */\n",
       "window.mpl = {};\n",
       "\n",
       "\n",
       "mpl.get_websocket_type = function() {\n",
       "    if (typeof(WebSocket) !== 'undefined') {\n",
       "        return WebSocket;\n",
       "    } else if (typeof(MozWebSocket) !== 'undefined') {\n",
       "        return MozWebSocket;\n",
       "    } else {\n",
       "        alert('Your browser does not have WebSocket support.' +\n",
       "              'Please try Chrome, Safari or Firefox ≥ 6. ' +\n",
       "              'Firefox 4 and 5 are also supported but you ' +\n",
       "              'have to enable WebSockets in about:config.');\n",
       "    };\n",
       "}\n",
       "\n",
       "mpl.figure = function(figure_id, websocket, ondownload, parent_element) {\n",
       "    this.id = figure_id;\n",
       "\n",
       "    this.ws = websocket;\n",
       "\n",
       "    this.supports_binary = (this.ws.binaryType != undefined);\n",
       "\n",
       "    if (!this.supports_binary) {\n",
       "        var warnings = document.getElementById(\"mpl-warnings\");\n",
       "        if (warnings) {\n",
       "            warnings.style.display = 'block';\n",
       "            warnings.textContent = (\n",
       "                \"This browser does not support binary websocket messages. \" +\n",
       "                    \"Performance may be slow.\");\n",
       "        }\n",
       "    }\n",
       "\n",
       "    this.imageObj = new Image();\n",
       "\n",
       "    this.context = undefined;\n",
       "    this.message = undefined;\n",
       "    this.canvas = undefined;\n",
       "    this.rubberband_canvas = undefined;\n",
       "    this.rubberband_context = undefined;\n",
       "    this.format_dropdown = undefined;\n",
       "\n",
       "    this.image_mode = 'full';\n",
       "\n",
       "    this.root = $('<div/>');\n",
       "    this._root_extra_style(this.root)\n",
       "    this.root.attr('style', 'display: inline-block');\n",
       "\n",
       "    $(parent_element).append(this.root);\n",
       "\n",
       "    this._init_header(this);\n",
       "    this._init_canvas(this);\n",
       "    this._init_toolbar(this);\n",
       "\n",
       "    var fig = this;\n",
       "\n",
       "    this.waiting = false;\n",
       "\n",
       "    this.ws.onopen =  function () {\n",
       "            fig.send_message(\"supports_binary\", {value: fig.supports_binary});\n",
       "            fig.send_message(\"send_image_mode\", {});\n",
       "            if (mpl.ratio != 1) {\n",
       "                fig.send_message(\"set_dpi_ratio\", {'dpi_ratio': mpl.ratio});\n",
       "            }\n",
       "            fig.send_message(\"refresh\", {});\n",
       "        }\n",
       "\n",
       "    this.imageObj.onload = function() {\n",
       "            if (fig.image_mode == 'full') {\n",
       "                // Full images could contain transparency (where diff images\n",
       "                // almost always do), so we need to clear the canvas so that\n",
       "                // there is no ghosting.\n",
       "                fig.context.clearRect(0, 0, fig.canvas.width, fig.canvas.height);\n",
       "            }\n",
       "            fig.context.drawImage(fig.imageObj, 0, 0);\n",
       "        };\n",
       "\n",
       "    this.imageObj.onunload = function() {\n",
       "        fig.ws.close();\n",
       "    }\n",
       "\n",
       "    this.ws.onmessage = this._make_on_message_function(this);\n",
       "\n",
       "    this.ondownload = ondownload;\n",
       "}\n",
       "\n",
       "mpl.figure.prototype._init_header = function() {\n",
       "    var titlebar = $(\n",
       "        '<div class=\"ui-dialog-titlebar ui-widget-header ui-corner-all ' +\n",
       "        'ui-helper-clearfix\"/>');\n",
       "    var titletext = $(\n",
       "        '<div class=\"ui-dialog-title\" style=\"width: 100%; ' +\n",
       "        'text-align: center; padding: 3px;\"/>');\n",
       "    titlebar.append(titletext)\n",
       "    this.root.append(titlebar);\n",
       "    this.header = titletext[0];\n",
       "}\n",
       "\n",
       "\n",
       "\n",
       "mpl.figure.prototype._canvas_extra_style = function(canvas_div) {\n",
       "\n",
       "}\n",
       "\n",
       "\n",
       "mpl.figure.prototype._root_extra_style = function(canvas_div) {\n",
       "\n",
       "}\n",
       "\n",
       "mpl.figure.prototype._init_canvas = function() {\n",
       "    var fig = this;\n",
       "\n",
       "    var canvas_div = $('<div/>');\n",
       "\n",
       "    canvas_div.attr('style', 'position: relative; clear: both; outline: 0');\n",
       "\n",
       "    function canvas_keyboard_event(event) {\n",
       "        return fig.key_event(event, event['data']);\n",
       "    }\n",
       "\n",
       "    canvas_div.keydown('key_press', canvas_keyboard_event);\n",
       "    canvas_div.keyup('key_release', canvas_keyboard_event);\n",
       "    this.canvas_div = canvas_div\n",
       "    this._canvas_extra_style(canvas_div)\n",
       "    this.root.append(canvas_div);\n",
       "\n",
       "    var canvas = $('<canvas/>');\n",
       "    canvas.addClass('mpl-canvas');\n",
       "    canvas.attr('style', \"left: 0; top: 0; z-index: 0; outline: 0\")\n",
       "\n",
       "    this.canvas = canvas[0];\n",
       "    this.context = canvas[0].getContext(\"2d\");\n",
       "\n",
       "    var backingStore = this.context.backingStorePixelRatio ||\n",
       "\tthis.context.webkitBackingStorePixelRatio ||\n",
       "\tthis.context.mozBackingStorePixelRatio ||\n",
       "\tthis.context.msBackingStorePixelRatio ||\n",
       "\tthis.context.oBackingStorePixelRatio ||\n",
       "\tthis.context.backingStorePixelRatio || 1;\n",
       "\n",
       "    mpl.ratio = (window.devicePixelRatio || 1) / backingStore;\n",
       "\n",
       "    var rubberband = $('<canvas/>');\n",
       "    rubberband.attr('style', \"position: absolute; left: 0; top: 0; z-index: 1;\")\n",
       "\n",
       "    var pass_mouse_events = true;\n",
       "\n",
       "    canvas_div.resizable({\n",
       "        start: function(event, ui) {\n",
       "            pass_mouse_events = false;\n",
       "        },\n",
       "        resize: function(event, ui) {\n",
       "            fig.request_resize(ui.size.width, ui.size.height);\n",
       "        },\n",
       "        stop: function(event, ui) {\n",
       "            pass_mouse_events = true;\n",
       "            fig.request_resize(ui.size.width, ui.size.height);\n",
       "        },\n",
       "    });\n",
       "\n",
       "    function mouse_event_fn(event) {\n",
       "        if (pass_mouse_events)\n",
       "            return fig.mouse_event(event, event['data']);\n",
       "    }\n",
       "\n",
       "    rubberband.mousedown('button_press', mouse_event_fn);\n",
       "    rubberband.mouseup('button_release', mouse_event_fn);\n",
       "    // Throttle sequential mouse events to 1 every 20ms.\n",
       "    rubberband.mousemove('motion_notify', mouse_event_fn);\n",
       "\n",
       "    rubberband.mouseenter('figure_enter', mouse_event_fn);\n",
       "    rubberband.mouseleave('figure_leave', mouse_event_fn);\n",
       "\n",
       "    canvas_div.on(\"wheel\", function (event) {\n",
       "        event = event.originalEvent;\n",
       "        event['data'] = 'scroll'\n",
       "        if (event.deltaY < 0) {\n",
       "            event.step = 1;\n",
       "        } else {\n",
       "            event.step = -1;\n",
       "        }\n",
       "        mouse_event_fn(event);\n",
       "    });\n",
       "\n",
       "    canvas_div.append(canvas);\n",
       "    canvas_div.append(rubberband);\n",
       "\n",
       "    this.rubberband = rubberband;\n",
       "    this.rubberband_canvas = rubberband[0];\n",
       "    this.rubberband_context = rubberband[0].getContext(\"2d\");\n",
       "    this.rubberband_context.strokeStyle = \"#000000\";\n",
       "\n",
       "    this._resize_canvas = function(width, height) {\n",
       "        // Keep the size of the canvas, canvas container, and rubber band\n",
       "        // canvas in synch.\n",
       "        canvas_div.css('width', width)\n",
       "        canvas_div.css('height', height)\n",
       "\n",
       "        canvas.attr('width', width * mpl.ratio);\n",
       "        canvas.attr('height', height * mpl.ratio);\n",
       "        canvas.attr('style', 'width: ' + width + 'px; height: ' + height + 'px;');\n",
       "\n",
       "        rubberband.attr('width', width);\n",
       "        rubberband.attr('height', height);\n",
       "    }\n",
       "\n",
       "    // Set the figure to an initial 600x600px, this will subsequently be updated\n",
       "    // upon first draw.\n",
       "    this._resize_canvas(600, 600);\n",
       "\n",
       "    // Disable right mouse context menu.\n",
       "    $(this.rubberband_canvas).bind(\"contextmenu\",function(e){\n",
       "        return false;\n",
       "    });\n",
       "\n",
       "    function set_focus () {\n",
       "        canvas.focus();\n",
       "        canvas_div.focus();\n",
       "    }\n",
       "\n",
       "    window.setTimeout(set_focus, 100);\n",
       "}\n",
       "\n",
       "mpl.figure.prototype._init_toolbar = function() {\n",
       "    var fig = this;\n",
       "\n",
       "    var nav_element = $('<div/>')\n",
       "    nav_element.attr('style', 'width: 100%');\n",
       "    this.root.append(nav_element);\n",
       "\n",
       "    // Define a callback function for later on.\n",
       "    function toolbar_event(event) {\n",
       "        return fig.toolbar_button_onclick(event['data']);\n",
       "    }\n",
       "    function toolbar_mouse_event(event) {\n",
       "        return fig.toolbar_button_onmouseover(event['data']);\n",
       "    }\n",
       "\n",
       "    for(var toolbar_ind in mpl.toolbar_items) {\n",
       "        var name = mpl.toolbar_items[toolbar_ind][0];\n",
       "        var tooltip = mpl.toolbar_items[toolbar_ind][1];\n",
       "        var image = mpl.toolbar_items[toolbar_ind][2];\n",
       "        var method_name = mpl.toolbar_items[toolbar_ind][3];\n",
       "\n",
       "        if (!name) {\n",
       "            // put a spacer in here.\n",
       "            continue;\n",
       "        }\n",
       "        var button = $('<button/>');\n",
       "        button.addClass('ui-button ui-widget ui-state-default ui-corner-all ' +\n",
       "                        'ui-button-icon-only');\n",
       "        button.attr('role', 'button');\n",
       "        button.attr('aria-disabled', 'false');\n",
       "        button.click(method_name, toolbar_event);\n",
       "        button.mouseover(tooltip, toolbar_mouse_event);\n",
       "\n",
       "        var icon_img = $('<span/>');\n",
       "        icon_img.addClass('ui-button-icon-primary ui-icon');\n",
       "        icon_img.addClass(image);\n",
       "        icon_img.addClass('ui-corner-all');\n",
       "\n",
       "        var tooltip_span = $('<span/>');\n",
       "        tooltip_span.addClass('ui-button-text');\n",
       "        tooltip_span.html(tooltip);\n",
       "\n",
       "        button.append(icon_img);\n",
       "        button.append(tooltip_span);\n",
       "\n",
       "        nav_element.append(button);\n",
       "    }\n",
       "\n",
       "    var fmt_picker_span = $('<span/>');\n",
       "\n",
       "    var fmt_picker = $('<select/>');\n",
       "    fmt_picker.addClass('mpl-toolbar-option ui-widget ui-widget-content');\n",
       "    fmt_picker_span.append(fmt_picker);\n",
       "    nav_element.append(fmt_picker_span);\n",
       "    this.format_dropdown = fmt_picker[0];\n",
       "\n",
       "    for (var ind in mpl.extensions) {\n",
       "        var fmt = mpl.extensions[ind];\n",
       "        var option = $(\n",
       "            '<option/>', {selected: fmt === mpl.default_extension}).html(fmt);\n",
       "        fmt_picker.append(option)\n",
       "    }\n",
       "\n",
       "    // Add hover states to the ui-buttons\n",
       "    $( \".ui-button\" ).hover(\n",
       "        function() { $(this).addClass(\"ui-state-hover\");},\n",
       "        function() { $(this).removeClass(\"ui-state-hover\");}\n",
       "    );\n",
       "\n",
       "    var status_bar = $('<span class=\"mpl-message\"/>');\n",
       "    nav_element.append(status_bar);\n",
       "    this.message = status_bar[0];\n",
       "}\n",
       "\n",
       "mpl.figure.prototype.request_resize = function(x_pixels, y_pixels) {\n",
       "    // Request matplotlib to resize the figure. Matplotlib will then trigger a resize in the client,\n",
       "    // which will in turn request a refresh of the image.\n",
       "    this.send_message('resize', {'width': x_pixels, 'height': y_pixels});\n",
       "}\n",
       "\n",
       "mpl.figure.prototype.send_message = function(type, properties) {\n",
       "    properties['type'] = type;\n",
       "    properties['figure_id'] = this.id;\n",
       "    this.ws.send(JSON.stringify(properties));\n",
       "}\n",
       "\n",
       "mpl.figure.prototype.send_draw_message = function() {\n",
       "    if (!this.waiting) {\n",
       "        this.waiting = true;\n",
       "        this.ws.send(JSON.stringify({type: \"draw\", figure_id: this.id}));\n",
       "    }\n",
       "}\n",
       "\n",
       "\n",
       "mpl.figure.prototype.handle_save = function(fig, msg) {\n",
       "    var format_dropdown = fig.format_dropdown;\n",
       "    var format = format_dropdown.options[format_dropdown.selectedIndex].value;\n",
       "    fig.ondownload(fig, format);\n",
       "}\n",
       "\n",
       "\n",
       "mpl.figure.prototype.handle_resize = function(fig, msg) {\n",
       "    var size = msg['size'];\n",
       "    if (size[0] != fig.canvas.width || size[1] != fig.canvas.height) {\n",
       "        fig._resize_canvas(size[0], size[1]);\n",
       "        fig.send_message(\"refresh\", {});\n",
       "    };\n",
       "}\n",
       "\n",
       "mpl.figure.prototype.handle_rubberband = function(fig, msg) {\n",
       "    var x0 = msg['x0'] / mpl.ratio;\n",
       "    var y0 = (fig.canvas.height - msg['y0']) / mpl.ratio;\n",
       "    var x1 = msg['x1'] / mpl.ratio;\n",
       "    var y1 = (fig.canvas.height - msg['y1']) / mpl.ratio;\n",
       "    x0 = Math.floor(x0) + 0.5;\n",
       "    y0 = Math.floor(y0) + 0.5;\n",
       "    x1 = Math.floor(x1) + 0.5;\n",
       "    y1 = Math.floor(y1) + 0.5;\n",
       "    var min_x = Math.min(x0, x1);\n",
       "    var min_y = Math.min(y0, y1);\n",
       "    var width = Math.abs(x1 - x0);\n",
       "    var height = Math.abs(y1 - y0);\n",
       "\n",
       "    fig.rubberband_context.clearRect(\n",
       "        0, 0, fig.canvas.width, fig.canvas.height);\n",
       "\n",
       "    fig.rubberband_context.strokeRect(min_x, min_y, width, height);\n",
       "}\n",
       "\n",
       "mpl.figure.prototype.handle_figure_label = function(fig, msg) {\n",
       "    // Updates the figure title.\n",
       "    fig.header.textContent = msg['label'];\n",
       "}\n",
       "\n",
       "mpl.figure.prototype.handle_cursor = function(fig, msg) {\n",
       "    var cursor = msg['cursor'];\n",
       "    switch(cursor)\n",
       "    {\n",
       "    case 0:\n",
       "        cursor = 'pointer';\n",
       "        break;\n",
       "    case 1:\n",
       "        cursor = 'default';\n",
       "        break;\n",
       "    case 2:\n",
       "        cursor = 'crosshair';\n",
       "        break;\n",
       "    case 3:\n",
       "        cursor = 'move';\n",
       "        break;\n",
       "    }\n",
       "    fig.rubberband_canvas.style.cursor = cursor;\n",
       "}\n",
       "\n",
       "mpl.figure.prototype.handle_message = function(fig, msg) {\n",
       "    fig.message.textContent = msg['message'];\n",
       "}\n",
       "\n",
       "mpl.figure.prototype.handle_draw = function(fig, msg) {\n",
       "    // Request the server to send over a new figure.\n",
       "    fig.send_draw_message();\n",
       "}\n",
       "\n",
       "mpl.figure.prototype.handle_image_mode = function(fig, msg) {\n",
       "    fig.image_mode = msg['mode'];\n",
       "}\n",
       "\n",
       "mpl.figure.prototype.updated_canvas_event = function() {\n",
       "    // Called whenever the canvas gets updated.\n",
       "    this.send_message(\"ack\", {});\n",
       "}\n",
       "\n",
       "// A function to construct a web socket function for onmessage handling.\n",
       "// Called in the figure constructor.\n",
       "mpl.figure.prototype._make_on_message_function = function(fig) {\n",
       "    return function socket_on_message(evt) {\n",
       "        if (evt.data instanceof Blob) {\n",
       "            /* FIXME: We get \"Resource interpreted as Image but\n",
       "             * transferred with MIME type text/plain:\" errors on\n",
       "             * Chrome.  But how to set the MIME type?  It doesn't seem\n",
       "             * to be part of the websocket stream */\n",
       "            evt.data.type = \"image/png\";\n",
       "\n",
       "            /* Free the memory for the previous frames */\n",
       "            if (fig.imageObj.src) {\n",
       "                (window.URL || window.webkitURL).revokeObjectURL(\n",
       "                    fig.imageObj.src);\n",
       "            }\n",
       "\n",
       "            fig.imageObj.src = (window.URL || window.webkitURL).createObjectURL(\n",
       "                evt.data);\n",
       "            fig.updated_canvas_event();\n",
       "            fig.waiting = false;\n",
       "            return;\n",
       "        }\n",
       "        else if (typeof evt.data === 'string' && evt.data.slice(0, 21) == \"data:image/png;base64\") {\n",
       "            fig.imageObj.src = evt.data;\n",
       "            fig.updated_canvas_event();\n",
       "            fig.waiting = false;\n",
       "            return;\n",
       "        }\n",
       "\n",
       "        var msg = JSON.parse(evt.data);\n",
       "        var msg_type = msg['type'];\n",
       "\n",
       "        // Call the  \"handle_{type}\" callback, which takes\n",
       "        // the figure and JSON message as its only arguments.\n",
       "        try {\n",
       "            var callback = fig[\"handle_\" + msg_type];\n",
       "        } catch (e) {\n",
       "            console.log(\"No handler for the '\" + msg_type + \"' message type: \", msg);\n",
       "            return;\n",
       "        }\n",
       "\n",
       "        if (callback) {\n",
       "            try {\n",
       "                // console.log(\"Handling '\" + msg_type + \"' message: \", msg);\n",
       "                callback(fig, msg);\n",
       "            } catch (e) {\n",
       "                console.log(\"Exception inside the 'handler_\" + msg_type + \"' callback:\", e, e.stack, msg);\n",
       "            }\n",
       "        }\n",
       "    };\n",
       "}\n",
       "\n",
       "// from http://stackoverflow.com/questions/1114465/getting-mouse-location-in-canvas\n",
       "mpl.findpos = function(e) {\n",
       "    //this section is from http://www.quirksmode.org/js/events_properties.html\n",
       "    var targ;\n",
       "    if (!e)\n",
       "        e = window.event;\n",
       "    if (e.target)\n",
       "        targ = e.target;\n",
       "    else if (e.srcElement)\n",
       "        targ = e.srcElement;\n",
       "    if (targ.nodeType == 3) // defeat Safari bug\n",
       "        targ = targ.parentNode;\n",
       "\n",
       "    // jQuery normalizes the pageX and pageY\n",
       "    // pageX,Y are the mouse positions relative to the document\n",
       "    // offset() returns the position of the element relative to the document\n",
       "    var x = e.pageX - $(targ).offset().left;\n",
       "    var y = e.pageY - $(targ).offset().top;\n",
       "\n",
       "    return {\"x\": x, \"y\": y};\n",
       "};\n",
       "\n",
       "/*\n",
       " * return a copy of an object with only non-object keys\n",
       " * we need this to avoid circular references\n",
       " * http://stackoverflow.com/a/24161582/3208463\n",
       " */\n",
       "function simpleKeys (original) {\n",
       "  return Object.keys(original).reduce(function (obj, key) {\n",
       "    if (typeof original[key] !== 'object')\n",
       "        obj[key] = original[key]\n",
       "    return obj;\n",
       "  }, {});\n",
       "}\n",
       "\n",
       "mpl.figure.prototype.mouse_event = function(event, name) {\n",
       "    var canvas_pos = mpl.findpos(event)\n",
       "\n",
       "    if (name === 'button_press')\n",
       "    {\n",
       "        this.canvas.focus();\n",
       "        this.canvas_div.focus();\n",
       "    }\n",
       "\n",
       "    var x = canvas_pos.x * mpl.ratio;\n",
       "    var y = canvas_pos.y * mpl.ratio;\n",
       "\n",
       "    this.send_message(name, {x: x, y: y, button: event.button,\n",
       "                             step: event.step,\n",
       "                             guiEvent: simpleKeys(event)});\n",
       "\n",
       "    /* This prevents the web browser from automatically changing to\n",
       "     * the text insertion cursor when the button is pressed.  We want\n",
       "     * to control all of the cursor setting manually through the\n",
       "     * 'cursor' event from matplotlib */\n",
       "    event.preventDefault();\n",
       "    return false;\n",
       "}\n",
       "\n",
       "mpl.figure.prototype._key_event_extra = function(event, name) {\n",
       "    // Handle any extra behaviour associated with a key event\n",
       "}\n",
       "\n",
       "mpl.figure.prototype.key_event = function(event, name) {\n",
       "\n",
       "    // Prevent repeat events\n",
       "    if (name == 'key_press')\n",
       "    {\n",
       "        if (event.which === this._key)\n",
       "            return;\n",
       "        else\n",
       "            this._key = event.which;\n",
       "    }\n",
       "    if (name == 'key_release')\n",
       "        this._key = null;\n",
       "\n",
       "    var value = '';\n",
       "    if (event.ctrlKey && event.which != 17)\n",
       "        value += \"ctrl+\";\n",
       "    if (event.altKey && event.which != 18)\n",
       "        value += \"alt+\";\n",
       "    if (event.shiftKey && event.which != 16)\n",
       "        value += \"shift+\";\n",
       "\n",
       "    value += 'k';\n",
       "    value += event.which.toString();\n",
       "\n",
       "    this._key_event_extra(event, name);\n",
       "\n",
       "    this.send_message(name, {key: value,\n",
       "                             guiEvent: simpleKeys(event)});\n",
       "    return false;\n",
       "}\n",
       "\n",
       "mpl.figure.prototype.toolbar_button_onclick = function(name) {\n",
       "    if (name == 'download') {\n",
       "        this.handle_save(this, null);\n",
       "    } else {\n",
       "        this.send_message(\"toolbar_button\", {name: name});\n",
       "    }\n",
       "};\n",
       "\n",
       "mpl.figure.prototype.toolbar_button_onmouseover = function(tooltip) {\n",
       "    this.message.textContent = tooltip;\n",
       "};\n",
       "mpl.toolbar_items = [[\"Home\", \"Reset original view\", \"fa fa-home icon-home\", \"home\"], [\"Back\", \"Back to  previous view\", \"fa fa-arrow-left icon-arrow-left\", \"back\"], [\"Forward\", \"Forward to next view\", \"fa fa-arrow-right icon-arrow-right\", \"forward\"], [\"\", \"\", \"\", \"\"], [\"Pan\", \"Pan axes with left mouse, zoom with right\", \"fa fa-arrows icon-move\", \"pan\"], [\"Zoom\", \"Zoom to rectangle\", \"fa fa-square-o icon-check-empty\", \"zoom\"], [\"\", \"\", \"\", \"\"], [\"Download\", \"Download plot\", \"fa fa-floppy-o icon-save\", \"download\"]];\n",
       "\n",
       "mpl.extensions = [\"eps\", \"pdf\", \"png\", \"ps\", \"raw\", \"svg\"];\n",
       "\n",
       "mpl.default_extension = \"png\";var comm_websocket_adapter = function(comm) {\n",
       "    // Create a \"websocket\"-like object which calls the given IPython comm\n",
       "    // object with the appropriate methods. Currently this is a non binary\n",
       "    // socket, so there is still some room for performance tuning.\n",
       "    var ws = {};\n",
       "\n",
       "    ws.close = function() {\n",
       "        comm.close()\n",
       "    };\n",
       "    ws.send = function(m) {\n",
       "        //console.log('sending', m);\n",
       "        comm.send(m);\n",
       "    };\n",
       "    // Register the callback with on_msg.\n",
       "    comm.on_msg(function(msg) {\n",
       "        //console.log('receiving', msg['content']['data'], msg);\n",
       "        // Pass the mpl event to the overriden (by mpl) onmessage function.\n",
       "        ws.onmessage(msg['content']['data'])\n",
       "    });\n",
       "    return ws;\n",
       "}\n",
       "\n",
       "mpl.mpl_figure_comm = function(comm, msg) {\n",
       "    // This is the function which gets called when the mpl process\n",
       "    // starts-up an IPython Comm through the \"matplotlib\" channel.\n",
       "\n",
       "    var id = msg.content.data.id;\n",
       "    // Get hold of the div created by the display call when the Comm\n",
       "    // socket was opened in Python.\n",
       "    var element = $(\"#\" + id);\n",
       "    var ws_proxy = comm_websocket_adapter(comm)\n",
       "\n",
       "    function ondownload(figure, format) {\n",
       "        window.open(figure.imageObj.src);\n",
       "    }\n",
       "\n",
       "    var fig = new mpl.figure(id, ws_proxy,\n",
       "                           ondownload,\n",
       "                           element.get(0));\n",
       "\n",
       "    // Call onopen now - mpl needs it, as it is assuming we've passed it a real\n",
       "    // web socket which is closed, not our websocket->open comm proxy.\n",
       "    ws_proxy.onopen();\n",
       "\n",
       "    fig.parent_element = element.get(0);\n",
       "    fig.cell_info = mpl.find_output_cell(\"<div id='\" + id + \"'></div>\");\n",
       "    if (!fig.cell_info) {\n",
       "        console.error(\"Failed to find cell for figure\", id, fig);\n",
       "        return;\n",
       "    }\n",
       "\n",
       "    var output_index = fig.cell_info[2]\n",
       "    var cell = fig.cell_info[0];\n",
       "\n",
       "};\n",
       "\n",
       "mpl.figure.prototype.handle_close = function(fig, msg) {\n",
       "    var width = fig.canvas.width/mpl.ratio\n",
       "    fig.root.unbind('remove')\n",
       "\n",
       "    // Update the output cell to use the data from the current canvas.\n",
       "    fig.push_to_output();\n",
       "    var dataURL = fig.canvas.toDataURL();\n",
       "    // Re-enable the keyboard manager in IPython - without this line, in FF,\n",
       "    // the notebook keyboard shortcuts fail.\n",
       "    IPython.keyboard_manager.enable()\n",
       "    $(fig.parent_element).html('<img src=\"' + dataURL + '\" width=\"' + width + '\">');\n",
       "    fig.close_ws(fig, msg);\n",
       "}\n",
       "\n",
       "mpl.figure.prototype.close_ws = function(fig, msg){\n",
       "    fig.send_message('closing', msg);\n",
       "    // fig.ws.close()\n",
       "}\n",
       "\n",
       "mpl.figure.prototype.push_to_output = function(remove_interactive) {\n",
       "    // Turn the data on the canvas into data in the output cell.\n",
       "    var width = this.canvas.width/mpl.ratio\n",
       "    var dataURL = this.canvas.toDataURL();\n",
       "    this.cell_info[1]['text/html'] = '<img src=\"' + dataURL + '\" width=\"' + width + '\">';\n",
       "}\n",
       "\n",
       "mpl.figure.prototype.updated_canvas_event = function() {\n",
       "    // Tell IPython that the notebook contents must change.\n",
       "    IPython.notebook.set_dirty(true);\n",
       "    this.send_message(\"ack\", {});\n",
       "    var fig = this;\n",
       "    // Wait a second, then push the new image to the DOM so\n",
       "    // that it is saved nicely (might be nice to debounce this).\n",
       "    setTimeout(function () { fig.push_to_output() }, 1000);\n",
       "}\n",
       "\n",
       "mpl.figure.prototype._init_toolbar = function() {\n",
       "    var fig = this;\n",
       "\n",
       "    var nav_element = $('<div/>')\n",
       "    nav_element.attr('style', 'width: 100%');\n",
       "    this.root.append(nav_element);\n",
       "\n",
       "    // Define a callback function for later on.\n",
       "    function toolbar_event(event) {\n",
       "        return fig.toolbar_button_onclick(event['data']);\n",
       "    }\n",
       "    function toolbar_mouse_event(event) {\n",
       "        return fig.toolbar_button_onmouseover(event['data']);\n",
       "    }\n",
       "\n",
       "    for(var toolbar_ind in mpl.toolbar_items){\n",
       "        var name = mpl.toolbar_items[toolbar_ind][0];\n",
       "        var tooltip = mpl.toolbar_items[toolbar_ind][1];\n",
       "        var image = mpl.toolbar_items[toolbar_ind][2];\n",
       "        var method_name = mpl.toolbar_items[toolbar_ind][3];\n",
       "\n",
       "        if (!name) { continue; };\n",
       "\n",
       "        var button = $('<button class=\"btn btn-default\" href=\"#\" title=\"' + name + '\"><i class=\"fa ' + image + ' fa-lg\"></i></button>');\n",
       "        button.click(method_name, toolbar_event);\n",
       "        button.mouseover(tooltip, toolbar_mouse_event);\n",
       "        nav_element.append(button);\n",
       "    }\n",
       "\n",
       "    // Add the status bar.\n",
       "    var status_bar = $('<span class=\"mpl-message\" style=\"text-align:right; float: right;\"/>');\n",
       "    nav_element.append(status_bar);\n",
       "    this.message = status_bar[0];\n",
       "\n",
       "    // Add the close button to the window.\n",
       "    var buttongrp = $('<div class=\"btn-group inline pull-right\"></div>');\n",
       "    var button = $('<button class=\"btn btn-mini btn-primary\" href=\"#\" title=\"Stop Interaction\"><i class=\"fa fa-power-off icon-remove icon-large\"></i></button>');\n",
       "    button.click(function (evt) { fig.handle_close(fig, {}); } );\n",
       "    button.mouseover('Stop Interaction', toolbar_mouse_event);\n",
       "    buttongrp.append(button);\n",
       "    var titlebar = this.root.find($('.ui-dialog-titlebar'));\n",
       "    titlebar.prepend(buttongrp);\n",
       "}\n",
       "\n",
       "mpl.figure.prototype._root_extra_style = function(el){\n",
       "    var fig = this\n",
       "    el.on(\"remove\", function(){\n",
       "\tfig.close_ws(fig, {});\n",
       "    });\n",
       "}\n",
       "\n",
       "mpl.figure.prototype._canvas_extra_style = function(el){\n",
       "    // this is important to make the div 'focusable\n",
       "    el.attr('tabindex', 0)\n",
       "    // reach out to IPython and tell the keyboard manager to turn it's self\n",
       "    // off when our div gets focus\n",
       "\n",
       "    // location in version 3\n",
       "    if (IPython.notebook.keyboard_manager) {\n",
       "        IPython.notebook.keyboard_manager.register_events(el);\n",
       "    }\n",
       "    else {\n",
       "        // location in version 2\n",
       "        IPython.keyboard_manager.register_events(el);\n",
       "    }\n",
       "\n",
       "}\n",
       "\n",
       "mpl.figure.prototype._key_event_extra = function(event, name) {\n",
       "    var manager = IPython.notebook.keyboard_manager;\n",
       "    if (!manager)\n",
       "        manager = IPython.keyboard_manager;\n",
       "\n",
       "    // Check for shift+enter\n",
       "    if (event.shiftKey && event.which == 13) {\n",
       "        this.canvas_div.blur();\n",
       "        event.shiftKey = false;\n",
       "        // Send a \"J\" for go to next cell\n",
       "        event.which = 74;\n",
       "        event.keyCode = 74;\n",
       "        manager.command_mode();\n",
       "        manager.handle_keydown(event);\n",
       "    }\n",
       "}\n",
       "\n",
       "mpl.figure.prototype.handle_save = function(fig, msg) {\n",
       "    fig.ondownload(fig, null);\n",
       "}\n",
       "\n",
       "\n",
       "mpl.find_output_cell = function(html_output) {\n",
       "    // Return the cell and output element which can be found *uniquely* in the notebook.\n",
       "    // Note - this is a bit hacky, but it is done because the \"notebook_saving.Notebook\"\n",
       "    // IPython event is triggered only after the cells have been serialised, which for\n",
       "    // our purposes (turning an active figure into a static one), is too late.\n",
       "    var cells = IPython.notebook.get_cells();\n",
       "    var ncells = cells.length;\n",
       "    for (var i=0; i<ncells; i++) {\n",
       "        var cell = cells[i];\n",
       "        if (cell.cell_type === 'code'){\n",
       "            for (var j=0; j<cell.output_area.outputs.length; j++) {\n",
       "                var data = cell.output_area.outputs[j];\n",
       "                if (data.data) {\n",
       "                    // IPython >= 3 moved mimebundle to data attribute of output\n",
       "                    data = data.data;\n",
       "                }\n",
       "                if (data['text/html'] == html_output) {\n",
       "                    return [cell, data, j];\n",
       "                }\n",
       "            }\n",
       "        }\n",
       "    }\n",
       "}\n",
       "\n",
       "// Register the function which deals with the matplotlib target/channel.\n",
       "// The kernel may be null if the page has been refreshed.\n",
       "if (IPython.notebook.kernel != null) {\n",
       "    IPython.notebook.kernel.comm_manager.register_target('matplotlib', mpl.mpl_figure_comm);\n",
       "}\n"
      ],
      "text/plain": [
       "<IPython.core.display.Javascript object>"
      ]
     },
     "metadata": {},
     "output_type": "display_data"
    },
    {
     "data": {
      "text/html": [
       "<img src=\"data:image/png;base64,iVBORw0KGgoAAAANSUhEUgAABkAAAASwCAYAAACjAYaXAAAgAElEQVR4XuzdB9R1V1kn8L8kIQnFANJCAtKUSB9K4gChS7GMICqgiDKALGmKjgVRLCBFUAcLoGABpcmgMipIJxSlCihSpJdAiPSRhASSzDof5/W7efne773l7Hv22ed318KQfOfs8+zf82Qt3X/Pvd8QHwIECBAgQIAAAQIECBAgQIAAAQIECBAgQIBAYwLf0Nh+bIcAAQIECBAgQIAAAQIECBAgQIAAAQIECBAgEAGIISBAgAABAgQIECBAgAABAgQIECBAgAABAgSaExCANNdSGyJAgAABAgQIECBAgAABAgQIECBAgAABAgQEIGaAAAECBAgQIECAAAECBAgQIECAAAECBAgQaE5AANJcS22IAAECBAgQIECAAAECBAgQIECAAAECBAgQEICYAQIECBAgQIAAAQIECBAgQIAAAQIECBAgQKA5AQFIcy21IQIECBAgQIAAAQIECBAgQIAAAQIECBAgQEAAYgYIECBAgAABAgQIECBAgAABAgQIECBAgACB5gQEIM211IYIECBAgAABAgQIECBAgAABAgQIECBAgAABAYgZIECAAAECBAgQIECAAAECBAgQIECAAAECBJoTEIA011IbIkCAAAECBAgQIECAAAECBAgQIECAAAECBAQgZoAAAQIECBAgQIAAAQIECBAgQIAAAQIECBBoTkAA0lxLbYgAAQIECBAgQIAAAQIECBAgQIAAAQIECBAQgJgBAgQIECBAgAABAgQIECBAgAABAgQIECBAoDkBAUhzLbUhAgQIECBAgAABAgQIECBAgAABAgQIECBAQABiBggQIECAAAECBAgQIECAAAECBAgQIECAAIHmBAQgzbXUhggQIECAAAECBAgQIECAAAECBAgQIECAAAEBiBkgQIAAAQIECBAgQIAAAQIECBAgQIAAAQIEmhMQgDTXUhsiQIAAAQIECBAgQIAAAQIECBAgQIAAAQIEBCBmgAABAgQIECBAgAABAgQIECBAgAABAgQIEGhOQADSXEttiAABAgQIECBAgAABAgQIECBAgAABAgQIEBCAmAECBAgQIECAAAECBAgQIECAAAECBAgQIECgOQEBSHMttSECBAgQIECAAAECBAgQIECAAAECBAgQIEBAAGIGCBAgQIAAAQIECBAgQIAAAQIECBAgQIAAgeYEBCDNtdSGCBAgQIAAAQIECBAgQIAAAQIECBAgQIAAAQGIGSBAgAABAgQIECBAgAABAgQIECBAgAABAgSaExCANNdSGyJAgAABAgQIECBAgAABAgQIECBAgAABAgQEIGaAAAECBAgQIECAAAECBAgQIECAAAECBAgQaE5AANJcS22IAAECBAgQIECAAAECBAgQIECAAAECBAgQEICYAQIECBAgQIAAAQIECBAgQIAAAQIECBAgQKA5AQFIcy21IQIECBAgQIAAAQIECBAgQIAAAQIECBAgQEAAYgYIECBAgAABAgQIECBAgAABAgQIECBAgACB5gQEIM211IYIECBAgAABAgQIECBAgAABAgQIECBAgAABAYgZIECAAAECBAgQIECAAAECBAgQIECAAAECBJoTEIA011IbIkCAAAECBAgQIECAAAECBAgQIECAAAECBAQgZoAAAQIECBAgQIAAAQIECBAgQIAAAQIECBBoTkAA0lxLbYgAAQIECBAgQIAAAQIECBAgQIAAAQIECBAQgJgBAgQIECBAgAABAgQIECBAgAABAgQIECBAoDkBAUhzLbUhAgQIECBAgAABAgQIECBAgAABAgQIECBAQABiBggQIECAAAECBAgQIECAAAECBAgQIECAAIHmBAQgzbXUhggQIECAAAECBAgQIECAAAECBAgQIECAAAEBiBkgQIAAAQIECBAgQIAAAQIECBAgQIAAAQIEmhMQgDTXUhsiQIAAAQIECBAgQIAAAQIECBAgQIAAAQIEBCBmgAABAgQIECBAgAABAgQIECBAgAABAgQIEGhOQADSXEttiAABAgQIECBAgAABAgQIECBAgAABAgQIEBCAmAECBAgQIECAAAECBAgQIECAAAECBAgQIECgOQEBSHMttSECBAgQIECAAAECBAgQIECAAAECBAgQIEBAAGIGCBAgQIAAAQIECBAgQIAAAQIECBAgQIAAgeYEBCDNtdSGCBAgQIAAAQIECBAgQIAAAQIECBAgQIAAAQGIGSBAgAABAgQIECBAgAABAgQIECBAgAABAgSaExCANNdSGyJAgAABAgQIECBAgAABAgQIECBAgAABAgQEIGaAAAECBAgQIECAAAECBAgQIECAAAECBAgQaE5AANJcS22IAAECBAgQIECAAAECBAgQIECAAAECBAgQEICYAQIECBAgQIAAAQIECBAgQIAAAQIECBAgQKA5AQFIcy21IQIECBAgQIAAAQIECBAgQIAAAQIECBAgQEAAYgYIECBAgAABAgQIECBAgAABAgQIECBAgACB5gQEIM211IYIECBAgAABAgQIECBAgAABAgQIECBAgAABAYgZIECAAAECBAgQIECAAAECBAgQIECAAAECBJoTEIA011IbIkCAAAECBAgQIECAAAECBAgQIECAAAECBAQgZoAAAQIECBAgQIAAAQIECBAgQIAAAQIECBBoTkAA0lxLbYgAAQIECBAgQIAAAQIECBAgQIAAAQIECBAQgJgBAgQIECBAgAABAgQIECBAgAABAgQIECBAoDkBAUhzLbUhAgQIECBAgAABAgQIECBAgAABAgQIECBAQABiBggQIECAAAECBAgQIECAAAECBAgQIECAAIHmBAQgzbXUhggQIECAAAECBAgQIECAAAECBAgQIECAAAEBiBkgQIAAAQIECBAgQIAAAQIECBAgQIAAAQIEmhMQgDTXUhsiQIAAAQIECBAgQIAAAQIECBAgQIAAAQIEBCBmgAABAgQIECBAgAABAgQIECBAgAABAgQIEGhOQADSXEttiAABAgQIECBAgAABAgQIECBAgAABAgQIEBCAmAECBAgQIECAAAECBAgQIECAAAECBAgQIECgOQEBSHMttSECBAgQIECAAAECBAgQIECAAAECBAgQIEBAAGIGCBAgQIAAAQIECBAgQIAAAQIECBAgQIAAgeYEBCDNtdSGCBAgQIAAAQIECBAgQIAAAQIECBAgQIAAAQGIGSBAgAABAgQIECBAgAABAgQIECBAgAABAgSaExCANNdSGyJAgAABAgQIECBAgAABAgQIECBAgAABAgQEIGaAAAECBAgQIECAAAECBAgQIECAAAECBAgQaE5AANJcS22IAAECBAgQIECAAAECBAgQIECAAAECBAgQEICYAQIECBAgQIAAAQIECBAgQIAAAQIECBAgQKA5AQFIcy21IQIECBAgQIAAAQIECBAgQIAAAQIECBAgQEAAYgYIECBAgAABAgQIECBAgAABAgQIECBAgACB5gQEIM211IYIECBAgAABAgQIECBAgAABAgQIECBAgAABAYgZIECAAAECBAgQIECAAAECBAgQIECAAAECBJoTEIA011IbIkCAAAECBAgQIECAAAECBAgQIECAAAECBAQgZoAAAQIECBAgQIAAAQIECBAgQIAAAQIECBBoTkAA0lxLbYgAAQIECBAgQIAAAQIECBAgQIAAAQIECBAQgJgBAgQIECBAgAABAgQIECBAgAABAgQIECBAoDkBAUhzLbUhAgQIECBAgAABAgQIECBAgAABAgQIECBAQABiBggQIECAAAECBAgQIECAAAECBAgQIECAAIHmBAQgzbXUhggQIECAAAECBAgQIECAAAECBAgQIECAAAEBiBkgQIAAAQIECBAgQIAAAQIECBAgQIAAAQIEmhMQgDTXUhsiQIAAAQIECBAgQIAAAQIECBAgQIAAAQIEBCBmgAABAgQIECBAgAABAgQIECBAgAABAgQIEGhOQADSXEttiAABAgQIECBAgAABAgQIECBAgAABAgQIEBCAmAECBAgQIECAAAECBAgQIECAAAECBAgQIECgOQEBSHMttSECBAgQIECAAAECBAgQIECAAAECBAgQIEBAAGIGCBAgQIAAAQIECBAgQIAAAQIECBAgQIAAgeYEBCDNtdSGCBAgQIAAAQIECBAgQIAAAQIECBAgQIAAAQGIGSBAgAABAgQIECBAgAABAgQIECBAgAABAgSaExCANNdSGyJAgAABAgQIECBAgAABAgQIECBAgAABAgQEIGaAAAECBAgQIECAAAECBAgQIECAAAECBAgQaE5AANJcS22IAAECBAgQIECAAAECBAgQIECAAAECBAgQEICYAQIECBAgQIAAAQIECBAgQIAAAQIECBAgQKA5AQFIcy21IQIECBAgQIAAAQIECBAgQIAAAQIECBAgQEAAYgYIECBAgAABAgQIECBAgAABAgQIECBAgACB5gQEIM211IYIECBAgAABAgQIECBAgAABAgQIECBAgAABAYgZIECAAAECBAgQIECAAAECBAgQIECAAAECBJoTEIA011IbIkCAAAECBAgQIECAAAECBAgQIECAAAECBAQgZoDAegKXS3KTJDdd+OsVF5a6T5I/W2/pQe761SS/ssFKpyW59Qb3u5UAAQIECBAgQIAAAQIECBAgQIAAAQKjCghARuX38AkKdCHHG5J88z61Tz0A+askd5tgf5RMgAABAgQIECBAgAABAgQIECBAgACBAwICEINAYDWBqyb50BK3jB2A3CtJ959lP1dOcu2Fi38gyf9Z9mbXESBAgAABAgQIECBAgAABAgQIECBAoDYBAUhtHVFP7QKLAch/JHlrkrckeXOSFy4UP3YAsqrjs5Pcs7/ps0mulOScVRdxPQECBAgQIECAAAECBAgQIECAAAECBGoREIDU0gl1TEXgG5PcoQ88PrKr6AsmGoB0ezojybF9/U9O8qCpNESdBAgQIECAAAECBAgQIECAAAECBAgQOJSAAMRcEBhOYKoByP2SPG2B4ZQkbxqOxUoECBAgQIAAAQIECBAgQIAAAQIECBDYvoAAZPvmntiuwFAByMlJ7p7ktklOSHJcks8leV+SF/VhxacHZHxtklv0671712+BDPgYSxEgQIAAAQIECBAgQIAAAQIECBAgQGB7AgKQ7Vl7UvsCmwYgl0vylCR324fq80l+MskzByC9RpL3L6zzC0keP8C6liBAgAABAgQIECBAgAABAgQIECBAgMCoAgKQUfk9vDGBTQKQqyV5aZJrLpicneTfknwxyRX6NzMW/519aJLf29Dw15I8sl/j/CRXSXL6hmu6nQABAgQIECBAgAABAgQIECBAgAABAqMLCEBGb4ECGhJYNwA5Oskbk9ygt/hkkp9L8pdJzl3wOTHJE5Lco/9nX0lysyRvWdOw+/f/g0mu2t//kiR3WnMttxEgQIAAAQIECBAgQIAAAQIECBAgQKAqAQFIVe1QzMQF1g1AFt/C+FCSmyfpQpC9Pn+U5P79H74yye3WdLtVklcv3PtDSZ6z5lpuI0CAAAECBAgQIECAAAECBAgQIECAQFUCApCq2qGYiQusE4BcLMnHklym3/stk3Q/Sn64T3fPR5N8U3/RSUneu4bdnyS5T3/fF5Icn6T72i0fAgQIECBAgAABAgQIECBAgAABAgQITF5AADL5FtpARQLrBCDfn+T5/R7+OcmNl9zP05Lcr7/2gf2Ppy9564HLuhDljCSX7G/q1vvxVRZwLQECBAgQIECAAAECBAgQIECAAAECBGoWEIDU3B21TU1gnQDkSUm6HzPvPk9M8rNLbvonk/zv/tqnL3wl1pK3515J/nzh4lskef2yN7uOAAECBAgQIECAAAECBAgQIECAAAECtQsIQGrvkPqmJLBOAPKKJLftN/meJB9ZcsMnJLluf+3fJLnrkvftXPayJLfv/+b9Sb5lxftdToAAAQIECBAgQIAAAQIECBAgQIAAgaoFBCBVt0dxExNYJwB5e5IbbLjPVy2EKMssdWIftFykv/iXkzx6mRtdQ4AAAQIECBAgQIAAAQIECBAgQIAAgakICECm0il1TkFgnQDkfUmuueHmTkty6xXWeHiSx/TXdzVfbYU3T1Z4jEsJECBAgAABAgQIECBAgAABAgQIECAwnoAAZDx7T25PYJ0A5C0LP3ze/f5H9zsgpT/dV21dq3/Iqm+PlK7N+gQIECBAgAABAgQIECBAgAABAgQIEBhEQAAyCKNFCBwQWCcA+fsk39n7PSHJzxW2PCXJGxae8aNJnln4mZYnQIAAAQIECBAgQIAAAQIECBAgQIDA1gUEIFsn98CGBdYJQLrf3/j13uS1SW5Z2OfJSX6if8Z/Jrliki8VfqblCRAgQIAAAQIECBAgQIAAAQIECBAgsHUBAcjWyT2wYYF1ApCTk7yxNzkvyUlJ3l/I6Ogkn0xy6X79ZyT5sULPsiwBAgQIECBAgAABAgQIECBAgAABAgRGFRCAjMrv4Y0JrBOAdASvT3Kz3uKlSe6c5PwCNt+f5PkL694myasLPMeSBAgQIECAAAECBAgQIECAAAECBAgQGF1AADJ6CxTQkMC6AcjN+yDiyN7ihUn+Z5LPHsbmokm+u//NkFsn+fISjn/b39Nd+pEkV9v1uyVLLOESAgQIECBAgAABAgQIECBAgAABAgQITENAADKNPqmyLoGnJfmRQ5TUfcXUzuerSbqvtNr9OWaPrTw0yZMW/qz7fY7nJjktySeSdOtdKsm3JLlJkjv1f9/dcuwSAcjlk5yeZCdkeVSSR9bFqhoCBAgQIECAAAECBAgQIECAAAECBAgMJyAAGc7SSvMR+LMkP7rmdg/371z3exxPTbIYpCzzmGUCkIcl+e2Fxa6Z5APLLO4aAgQIECBAgAABAgQIECBAgAABAgQITFFAADLFrql5bIFSAUi3r+5rqR6R5B5JLn6YjX44yd8l6X7I/C1LgLw9yQ36616X5NQl7nEJAQIECBAgQIAAAQIECBAgQIAAAQIEJisgAJls6xTeuED3Gx+nJPnWJN+U5IgkX+x/u+OdSboAxIcAAQIECBAgQIAAAQIECBAgQIAAAQIE9hAQgBgNAgQIECBAgAABAgQIECBAgAABAgQIECBAoDkBAUhzLbUhAgQIECBAgAABAgQIECBAgAABAgQIECBAQABiBggQIECAAAECBAgQIECAAAECBAgQIECAAIHmBAQgzbXUhggQIECAAAECBAgQIECAAAECBAgQIECAAAEBiBkgQIAAAQIECBAgQIAAAQIECBAgQIAAAQIEmhMQgDTXUhsiQIAAAQIECBAgQIAAAQIECBAgQIAAAQIEBCBmgAABAgQIECBAgAABAgQIECBAgAABAgQIEGhOQADSXEttiAABAgQIECBAgAABAgQIECBAgAABAgQIEBCAmAECewt8KcnRSc5PciYoAgQIECBAgAABAgQIECBAgAABAgRWErh8koskOSfJxVe608UEBhAQgAyAaIlmBb6a5Ihmd2djBAgQIECAAAECBAgQIECAAAECBLYjcF6SI7fzKE8hcFBAAGIaCOwtcG6Soy5ykYvk+OOP50SAAAECBJoQ+MLZX8nZ53b/t0eZz7EXPSLHHXtUmcWtWp2AeaquJQoiQIAAAQIECFQl8MlPfjLnn999uUq+kuSiVRWnmFkICEBm0WabXFPg40lOOOGEE/Lxj3f/1YcAAQIECExf4KmnfSCPe/F7im3k4Xc+KQ+41TWKrW/hugTMU139UA0BAgQIECBAoDaBE088MaeffnpXVvc/TqytPvW0LyAAab/Hdri+gABkfTt3EiBAgEClAq9//6fzw09/Y7Hqnn2/U3Kza1622PoWrkvAPNXVD9UQIECAAAECBGoTEIDU1pH51SMAmV/P7Xh5AQHI8lauJECAAIGJCHz5K+fllMe8It1XFw396b766o2/eLscc5Sf0Brattb1zFOtnVEXAQIECBAgQKAOAQFIHX2YcxUCkDl33973ExCA7CfkzwkQIEBgkgKP/rt35emv+9Dgtd//1KvlEd917cHXtWDdAuap7v6ojgABAgQIECAwpoAAZEx9z+4EBCDmgMDeAgIQ00GAAAECTQp84vNn5zt++7R8acAfQ7/E0UfmpQ+7Za50qWObNLOpvQXMk+kgQIAAAQIECBDYS0AAYjbGFhCAjN0Bz69ZQABSc3fURoAAAQIbCTzrjR/JI/76nRutsXjzY+56vfzQKVcZbD0LTUvAPE2rX6olQIAAAQIECGxLQACyLWnP2UtAAGI2COwtIAAxHQQIECDQrMAFF1yQhz3v7fmbt39i4z3e5YZXyu/c/Yb5hm/wv1pujDnRBczTRBunbAIECBAgQIBAYQEBSGFgy+8r4P9K3ZfIBTMWEIDMuPm2ToAAgTkIfOW88/Ozz3/HRiFIF3484QdukKOOuMgcyOzxMALmyXgQIECAAAECBAjsFhCAmImxBQQgY3fA82sWEIDU3B21ESBAgMAgAt3/5/5z3vSx/Mbfv2ul3wS5+EWPOPCD5/c8+cre/BikE20sYp7a6KNdECBAgAABAgSGEhCADCVpnXUFBCDryrlvDgICkDl02R4JECBA4IBA90PWf/r6D+Uv3/LxfOHsr+ypctyxR+UHb3Ji7nPzq/nBc7Ozp4B5MhwECBAgQIAAAQKdgADEHIwtIAAZuwOeX7OAAKTm7qiNAAECBIoIfPkr5+Xl7/pUHvyct33d+r9/z/+W21/7CjnmqCOKPNui7QmYp/Z6akcECBAgQIAAgVUEBCCraLm2hIAApISqNVsREIC00kn7IECAAIGVBM74wpfz7Y99xdfd84aH3y5XPO6YldZyMQHzZAYIECBAgAABAvMVEIDMt/e17FwAUksn1FGjgACkxq6oiQABAgSKCziwLk48qweYp1m122YJECBAgAABAhcSEIAYiLEFBCBjd8DzaxYQgNTcHbURIECAQDEBB9bFaGe5sHmaZdttmgABAgQIECBwQEAAYhDGFhCAjN0Bz69ZQABSc3fURoAAAQLFBBxYF6Od5cLmaZZtt2kCBAgQIECAgADEDFQhIACpog2KqFRAAFJpY5RFgAABAmUFHFiX9Z3b6uZpbh23XwIECBAgQIDAQQFvgJiGsQUEIGN3wPNrFhCA1NwdtREgQIBAMQEH1sVoZ7mweZpl222aAAECBAgQIHBAQABiEMYWEICM3QHPr1lAAFJzd9RGgAABAsUEHFgXo53lwuZplm23aQIECBAgQICAAMQMVCEgAKmiDYqoVEAAUmljlEWAAAECZQUcWJf1ndvq5mluHbdfAgQIECBAgMBBAW+AmIaxBQQgY3fA82sWEIDU3B21ESBAgEAxAQfWxWhnubB5mmXbbZoAAQIECBAgcEBAAGIQxhYQgIzdAc+vWUAAUnN31EaAAAECxQQcWBejneXC5mmWbbdpAgQIECBAgIAAxAxUISAAqaINiqhUQABSaWOURYAAAQJlBRxYl/Wd2+rmaW4dt18CBAgQIECAwEEBb4CYhrEFBCBjd8DzaxYQgNTcHbURIECAQDEBB9bFaGe5sHmaZdttmgABAgQIECBwQEAAYhDGFhCAjN0Bz69ZQABSc3fURoAAAQLFBBxYF6Od5cLmaZZtt2kCBAgQIECAgADEDFQhIACpog2KqFRAAFJpY5RFgAABAmUFHFiX9Z3b6uZpbh23XwIECBAgQIDAQQFvgJiGsQUEIGN3wPNrFhCA1NwdtREgQIBAMQEH1sVoZ7mweZpl222aAAECBAgQIHBAQABiEMYWEICM3QHPr1lAAFJzd9RGgAABAsUEHFgXo53lwuZplm23aQIECBAgQICAAMQMVCEgAKmiDYqoVEAAUmljlEWAAAECZQUcWJf1ndvq5mluHbdfAgQIECBAgMBBAW+AmIaxBQQgY3fA82sWEIDU3B21ESBAgEAxAQfWxWhnubB5mmXbbZoAAQIECBAgcEBAAGIQxhYQgIzdAc+vWUAAUnN31EaAAAECxQQcWBejneXC5mmWbbdpAgQIECBAgIAAxAxUISAAqaINiqhUQABSaWOURYAAAQJlBRxYl/Wd2+rmaW4dt18CBAgQIECAwEEBb4CYhrEFBCBjd8DzaxYQgNTcHbURIECAQDEBB9bFaGe5sHmaZdttmgABAgQIECBwQEAAYhDGFhCAjN0Bz69ZQABSc3fURoAAAQLFBBxYF6Od5cLmaZZtt2kCBAgQIECAgADEDFQhIACpog2KqFRAAFJpY5RFgAABAmUFHFiX9Z3b6uZpbh23XwIECBAgQIDAQQFvgJiGsQUEIGN3wPNrFhCA1NwdtREgQIBAMQEH1sVoZ7mweZpl222aAAECBAgQIHBAQABiEMYWEICM3QHPr1lAAFJzd9RGgAABAsUEHFgXo53lwuZplm23aQIECBAgQICAAMQMVCEgAKmiDYqoVEAAUmljlEWAAAECZQUcWJf1ndvq5mluHbdfAgQIECBAgMBBAW+AmIaxBQQgY3fA82sWEIDU3B21ESBAgEAxAQfWxWhnubB5mmXbbZoAAQIECBAgcEBAAGIQxhYQgIzdAc+vWUAAUnN31EaAAAECxQQcWBejneXC5mmWbbdpAgQIECBAgIAAxAxUISAAqaINiqhUQABSaWOURYAAAQJlBRxYl/Wd2+rmaW4dt18CBAgQIECAwEEBb4CYhrEFBCBjd8DzaxYQgNTcHbURIECAQDEBB9bFaGe5sHmaZdttmgABAgQIECBwQEAAYhDGFhCAjN0Bz69ZQABSc3fURoAAAQLFBBxYF6Od5cLmaZZtt2kCBAgQIECAgADEDFQhIACpog2KqFRAAFJpY5RFgAABAmUFHFiX9Z3b6uZpbh23XwIECBAgQIDAQQFvgJiGsQUEIGN3wPNrFhCA1NwdtREgQIBAMQEH1sVoZ7mweZpl222aAAECBAgQIHBAQL1tW14AACAASURBVABiEMYWEICM3QHPr1lAAFJzd9RGgAABAsUEHFgXo53lwuZplm23aQIECBAgQICAAMQMVCEgAKmiDYqoVEAAUmljlEWAAAECZQUcWJf1ndvq5mluHbdfAgQIECBAgMBBAW+AmIaxBQQgY3fA82sWEIDU3B21ESBAgEAxAQfWxWhnubB5mmXbbZoAAQIECBAgcEBAAGIQxhYQgIzdAc+vWUAAUnN31EaAAAECxQQcWBejneXC5mmWbbdpAgQIECBAgIAAxAxUISAAqaINiqhUQABSaWOURYAAAQJlBRxYl/Wd2+rmaW4dt18CBAgQIECAwEEBb4CYhrEFBCBjd8DzaxYQgNTcHbURIECAQDEBB9bFaGe5sHmaZdttmgABAgQIECBwQEAAYhDGFhCAjN0Bz69ZQABSc3fURoAAAQLFBBxYF6Od5cLmaZZtt2kCBAgQIECAgADEDFQhIACpog2KqFRAAFJpY5RFgAABAmUFHFiX9Z3b6uZpbh23XwIECBAgQIDAQQFvgJiGsQUEIGN3wPNrFhCA1NwdtREgQIBAMQEH1sVoZ7mweZpl222aAAECBAgQIHBAQABiEMYWEICM3QHPr1lAAFJzd9RGgAABAsUEHFgXo53lwuZplm23aQIECBAgQICAAMQMVCEgAKmiDYqoVEAAUmljlEWAAAECZQUcWJf1ndvq5mluHbdfAgQIECBAgMBBAW+AmIaxBQQgY3fA82sWEIDU3B21ESBAgEAxAQfWxWhnubB5mmXbbZoAAQIECBAgcEBAAGIQxhYQgIzdAc+vWUAAUnN31EaAAAECxQQcWBejneXC5mmWbbdpAgQIECBAgIAAxAxUISAAqaINiqhUQABSaWOURYAAAQJlBRxYl/Wd2+rmaW4dt18CBAgQIECAwEEBb4CYhrEFBCBjd8DzaxYQgNTcHbURIECAQDEBB9bFaGe5sHmaZdttmgABAgQIECBwQEAAYhDGFhCAjN0Bz69ZQABSc3fURoAAAQLFBBxYF6Od5cLmaZZtt2kCBAgQIECAgADEDFQhIACpog2KqFRAAFJpY5RFgAABAmUFHFiX9Z3b6uZpbh23XwIECBAgQIDAQQFvgJiGsQUEIGN3wPNrFhCA1NwdtREgQIBAMQEH1sVoZ7mweZpl222aAAECBAgQIHBAQABiEMYWEICM3QHPr1lAAFJzd9RGgAABAsUEHFgXo53lwuZplm23aQIECBAgQICAAMQMVCEgAKmiDYqoVEAAUmljlEWAAAECZQUcWJf1ndvq5mluHbdfAgQIECBAgMBBAW+AmIaxBQQgY3fA82sWEIDU3B21ESBAgEAxAQfWxWhnubB5mmXbbZoAAQIECBAgcEBAAGIQxhYQgIzdAc+vWUAAUnN31EaAAAECxQQcWBejneXC5mmWbbdpAgQIECBAgIAAxAxUISAAqaINiqhUQABSaWOURYAAAQJlBRxYl/Wd2+rmaW4dt18CBAgQIECAwEEBb4CYhrEFBCBjd8DzaxYQgNTcHbURIECAQDEBB9bFaGe5sHmaZdttmgABAgQIECBwQEAAYhDGFhCAjN0Bz69ZQABSc3fURoAAAQLFBBxYF6Od5cLmaZZtt2kCBAgQIECAgADEDFQhIACpog2KqFRAAFJpY5RFgAABAmUFHFiX9Z3b6uZpbh23XwIECBAgQIDAQQFvgJiGsQUEIGN3wPNrFhCA1NwdtREgQIBAMQEH1sVoZ7mweZpl222aAAECBAgQIHBAQABiEMYWEICM3QHPr1lAAFJzd9RGgAABAsUEHFgXo53lwuZplm23aQIECBAgQICAAMQMVCEgAKmiDYqoVEAAUmljlEWAAAECZQUcWJf1ndvq5mluHbdfAgQIECBAgMBBAW+AmIaxBQQgY3fA82sWEIDU3B21ESBAgEAxAQfWxWhnubB5mmXbbZoAAQIECBAgcEBAAGIQxhYQgIzdAc+vWUAAUnN31EaAAAECxQQcWBejneXC5mmWbbdpAgQIECBAgIAAxAxUISAAqaINiqhUQABSaWOURYAAAQJlBRxYl/Wd2+rmaW4dt18CBAgQIECAwEEBb4CYhrEFBCBjd8DzaxYQgNTcHbURIECAQDEBB9bFaGe5sHmaZdttmgABAgQIECBwQEAAYhDGFhCAjN0Bz69ZQABSc3fURoAAAQLFBBxYF6Od5cLmaZZtt2kCBAgQIECAgADEDFQhIACpog2KqFRAAFJpY5RFgAABAmUFHFiX9Z3b6uZpbh23XwIECBAgQIDAQQFvgJiGsQUEIGN3wPNrFhCA1NwdtREgQIBAMQEH1sVoZ7mweZpl222aAAECBAgQIHBAQABiEMYWEICM3QHPr1lAAFJzd9RGgAABAsUEHFgXo53lwuZplm23aQIECBAgQICAAMQMVCEgAKmiDYqoVEAAUmljlEWAAAECZQUcWJf1ndvq5mluHbdfAgQIECBAgMBBAW+AmIaxBQQgY3fA82sWEIDU3B21ESBAgEAxAQfWxWhnubB5mmXbbZoAAQIECBAgcEBAAGIQxhYQgIzdAc+vWUAAUnN31EaAAAECxQQcWBejneXC5mmWbbdpAgQIECBAgIAAxAxUISAAqaINiqhUQABSaWOURYAAAQJlBRxYl/Wd2+rmaW4dt18CBAgQIECAwEEBb4CYhrEFBCBjd8DzaxYQgNTcHbURIECAQDEBB9bFaGe5sHmaZdttmgABAgQIECBwQEAAYhDGFhCAjN0Bz69ZQABSc3fURoAAAQLFBBxYF6Od5cLmaZZtt2kCBAgQIECAgADEDFQhIACpog2KqFRAAFJpY5RFgAABAmUFHFiX9Z3b6uZpbh23XwIECBAgQIDAQQFvgJiGsQUEIGN3wPNrFhCA1NwdtREgQIBAMQEH1sVoZ7mweZpl222aAAECBAgQIHBAQABiEMYWEICM3QHPr1lAAFJzd9RGgAABAsUEHFgXo53lwuZplm23aQIECBAgQICAAMQMVCEgAKmiDYqoVEAAUmljlEWAAAECZQUcWJf1ndvq5mluHbdfAgQIECBAgMBBAW+AmIaxBQQgY3fA82sWEIDU3B21ESBAgEAxAQfWxWhnubB5mmXbbZoAAQIECBAgcEBAAGIQxhYQgIzdAc+vWUAAUnN31EaAAAECxQQcWBejneXC5mmWbbdpAgQIECBAgIAAxAxUISAAqaINiqhUQABSaWOURYAAAQJlBRxYl/Wd2+rmaW4dt18CBAgQIECAwEEBb4CYhrEFBCBjd8DzaxYQgNTcHbURIECAQDEBB9bFaGe5sHmaZdttmgABAgQIECBwQEAAYhDGFhCAjN0Bz69ZQABSc3fURoAAAQLFBBxYF6Od5cLmaZZtt2kCBAgQIECAgADEDFQhIACpog2KSHK5JN+f5C5Jrpnk+CTdfH46ybuTvCbJK5O8Mcl5WxITgGwJ2mMIECBAoC4BB9Z19WPq1ZinqXdQ/QQIECBAgACB9QW8AbK+nTuHERCADONolfUFLpLkIUkeneQSSyxz0yRvWeK6IS4RgAyhaA0CBAgQmJyAA+vJtazqgs1T1e1RHAECBAgQIECgqIAApCivxZcQEIAsgTTBS45JckqSGyW5bJLj+rcpHlTZXo5M8rwk37errg8mOb3/Z1dMco0kXVDSfQQglTVROQQIECDQnoAD6/Z6OuaOzNOY+p5NgAABAgQIEBhXQAAyrr+nf+0rhnzaEejCgkck+dEkF1/YVtfnC5IccYitvjjJtfo/v0OSD2yR41lJfqh/3leTPCnJ7yX5yK4avjFJV9uPJfnlJG/bUo3eANkStMcQIECAQF0CDqzr6sfUqzFPU++g+gkQIECAAAEC6wsIQNa3c+cwAgKQYRxrWOVOSf48yWX6tz1217RXAHLfJE/rA5DfSPLILW2mCz66AKT7nJ3ke5K8YkvPXvYxApBlpVxHgAABAk0JOLBuqp2jb8Y8jd4CBRAgQIAAAQIERhMQgIxG78G9gACkjVG4TZLuTY6j+vCj+5Hwf0ryziRdMHLVw7wB0r0p8h9Jjk7yriTX2wJJ91sf3ddcdT983n0emOQpW3juqo8QgKwq5noCBAgQaELAgXUTbaxmE+apmlYohAABAgQIECCwdQEByNbJPXCXgABk+iPR/d7Hvyc5sQ85XpXk/kk+1G+tC0bueJgApLvshf0bGN1bIscnObMwS1ffH/XP6Gr/tiTnF37mOssLQNZRcw8BAgQITF7AgfXkW1jVBsxTVe1QDAECBAgQIEBgqwICkK1ye9ghBAQg0x+L7u2J3+8DjtP638rofk9j57NMAPKLSR7dr9GFJS8vzPLGJCf3z+i+cutRhZ+37vICkHXl3EeAAAECkxZwYD3p9lVXvHmqriUKIkCAAAECBAhsTUAAsjVqD9pDQAAy/dFYDDium+Tdu7a0TABy1yQv6AOQn1h4O6OEznFJPrfwOyW3SPL6Eg8aYE0ByACIliBAgACB6Qk4sJ5ez2qu2DzV3B21ESBAgAABAgTKCghAyvpafX8BAcj+RrVf8bEkJyR5X5JrHaLYZQKQWyd5ZR+A/EKSJxTc9O2TvGxh/S4Q+WKSmyX58SSn9vs5K0kXQHR1/VmStxesaa+lBSAjoHskAQIECIwv4MB6/B60VIF5aqmb9kKAAAECBAgQWE1AALKal6uHFxCADG+67RW/3P/4effbH124sPuzTAByyySv7gOQ7uuwHl9wEz+d5Lf69b+U5DJJfjfJAw7zzO63Sf44yYOSnFuwtt1LC0C2iO1RBAgQIFCPgAPrenrRQiXmqYUu2gMBAgQIECBAYD0BAch6bu4aTkAAMpzlWCt9Osmlk7whyc0PUcQyAcgPJHleH4B0QcTTC27mN5J0IUv3OSPJK5L8cP/35yX51/4rsrofdf+WXXV0v01ypyTddet+ugCm+88ynysmOeKEE07Ixz/eZSE+BAgQIEBgHgIOrOfR523t0jxtS9pzCBAgQIAAAQL1CQhA6uvJ3CoSgEy/4+9Mcu0kn+/fpti9o2UCkN9O8lNb+hH07gfbuzc5dn+e0wcTXSiy87lBH8bcZOGf/XqSX9mgbb+66v0CkA203UqAAAECkxRwYD3JtlVbtHmqtjUKI0CAAAECBAgUFxCAFCf2gH0EBCDTH5Gn9F8f1X1N1J2TvHTXlvYLQI5J8uEkl09yTh+inF2QpXu75L671n/2wlsgux99yf7tli7k6T7d12ZdJcln16zRGyBrwrmNAAECBOYj4MB6Pr3exk7N0zaUPYMAAQIECBAgUKeAAKTOvsypKgHI9Lt9hyT/0L+98W9JTk7S/S7Izme/AORJSR7S3/83Se5WmKR73kMXntGFLVdO8pnDPLfb40sW/vwnkjy1cJ3d8n4DZAvIHkGAAAEC9Qk4sK6vJ1OuyDxNuXtqJ0CAAAECBAhsJiAA2czP3ZsLCEA2N6xhhdckuUUfYrwuyQ8lOb0vbK8A5GJJHtd/HVU3B+cnuXGSdxTe0OJvgHSP+qslQpeuvu6rsbq3VLpP93VZ3R5LfwQgpYWtT4AAAQJVCjiwrrItky3KPE22dQonQIAAAQIECGwsIADZmNACGwoIQDYErOT2ayXpgo/L9PV0b4C8IMmrkjywDza6r8j67iRXSPLtfejQXd/NQPdn3W9r/NoW9vOwJN1vjux8filJF4rs9+necrljf9Eb+z3sd8+mfy4A2VTQ/QQIECAwSQEH1pNsW7VFm6dqW6MwAgQIECBAgEBxAQFIcWIP2EdAANLOiJyS5IULb0l0ocbiZyfo2Plni71/cpIHb4niTkm6t1J2Pst+ndWzFt76+PckXehT+iMAKS1sfQIECBCoUsCBdZVtmWxR5mmyrVM4AQIECBAgQGBjAQHIxoQW2FBAALIhYGW3d18R9Xv92x0X6WtbDEJ29/uTSR6e5Jlb3Ef3ex8fXXjeTyXpfhdkv0/3Rsv39Rf9S5Ib7HfDAH8uABkA0RIECBAgMD0BB9bT61nNFZunmrujNgIECBAgQIBAWQEBSFlfq+8vIADZ32iKV1ytf1vi1CTX7b8a65gkX0ryqSRv6H9U/HlJzh1hgx9IcvX+uV340YUg+33emuRG/UUvS9L9MHrpjwCktLD1CRAgQKBKAQfWVbZlskWZp8m2TuEECBAgQIAAgY0FBCAbE1pgQwEByIaAE7q9eyOk+6HzGj5PTPIzfSHvSnKdfYrqfrekCyOO7K97VJJHbmEjApAtIHsEAQIECNQn4MC6vp5MuSLzNOXuqZ0AAQIECBAgsJmAAGQzP3dvLiAA2dzQCqsLdIFH9zVWO1/T9b1J/u9hlnlCkv+18Oc3SdK9EVL6IwApLWx9AgQIEKhSwIF1lW2ZbFHmabKtUzgBAgQIECBAYGMBAcjGhBbYUEAAsiGg29cWeEaSe/d3/0eS2/ehyO4F75HkL5Ic0f/BS5J0P6S+jY8AZBvKnkGAAAEC1Qk4sK6uJZMuyDxNun2KJ0CAAAECBAhsJCAA2YjPzQMICEAGQLTEWgLdD7Z3v0XS/V5J9zknydOTvDTJ55J0P5b+A0nusrD6p5PceNePqK/18CVvEoAsCeUyAgQIEGhLwIF1W/0cezfmaewOeD4BAgQIECBAYDwBAch49p78NQEBiEkYU+Ck/sfYr7JEEZ9I8j1J/nmJa4e6RAAylKR1CBAgQGBSAg6sJ9Wu6os1T9W3SIEECBAgQIAAgWICApBitBZeUkAAsiTUyJedtaXnX5Dk4lt61s5jvjHJ45L8SJJLHOLZX07yJ0l+PcmntlybAGTL4B5HgAABAnUIOLCuow+tVGGeWumkfRAgQIAAAQIEVhcQgKxu5o5hBQQgw3qWWu38JF04Ubpf3TN2fmuj1F72WvdiSW6V5JuTXCbJ55O8P8lrk5y97WL65wlARoL3WAIECBAYV8CB9bj+rT3dPLXWUfshQIAAAQIECCwvIABZ3sqVZQRKH6iXqXp+q3YByLKfLsToPvv1due6xWvHDECW3d82rxOAbFPbswgQIECgGgEH1tW0oolCzFMTbbQJAgQIECBAgMBaAgKQtdjcNKDAfofkAz7KUhsIXGuJe6+T5KlJLpvkvCSvTPLiJP+W5DP9j4xfsv/R8ZOT3C3Jif2bJc9L8qgkXdDy3iWeNZdLBCBz6bR9EiBAgMCFBBxYG4ghBczTkJrWIkCAAAECBAhMS0AAMq1+tVitAKSNrt4yyYuSHJvkH5PcP8l79tla91VXD0zym0ku2ocl3Y+ML74Z0obO+rsQgKxv504CBAgQmLCAA+sJN6/C0s1ThU1REgECBAgQIEBgSwICkC1Be8yeAgKQ6Q/H5ZK8s3/z49VJ7pzk3BW2dYc+POlm4TeSPHKFe1u/VADSeoftjwABAgQOKeDA2mAMKWCehtS0FgECBAgQIEBgWgICkGn1q8VqBSDT7+ovJHlM/+bGtyb5wBpbemaSeyX5QpLjk3x5jTVavEUA0mJX7YkAAQIE9hVwYL0vkQtWEDBPK2C5lAABAgQIECDQmIAApLGGTnA7ApAJNm1XyW9KcpP+tz6ut+Z2ut8DeX4fonRfg9V9nZZPIgAxBQQIECAwSwEH1rNse7FNm6ditBYmQIAAAQIECFQvIACpvkXNFygAmX6LP7Xw9Ve3W3M7pyY5rQ9AHpLkyWuu09ptApDWOmo/BAgQILCUgAPrpZhctKSAeVoSymUECBAgQIAAgQYFBCANNnViWxKATKxhhyj3rCRHJ3lfkpPW3M49kjy7D0C6r9R6wprrtHabAKS1jtoPAQIECCwl4MB6KSYXLSlgnpaEchkBAgQIECBAoEEBAUiDTZ3YlgQgE2vYIcrtgo9r9OHFDfofRF91Vy9Ictd+jXsnedaqCzR6vQCk0cbaFgECBAgcXsCBtQkZUsA8DalpLQIECBAgQIDAtAQEINPqV4vVCkCm39U/THL/Prx4a5LbJvnPFbZ19yTP6a8/P8lV87XfvvDxGyBmgAABAgRmKuDAeqaNL7Rt81QI1rIECBAgQIAAgQkICEAm0KTGSxSATL/BN0rS/RD6Ti/fmeSBSV6/z9YuluThSbqvvDqiD1D+Nsldpk8y2A68ATIYpYUIECBAYEoCDqyn1K36azVP9fdIhQQIECBAgACBUgICkFKy1l1WQACyrFTd1z02yc/3IUbX0wv6r8J6Sf/XzyQ5N8kl+zc8Tk5y5ySXWAhOumtumOT0ure61eoEIFvl9jACBAgQqEXAgXUtnWijDvPURh/tggABAgQIECCwjoAAZB019wwpIAAZUnPctf53kofuCkEOV9FOUNL99Ywkd1jz90PG3XXZpwtAyvpanQABAgQqFXBgXWljJlqWeZpo45RNgAABAgQIEBhAQAAyAKIlNhIQgGzEV93N35nkSf2Poi8W170R0n129/urSZ7Rvz3y2ep2M35BApDxe6ACAgQIEBhBwIH1COgNP9I8NdxcWyNAgAABAgQI7CMgADEiYwsIQMbuQJnndz+E3v2Wx02TXDPJpfrf+TgryZlJ3pbktf2Pn3+qTAlNrCoAaaKNNkGAAAECqwo4sF5VzPWHEzBP5oMAAQIECBAgMF8BAch8e1/LzgUgtXSifB0XSXJ++cc09QQBSFPttBkCBAgQWFbAgfWyUq5bRsA8LaPkGgIECBAgQIBAmwICkDb7OqVdCUCm1C21bltAALJtcc8jQIAAgSoEHFhX0YZmijBPzbTSRggQIECAAAECKwsIQFYmc8PAAgKQgUEt15SAAKSpdtoMAQIECCwr4MB6WSnXLSNgnpZRcg0BAgQIECBAoE0BAUibfZ3SrgQgU+qWWrctIADZtrjnESBAgEAVAg6sq2hDM0WYp2ZaaSMECBAgQIAAgZUFBCArk7lhYAEByMCglmtKQADSVDtthgABAgSWFXBgvayU65YRME/LKLmGAAECBAgQINCmgACkzb5OaVcCkCl169C1njXgFi5IcvEB15v6UgKQqXdQ/QQIECCwloAD67XY3LSHgHkyGgQIECBAgACB+QoIQObb+1p2LgCppRPr13F+ki64GKKX3TpHrF9Kc3cKQJprqQ0RIECAwDICDqyXUXLNsgLmaVkp1xEgQIAAAQIE2hMQgLTX06ntaIhD86ntubV6uwBk3U8XeHSfnTkQgFxYUgCy7mS5jwABAgQmLeDAetLtq65481RdSxREgAABAgQIENiagABka9QetIeAAGT6o3GtFbbQvd1xqSTXTfK9Se7U3/sXSR7bv0ny3hXWa/1SAUjrHbY/AgQIEDikgANrgzGkgHkaUtNaBAgQIECAAIFpCQhAptWvFqsVgLTY1eX3dGqS5ya5YpJnJrnP8rfO4koByCzabJMECBAgsFvAgbWZGFLAPA2paS0CBAgQIECAwLQEBCDT6leL1QpAWuzqanu6fpI3JzkyyUOT/MFqtzd9tQCk6fbaHAECBAjsJeDA2mwMKWCehtS0FgECBAgQIEBgWgICkGn1q8VqBSAtdnX1PT0tyX2TnJnkhCTnrb5Ek3cIQJpsq00RIECAwH4CDqz3E/LnqwiYp1W0XEuAAAECBAgQaEtAANJWP6e4GwHIFLs2fM3fn+Qv+98A6X4X5GXDP2KSKwpAJtk2RRMgQIDApgIOrDcVdP+igHkyDwQIECBAgACB+QoIQObb+1p2LgCppRPj1nGLJK/pA5AHJXnquOVU83QBSDWtUAgBAgQIbFPAgfU2tdt/lnlqv8d2SIAAAQIECBDYS0AAYjbGFhCAjN2BOp5/1yQv6AOQX0zy+DrKGr0KAcjoLVAAAQIECIwh4MB6DPV2n2me2u2tnREgQIAAAQIE9hMQgOwn5M9LCwhASgtPY/1nJblnH4DcL8mfTqPs4lUKQIoTewABAgQI1CjgwLrGrky3JvM03d6pnAABAgQIECCwqYAAZFNB928qIADZVHD69z8kyZP6bVyQ5NpJ3jv9bQ2yAwHIIIwWIUCAAIGpCTiwnlrH6q7XPNXdH9URIECAAAECBEoKCEBK6lp7GQEByDJKdV9z8orlHZXk0kmun+RuSW6YpJuDLvzofgfkNiuu1/LlApCWu2tvBAgQILCngANrwzGkgHkaUtNaBAgQIECAAIFpCQhAptWvFqsVgEy/q+f34cUmO+nm4MwkpyZ53yYLNXavAKSxhtoOAQIECCwn4MB6OSdXLSdgnpZzchUBAgQIECBAoEUBAUiLXZ3WngQg0+rXoardCUA26WX35sf9hR9fxysAmf6/H3ZAgAABAmsIOLBeA80tewqYJ8NBgAABAgQIEJivgABkvr2vZeebHJrXsoe513HGim+AnJvk/yX5aJK3JfnrJG+ZO+Ie+xeAGAwCBAgQmKWAA+tZtr3Yps1TMVoLEyBAgAABAgSqFxCAVN+i5gsUgDTfYhvcQEAAsgGeWwkQIEBgugIOrKfbuxorN081dkVNBAgQIECAAIHtCAhAtuPsKXsLCEBMB4G9BQQgpoMAAQIEZingwHqWbS+2afNUjNbCBAgQIECAAIHqBQQg1beo+QIFIM232AY3EBCAbIDnVgIECBCYroAD6+n2rsbKzVONXVETAQIECBAgQGA7AgKQ7Th7yt4CApDpT8fJ/RY+n+Tf19zONZNcpr/3TWuu0eJtApAWu2pPBAgQILCvgAPrfYlcsIKAeVoBy6UECBAgQIAAgcYEBCCNNXSC2xGATLBpu0o+v/8R9Jck+c41t9P9EPr/6Nc5cs01WrxNANJiV+2JAAECBPYVcGC9L5ELVhAwTytguZQAAQIECBAg0JiAAKSxhk5wOwKQCTatUADyvX0AcsT0SQbbgQBkMEoLESBAgMCUBBxYT6lb9ddqnurvkQoJECBAgAABAqUEBCClZK27rIAAZFmpeq8b6g0QAcjX91gAUu/cq4wAAQIECgo4sC6IO8OlzdMMm27LBAgQIECAAIFeQABiFMYWEICM3YHNTJ7MxgAAIABJREFUnz9EAPJ3/ddnnZPk2M1LamYFAUgzrbQRAgQIEFhFwIH1Klqu3U/APO0n5M8JECBAgAABAu0KCEDa7e1UdiYAmUqn9q5ziADkXUlOSnJmkitOn2SwHQhABqO0EAECBAhMScCB9ZS6VX+t5qn+HqmQAAECBAgQIFBKQABSSta6ywoIQJaVqve6TQOQH0zy3P73P16b5Nb1bnXrlQlAtk7ugQQIECBQg4AD6xq60E4N5qmdXtoJAQIECBAgQGBVAQHIqmKuH1pAADK0aNn1XnSI5e/UhxefTvLWJR/f9b37qqtrJLlSku7vL0jyS0keu+Qac7hMADKHLtsjAQIECHydgANrQzGkgHkaUtNaBAgQIECAAIFpCQhAptWvFqsVgEyrqztveyxWvdPDLsBY99Ot8Ykk10/y2XUXafA+AUiDTbUlAgQIENhfwIH1/kauWF7APC1v5UoCBAgQIECAQGsCApDWOjq9/QhAptWzLgAZ+tOt+dIkD0nygaEXn/h6ApCJN1D5BAgQILCegAPr9dzcdWgB82QyCBAgQIAAAQLzFRCAzLf3texcAFJLJ5ar4wGHuOwp/ddXdT9k/vvLLZMu9PhSkjOSvN1bH3uqCUCWHCiXESBAgEBbAg6s2+rn2LsxT2N3wPMJECBAgAABAuMJCEDGs/fkrwkIQKY/CZv+CPr0BcrtQABSztbKBAgQIFCxgAPripszwdLM0wSbpmQCBAgQIECAwEACApCBIC2ztoAAZG26am58bv8GSPcmx+OrqaqNQgQgbfTRLggQIEBgRQEH1iuCufywAubJgBAgQIAAAQIE5isgAJlv72vZuQCklk6oo0YBAUiNXVETAQIECBQXcGBdnHhWDzBPs2q3zRIgQIAAAQIELiQgADEQYwsIQMbugOfXLCAAqbk7aiNAgACBYgIOrIvRznJh8zTLtts0AQIECBAgQOCAgADEIIwtIAAZuwOeX7OAAKTm7qiNAAECBIoJOLAuRjvLhc3TLNtu0wQIECBAgAABAYgZqEJAAFJFG/Yt4uRdV7xp4e93/9m+i+1zweLam6419fsFIFPvoPoJECBAYC0BB9ZrsblpDwHzZDQIECBAgAABAvMV8AbIfHtfy84FILV04vB1nN//0Hl31QVJjly4fPHPNt3N7rU3XW/q9wtApt5B9RMgQIDAWgIOrNdic5MAxAwQIECAAAECBAjsEhCAGImxBQQgY3dguefvhBxdv7qQ4ohDBCBD9HL32stV1+5VApB2e2tnBAgQIHAYAQGI8RhSwDwNqWktAgQIECBAgMC0BAQg0+pXi9UOcWjeokttezpj4Q2QrrbjFwrc/Web1r649qZrTf1+AcjUO6h+AgQIEFhLwIH1Wmxu2kPAPBkNAgQIECBAgMB8BQQg8+19LTsXgNTSCXXUKCAAqbEraiJAgACB4gIOrIsTz+oB5mlW7bZZAgQIECBAgMCFBAQgBmJsAQHI2B3w/JoFBCA1d0dtBAgQIFBMwIF1MdpZLmyeZtl2myZAgAABAgQIHBAQgBiEsQUEIGN3wPNrFhCA1NwdtREgQIBAMQEH1sVoZ7mweZpl222aAAECBAgQICAAMQNVCAhAqmiDIioVEIBU2hhlESBAgEBZAQfWZX3ntrp5mlvH7ZcAAQIECBAgcFDAGyCmYWwBAcjYHfD8mgUEIDV3R20ECBAgUEzAgXUx2lkubJ5m2XabJkCAAAECBAgcEBCAGISxBQQgY3fA82sWEIDU3B21ESBAgEAxAQfWxWhnubB5mmXbbZoAAQIECBAgIAAxA1UICECqaMNgRRyT5C5Jbp7kpCSXSnKxJMv2+YIk1xmsmukvJACZfg/tgAABAgTWEHBgvQaaW/YUME+GgwABAgQIECAwXwFvgMy397XsfNmD8VrqVcfeAg9M8ugkx62J1M1CF4Acseb9Ld4mAGmxq/ZEgAABAvsKOLDel8gFKwiYpxWwXEqAAAECBAgQaExAANJYQye4HQHIBJt2iJJ/M8nPrPCmx167FoBcWEYA0sa/H3ZBgAABAisKOLBeEczlhxUwTwaEAAECBAgQIDBfAQHIfHtfy84FILV0Yv06Tk1yWv/2RtfPc5K8MMnrkpye5KwVl37Jite3fLkApOXu2hsBAgQI7CngwNpwDClgnobUtBYBAgQIECBAYFoCApBp9avFagUg0+/qs5Lcsw9A3p3ke5J8aPrbqmIHApAq2qAIAgQIENi2gAPrbYu3/Tzz1HZ/7Y4AAQIECBAgcDgBAYj5GFtAADJ2BzZ//oeTXKUPQK6X5F2bL2mFXkAAYhQIECBAYJYCDqxn2fZimzZPxWgtTIAAAQIECBCoXkAAUn2Lmi9QADL9Fp+d5KJ98NEFID7DCQhAhrO0EgECBAhMSMCB9YSaNYFSzdMEmqREAgQIECBAgEAhAQFIIVjLLi0gAFmaqtoLP5XksklemeQ7qq1ymoUJQKbZN1UTIECAwIYCDqw3BHT7hQTMk4EgQIAAAQIECMxXQAAy397XsnMBSC2dWL+Of0pySpJ/SXLD9Zdx5yEEBCDGggABAgRmKeDAepZtL7Zp81SM1sIECBAgQIAAgeoFBCDVt6j5AgUg02/xw5L8VpLzkhyf5NPT31I1OxCAVNMKhRAgQIDANgUcWG9Tu/1nmaf2e2yHBAgQIECAAIG9BAQgZmNsAQHI2B3Y/PnHJfnXJCckeUqSB2++pBV6AQGIUSBAgACBWQo4sJ5l24tt2jwVo7UwAQIECBAgQKB6AQFI9S1qvkABSBst/u9JXp7kmCS/kuTRbWxr9F0IQEZvgQIIECBAYAwBB9ZjqLf7TPPUbm/tjAABAgQIECCwn4AAZD8hf15aQABSWrj8+pfvH9H9/sezklymfyPkj5N0vw9yRpJzVyjjzBWubf1SAUjrHbY/AgQIEDikgANrgzGkgHkaUtNaBAgQIECAAIFpCQhAptWvFqsVgEy/q+cnuWBhGzs9Xfxny+6yu+fIZS+ewXUCkBk02RYJECBA4OsFHFibiiEFzNOQmtYiQIAAAQIECExLQAAyrX61WK0AZPpd3QlAul7uDj1W7W93/xHTJxlsBwKQwSgtRIAAAQJTEnBgPaVu1V+reaq/RyokQIAAAQIECJQSEICUkrXusgKrHpAvu67rtifQBSBDfQQgF5YUgAw1WdYhQIAAgUkJOLCeVLuqL9Y8Vd8iBRIgQIAAAQIEigkIQIrRWnhJAQHIklAVX3b0wLWdM/B6U15OADLl7qmdAAECBNYWcGC9Np0bDyFgnowFAQIECBAgQGC+AgKQ+fa+lp0LQGrphDpqFBCA1NgVNREgQIBAcQEH1sWJZ/UA8zSrdtssAQIECBAgQOBCAgIQAzG2gABk7A54fs0CApCau6M2AgQIECgm4MC6GO0sFzZPs2y7TRMgQIAAAQIEDggIQAzC2AICkLE74Pk1CwhAau6O2ggQIECgmIAD62K0s1zYPM2y7TZNgAABAgQIEBCAmIEqBAQgVbRBEZUKCEAqbYyyCBAgQKCsgAPrsr5zW908za3j9kuAAAECBAgQOCjgDRDTMLaAAGTsDnh+zQICkJq7ozYCBAgQKCbgwLoY7SwXNk+zbLtNEyBAgAABAgQOCAhADMLYAgKQsTuw+fNftPkSOTfJF5J8Osk7kvxjkvcPsO7UlxCATL2D6idAgACBtQQcWK/F5qY9BMyT0SBAgAABAgQIzFdAADLf3teycwFILZ1Yv47zk1yw/u173tmFII9K8tICa09lSQHIVDqlTgIECBAYVMCB9aCcs1/MPM1+BAAQIECAAAECMxYQgMy4+ZVsXQBSSSM2KKMLQHZ/dgKRvfq735/vrNdd9ztJ/tcG9U35VgHIlLundgIECBBYW8CB9dp0bjyEgHkyFgQIECBAgACB+QoIQObb+1p2LgCppRPr1/GA/taLJXl4km9K0vX1k0lek+Td/ddbdUHJpZOclOTUJCf0b450X3v1uCTdn18+yU2T3CbJEf26XQjSrfub65c42TsFIJNtncIJECBAYBMBB9ab6Ll3t4B5MhMECBAgQIAAgfkKCEDm2/tadi4AqaUTm9VxYv9VVddK8uEkP53k/x7mq7G6vn93kt9Oco0k70lyxyQf68u4apI/TXKr/u/PSnL1JGduVubk7haATK5lCiZAgACBIQQcWA+haI0dAfNkFggQIECAAAEC8xUQgMy397XsXABSSyfWr+OoJK/r39x4Z//2xmeWXK57W+TVSa6d5C1JbpHkK/29F+3XvUkfpDyif1NkyaWbuEwA0kQbbYIAAQIEVhVwYL2qmOsPJ2CezAcBAgQIECBAYL4CApD59r6WnQtAaunE+nXcK8kz+5DiZkneuOJSpyT5p/7++/Rr7SxxuyQv6//sFUnusOLaU79cADL1DqqfAAECBNYScGC9Fpub9hAwT0aDAAECBAgQIDBfAQHIfHtfy84FILV0Yv06Xprk9kk+1H+d1TorfSBJ97VXr0zyHQsLdPPx2STHJenCgKuss/iE7xGATLh5SidAgACB9QUcWK9v586vFzBPpoIAAQIECBAgMF8BAch8e1/LzgUgtXRi/To+2v+gefdVVt0bG+t8uuDj1nuEHN3bId1bIt3vgFxincUnfI8AZMLNUzoBAgQIrC/gwHp9O3cKQMwAAQIECBAgQIDAQQEBiGkYW0AAMnYHNn/+2Um63+v45/53QNZZ8c1JbpzknCTH7lpg5w2T7rdBjl5n8QnfIwCZcPOUToAAAQLrCwhA1rdzpwDEDBAgQIAAAQIECAhAzEA9AgKQenqxbiXdIf2Vkpyb5IpJPr/iQpdOckaSI/u/nrDr/n9M8u1JPpek+9H0OX0EIHPqtr0SIECAwH8JCEAMw5AC5mlITWsRIECAAAECBKYl4A2QafWrxWoFINPv6t8l+c7+h8qfnOQhK27pd5M8uL//H5J81677u3Dkckn+Lcn1V1x76pcLQKbeQfUTIECAwFoCDqzXYnPTHgLmyWgQIECAAAECBOYrIACZb+9r2bkApJZOrF/HPZM8qw8wulV+K8kv9W+EHG7Vo5I8KsnP9RddkOReSZ6zcFP3w+gf7Nf+yyTds+b0EYDMqdv2SoAAAQL/JeDA2jAMKWCehtS0FgECBAgQIEBgWgICkGn1q8VqBSBtdPW1SW6+EIJ8LMkzkrwqyXsWvhbruCQnJblNknsn+eYk3Qx04Uf3VVen7uL46SRP7P/8QUme2gbX0rsQgCxN5UICBAgQaEnAgXVL3Rx/L+Zp/B6ogAABAgQIECAwloAAZCx5z90REIC0MQuXT/KKJNfpw4qdUONwu9u5pvvru5LcLsmndt3Q/Tj6NZOcn+Tah/jzNvT23oUApPUO2x8BAgQIHFLAgbXBGFLAPA2paS0CBAgQIECAwLQEBCDT6leL1QpA2ulq93bH7yT5sRW39MwkD+t/5HzFW5u/XADSfIttkAABAgQOJeDA2lwMKWCehtS0FgECBAgQIEBgWgICkGn1q8VqBSDtdfV6Se7f/zD61ffY3oeTvCjJ05K8oz2CwXYkABmM0kIECBAgMCUBB9ZT6lb9tZqn+nukQgIECBAgQIBAKQEBSClZ6y4rIABZVmqa1106yVWSXKov/wtJut8H+cw0t7P1qgUgWyf3QAIECBCoQcCBdQ1daKcG89ROL+2EAAECBAgQILCqgABkVTHXDy0gABla1HotCQhAWuqmvRAgQIDA0gIOrJemcuESAuZpCSSXECBAgAABAgQaFRCANNrYCW1LADKhZil16wICkK2TeyABAgQI1CDgwLqGLrRTg3lqp5d2QoAAAQIECBBYVUAAsqqY64cWEIAMLWq9lgQEIC11014IECBAYGkBB9ZLU7lwCQHztASSSwgQIECAAAECjQoIQBpt7IS2JQCZULOUunUBAcjWyT2QAAECBGoQcGBdQxfaqcE8tdNLOyFAgAABAgQIrCogAFlVzPVDCwhAhhYdf71LJrldkpsmOSHJcUmOXrKsC5J815LXzuEyAcgcumyPBAgQIPB1Ag6sDcWQAuZpSE1rESBAgAABAgSmJSAAmVa/WqxWANJOV49N8pgk901y8TW21c1CF4Acsca9q95y6ySvWvWmJN+W5D1r3LfuLQKQdeXcR4AAAQKTFnBgPen2VVe8eaquJQoiQIAAAQIECGxNQACyNWoP2kNAANLGaHxTktckOSnJsj3two7us3i9AOTC8yAAaePfD7sgQIAAgRUFHFivCObywwqYJwNCgAABAgQIEJivgABkvr2vZefLHpbXUq86Di3w8iS37f/ovCR/leSNSf5nkmv3b3Y8MEn39Vjd12L99yQn99d3occz+uu7f/SHW0BefAPky0lOW/KZ90vShRLb+ghAtiXtOQQIECBQlYAD66raMflizNPkW2gDBAgQIECAAIG1BQQga9O5cSABAchAkCMu0/3ex8v6kOP/Jblzkn/q63lxkjvu8dVWXTDypP73Qs5N8qAkf7ylfSwGIB9JctUtPXfVxwhAVhVzPQECBAg0IeDAuok2VrMJ81RNKxRCgAABAgQIENi6gABk6+QeuEtAADL9keje2Lh/H3L8ZJLfX9jS4QKQncu60OM+Sb7av0Xyui2QCEC2gOwRBAgQIEBgXQEH1uvKue9QAubJXBAgQIAAAQIE5isgAJlv72vZuQCklk6sX8e/JrlOku4tjsskOWvFAOSiSbo1viXJ25LceP1Slr5TALI0lQsJECBAgMD2BRxYb9+85Seap5a7a28ECBAgQIAAgcMLCEBMyNgCApCxO7D58z+d5NJJ/iXJf9u13IuS3Kl/O+RiSc7Z43E/m+Tx/XXXTfLuzcs67AoCkMLAlidAgAABApsIOLDeRM+9uwXMk5kgQIAAAQIECMxXQAAy397XsnMBSC2dWL+O7s2PI5K8Msl37Frm/yT5vj7YOD7JmXs8prvvJf11P5Lk2euXs9SdApClmFxEgAABAgTGEXBgPY57q081T6121r4IECBAgAABAvsLCED2N3JFWQEBSFnfbaz+uSTfmKT77Y5b7Xrgzu97XJDk25O8eY+Cbpnk1X0A8nNJfqtw4QKQwsCWJ0CAAAECmwg4sN5Ez727BcyTmSBAgAABAgQIzFdAADLf3teycwFILZ1Yv46d3wB5T5Jr71qmCzMe1wcbP5Xk9/Z4zAOSPGWkAOQLSV6a5OQkV+h/jL37Wq93JHl5kmcm+eL6PBvd+fEkJ5xwwgn5+Me7/+pDgAABAgTmIeDAeh593tYuzdO2pD2HAAECBAgQIFCfgACkvp7MrSIByPQ7/pwkd++Dg4sn+crClro3LbqvxureAOl+I+RG/X9f3PWR/ZshN+j/rFur++qskp/FN0D2e04XkPzyYcKb/e7f5M8FIJvouZcAAQIEJivgwHqyrauycPNUZVsURYAAAQIECBDYioAAZCvMHnIYAQHI9MfjJ5L8QR9e3CHJKxa21PX3o0mu1P+z5yb56SSf6v/+yn2w8D/6v+9+JP2EJJ8tzLI7APlwktP7H2m/bP8mSxfMLH7+JMl9B6ir23/3n2U+V+x+X8UbIMtQuYYAAQIEWhJwYN1SN8ffi3kavwcqIECAAAECBAiMJSAAGUvec3cEBCDTn4WrJvlgH4D8YZIH7tpSFxo8beHNj+5tkC5s6D4n9n/t5qD7591XZHVflVX60/3mSPdWx58m+YdDBC6XSHKvJI9K0gUiO59fSPL4DYv71SS/ssoaApBVtFxLgAABAi0IOLBuoYv17ME81dMLlRAgQIAAAQIEti0gANm2uOftFhCAtDETf5/k+kn+s/+aq7N3beuPktyvDzl2wo7ukp3/3v31VUnunOTciki6N1Rek6QLebrPWUmuvvAGyzqlegNkHTX3ECBAgMCsBBxYz6rdxTdrnooTewABAgQIECBAoFoBAUi1rZlNYQKQ2bQ6P5bk55Nca9eWz0jyu0me2P+OSG0ipyR5w0JRj0jymC0V6TdAtgTtMQQIECBQl4AD67r6MfVqzNPUO6h+AgQIECBAgMD6AgKQ9e3cOYyAAGQYxymt0n3t1VWSHJXkk0n+fQLFd2+ndL8b0n1eneQ2W6pZALIlaI8hQIAAgboEHFjX1Y+pV2Oept5B9RMgQIAAAQIE1hcQgKxv585hBAQgwzhapaxA95sd3W93dJ9P9D/UXvaJX1tdALINZc8gQIAAgeoEHFhX15JJF2SeJt0+xRMgQIAAAQIENhIQgGzE5+YBBAQgAyBaorjAjyfpfuC9+3S/UXJ08Sd+7QECkC1BewwBAgQI1CXgwLqufky9GvM09Q6qnwABAgQIECCwvoAAZH07dw4jIAAZxtEqZQV+Ksnv9I/4fJJLl33cf60uANkStMcQIECAQF0CDqzr6sfUqzFPU++g+gkQIECAAAEC6wsIQNa3c+cwAgKQYRytUlbgj5Lcv39E95slu3/IvdTTBSClZK1LgAABAlULOLCuuj2TK848Ta5lCiZAgAABAgQIDCYgABmM0kJrCghA1oQb4bbbbumZr9zSc5Z9zLFJPpTkCv0Nf5bkPsvevOF1ApANAd1OgAABAtMUcGA9zb7VWrV5qrUz6iJAgAABAgQIlBcQgJQ39oTDCwhApjMh5ye5oHC53fpHFn7Gqss/McnPLNx0lyQvXHWRNa8XgKwJ5zYCBAgQmLaAA+tp96+26s1TbR1RDwECBAgQIEBgewICkO1Ze9KhBQQg05mMnQBkd8+GCkW6dbu1jihMcockd+x/06MLGPb6HJXkUUl+fuGCf05yky0EQTuPFIAUHgbLEyBAgECdAg6s6+zLVKsyT1PtnLoJECBAgAABApsLCEA2N7TCZgICkM38tnn34hsgpfq2jQCke4Pjr5N0+3l9ktOSvDPJp5Ocm+SySU5O8sNJrrwA/NkkN0vy3i2iC0C2iO1RBAgQIFCPgAPrenrRQiXmqYUu2gMBAgQIECBAYD0BAch6bu4aTqDUQfpwFVppR2AxAPlwkj9P8hdJPjYw0TkDr7d7uZ0AZJXHvC/J3ZO8bZWbBrhWADIAoiUIECBAYHoCDqyn17OaKzZPNXdHbQQIECBAgACBsgICkLK+Vt9fQACyv1EtV3whySX7Yna+9qr766uSPDPJC5KcVUuxh6njpCSPTXKrJJfep94u6Hly/58vjbA3AcgI6B5JgAABAuMLOLAevwctVWCeWuqmvRAgQIAAAQIEVhMQgKzm5erhBQQgw5uWWvGYJN+X5N5JbrfwWx07YUgXEHRfLdWFIa8oVcTA614jybclOTHJpfo9fTHJmUnenOSDAz9v1eUEIKuKuZ4AAQIEmhBwYN1EG6vZhHmqphUKIUCAAAECBAhsXUAAsnVyD9wlIACZ5kgcn+RH+v9cZ2ELO2HI6f1XZHVfk/WeaW6xiqoFIFW0QREECBAgsG0BB9bbFm/7eeap7f7aHQECBAgQIEDgcAICEPMxtoAAZOwObP78GyX50ST3SHK5frmdIKT727cmeUaS5yTpfkjcZ3kBAcjyVq4kQIAAgYYEHFg31MwKtmKeKmiCEggQIECAAAECIwkIQEaC99j/EhCAtDMMRya5cx+GfHeSi+4KQ76S5MX9V2T9bZKvtrP1YjsRgBSjtTABAgQI1CzgwLrm7kyvNvM0vZ6pmAABAgQIECAwlIAAZChJ66wrIABZV67u+7ofF79n/xVZpyyUuvNmyOeSPDfJg+vexujVCUBGb4ECCBAgQGAMAQfWY6i3+0zz1G5v7YwAAQIECBAgsJ+AAGQ/IX9eWkAAUlp4/PW/tX8r5F5JrrwrDDli/PKqrkAAUnV7FEeAAAECpQQcWJeSnee65mmefbdrAgQIECBAgEAnIAAxB2MLCEDG7sD2nn9qkj9I0v1oetf37m0QAcjh/QUg25tPTyJAgACBigQcWFfUjAZKMU8NNNEWCBAgQIAAAQJrCghA1oRz22ACApDBKKtc6KpJ7t1/FdbVFyoUgCzXLgHIck6uIkCAAIHGBBxYN9bQkbdjnkZugMcTIECAAAECBEYUEICMiO/RBwQEIO0NwiWT/GAffNxiV+jR/e3nkzw/yf9n707Arjvne/F/600kEcQs8ipiqqGIKUrMiqq24hStsa2Lajnnr8bW8EdLUZTOAw6lNcVBqzWWQ8wxNcRYs6LmOQmJ5D3XivXIkyfP8z5r773WXve91mdflyvDu9a9fvfn93Muvb9n7/W8JO+Y3vZ73ZEApFdOixEgQIBALQIOrGvpVB11mqc6+qRKAgQIECBAgMAQAgKQIVStuYiAAGQRrXKvPU+S27ahx68kObgtdaO/P0ryuiTPT/LKJD8sdytFVSYAKaodiiFAgACBdQk4sF6X9DyeY57m0We7JECAAAECBAhsJyAAMRdjCwhAxu7Aas+/Vht63DXJJbeEHs0/ntiGHi9M8tXVHjXLuwUgs2y7TRMgQICAA2sz0KeAeepT01oECBAgQIAAgboEBCB19WuK1QpA6utqE3Tco32vxzW2CT3+O0kTeDQ/cfWh+rZXVMUCkKLaoRgCBAgQWJeAA+t1Sc/jOeZpHn22SwIECBAgQIDAdgICEHMxtoAAZOwOdH9+8y2P5oXmt0qyZ0vwcWqSf26/7fHvSc7svqwr9yMgADEeBAgQIDBLAQfWs2z7YJs2T4PRWpgAAQIECBAgULyAAKT4Fk2+QAFIPS1uQo19m15c3/z9W9vQo3mp+ffq2Uo1lQpAqmmVQgkQIECgTwEH1n1qWss8mQECBAgQIECAwHwFBCDz7X0pOxeAlNKJ3evYCECaKz+b5AXtX3e/c7ErnrPY5ZO+WgAy6fbaHAECBAjsJODA2mz0KWCe+tS0FgECBAgQIECgLgEBSF39mmK1ApB6uro5ABmy6o2f1xryGbWsLQCppVPqJECAAIFeBRxY98o5+8XM0+xHAAABAgQIECAwYwEByIwlQUsuAAAgAElEQVSbX8jWBSCFNKJDGVsDkCF61/yslgDk7GYIQDoMpksIECBAYHoCDqyn19Mxd2SextT3bAIECBAgQIDAuAICkHH9PT0Z4hCd6zACX27fATLM6meveqmhH1DR+gKQipqlVAIECBDoT8CBdX+WVkrMkykgQIAAAQIECMxXQAAy396XsnMBSCmdUEeJAgKQEruiJgIECBAYXMCB9eDEs3qAeZpVu22WAAECBAgQIHAOAQGIgRhbQAAydgc8v2QBAUjJ3VEbAQIECAwm4MB6MNpZLmyeZtl2myZAgAABAgQInCUgADEIYwsIQMbugOeXLCAAKbk7aiNAgACBwQQcWA9GO8uFzdMs227TBAgQIECAAAEBiBkoQkAAUkQbFFGogACk0MYoiwABAgSGFXBgPazv3FY3T3PruP0SIECAAAECBM4W8A0Q0zC2gABk7A54fskCApCSu6M2AgQIEBhMwIH1YLSzXNg8zbLtNk2AAAECBAgQOEtAAGIQxhYQgIzdAc8vWUAAUnJ31EaAAAECgwk4sB6MdpYLm6dZtt2mCRAgQIAAAQICEDNQhIAApIg2KKJQAQFIoY1RFgECBAgMK+DAeljfua1unubWcfslQIAAAQIECJwt4BsgpmFsAQHI2B3w/JIFBCAld0dtBAgQIDCYgAPrwWhnubB5mmXbbZoAAQIECBAgcJaAAMQgjC0gABm7A55fsoAApOTuqI0AAQIEBhNwYD0Y7SwXNk+zbLtNEyBAgAABAgQEIGagCAEBSBFtUEShAgKQQhujLAIECBAYVsCB9bC+c1vdPM2t4/ZLgAABAgQIEDhbwDdATMPYAgKQsTvg+SULCEBK7o7aCBAgQGAwAQfWg9HOcmHzNMu22zQBAgQIECBA4CwBAYhBGFtAADJ2Bzy/ZAEBSMndURsBAgQIDCbgwHow2lkubJ5m2XabJkCAAAECBAgIQMxAEQICkCLaoIhCBQQghTZGWQQIECAwrIAD62F957a6eZpbx+2XAAECBAgQIHC2gG+AmIaxBQQgY3fA80sWEICU3B21ESBAgMBgAg6sB6Od5cLmaZZtt2kCBAgQIECAwFkCAhCDMLaAAGTsDnh+yQICkJK7ozYCBAgQGEzAgfVgtLNc2DzNsu02TYAAAQIECBAQgJiBIgQEIEW0QRGFCghACm2MsggQIEBgWAEH1sP6zm118zS3jtsvAQIECBAgQOBsAd8AMQ1jCwhAxu6A55csIAApuTtqI0CAAIHBBBxYD0Y7y4XN0yzbbtMECBAgQIAAgbMEBCAGYWwBAcjYHej3+ZdNcr0kV0vS/P3FkxzaPuLkJF9L8rkkH0nyviSf7ffxk1tNADK5ltoQAQIECHQRcGDdRck1XQXMU1cp1xEgQIAAAQIEpicgAJleT2vbkQCkto6ds96mf7dKcqckt01ymQW30xzwvy7Jy5L8e5IzF7x/6pcLQKbeYfsjQIAAgW0FHFgbjD4FzFOfmtYiQIAAAQIECNQlIACpq19TrFYAUmdXD0/yu0nuk6T5+43Pov3ct+neryZ5dpK/TfKlOll6r1oA0jupBQkQIECgBgEH1jV0qZ4azVM9vVIpAQIECBAgQKBvAQFI36LWW1Rg0QPzRdd3fb8CzTc8HpXkN5Ic2C69tYdfTPKpJM1fv5Xk1CTNNYckuXCSvUku3/51c3UbYciPkjw/yR/7iawIQPqdX6sRIECAQCUCDqwraVQlZZqnShqlTAIECBAgQIDAAAICkAFQLbmQgABkIa7RLr5gkscmeUAbfGzu2/uTvDbJ8Unek+TbHau8UPu+kJu1P5/VvDtk49OEIU0Q8tdJ/jDJdzquObXLBCBT66j9ECBAgEAnAQfWnZhc1FHAPHWEchkBAgQIECBAYIICApAJNrWyLQlA6mhY8/NUF22/ydFU/Ikkz0nyoiSf72kLl05ytyS/leRn2jWbIOTrSS7Z0zNqW0YAUlvH1EuAAAECvQg4sO6F0SKtgHkyCgQIECBAgACB+QoIQObb+1J2LgAppRP7r2Pj5eT/N8lT2xeXD1n5rZM8NEnz1yYE2TPkwwpeWwBScHOURoAAAQLDCTiwHs52jiubpzl23Z4JECBAgAABAj8WEICYhLEFBCBjd6Db89+c5JFJ3tHt8t6uumGSJya5RW8r1rWQAKSufqmWAAECBHoScGDdE6RlzhIwTwaBAAECBAgQIDBfAQHIfHtfys4FIKV0Qh0lCghASuyKmggQIEBgcAEH1oMTz+oB5mlW7bZZAgQIECBAgMA5BAQgBmJsAQHI2B3w/JIFBCAld0dtBAgQIDCYgAPrwWhnubB5mmXbbZoAAQIECBAgcJaAAMQgjC0gABm7A55fsoAApOTuqI0AAQIEBhNwYD0Y7SwXNk+zbLtNEyBAgAABAgQEIGagCAEBSBFtUEShAgKQQhujLAIECBAYVsCB9bC+c1vdPM2t4/ZLgAABAgQIEDhbwDdATMPYAgKQsTvg+SULCEBK7o7aCBAgQGAwAQfWg9HOcmHzNMu22zQBAgQIECBA4CwBAYhBGFtAADJ2B4Z7/t4kF0pyviSL9Pndw5VU3coCkOpapmACBAgQ6EPAgXUfitbYEDBPZoEAAQIECBAgMF8BAch8e1/Kzhc5GC+lZnXsLHC3JPdMcsMkF1gCal+SA5a4b6q3CECm2ln7IkCAAIH9CjiwNiB9CpinPjWtRYAAAQIECBCoS0AAUle/plitAGQaXb10kn9Ocu12O8v2tQlA9kyDpJddCEB6YbQIAQIECNQm4MC6to6VXa95Krs/qiNAgAABAgQIDCkgABlS19pdBJY9KO+ytmvWI3Bokg8mudyWn7pqwozvJzllwTIuteD1U75cADLl7tobAQIECOwo4MDacPQpYJ761LQWAQIECBAgQKAuAQFIXf2aYrUCkPq7+tgkzX+awKPp50uS/H2S5l0ei4Yf9Wv0uwMBSL+eViNAgACBSgQcWFfSqErKNE+VNEqZBAgQIECAAIEBBAQgA6BaciEBAchCXEVe/IEk12gDkEcneVKRVdZZlACkzr6pmgABAgRWFHBgvSKg288hYJ4MBAECBAgQIEBgvgICkPn2vpSdC0BK6cTydXwvSfMzWF9LcngbhCy/mjs3CwhAzAMBAgQIzFLAgfUs2z7Yps3TYLQWJkCAAAECBAgULyAAKb5Fky9QAFJ/i5ufuTooyfFJbln/doragQCkqHYohgABAgTWJeDAel3S83iOeZpHn+2SAAECBAgQILCdgADEXIwtIAAZuwOrP//DSa6S5IQkN1p9OStsEhCAGAcCBAgQmKWAA+tZtn2wTZunwWgtTIAAAQIECBAoXkAAUnyLJl+gAKT+Fj8jyQOTnJzkoklOq39LxexAAFJMKxRCgAABAusUcGC9Tu3pP8s8Tb/HdkiAAAECBAgQ2ElAAGI2xhYQgIzdgdWff7kkH01y3iQPTdIEIj79CAhA+nG0CgECBAhUJuDAurKGFV6ueSq8QcojQIAAAQIECAwoIAAZENfSnQQEIJ2Yir/ovkn+vv32x12TvKL4iusoUABSR59USYAAAQI9Cziw7hl05suZp5kPgO0TIECAAAECsxYQgMy6/UVsXgBSRBt6KeLeSf6qfSF6E4A8J8m7knyzl9XnuYgAZJ59t2sCBAjMXsCB9exHoFcA89Qrp8UIECBAgAABAlUJCECqatckixWATKutt0zy6iQHbtrWmUlO77jNfUkO7XjtHC4TgMyhy/ZIgAABAucScGBtKPoUME99alqLAAECBAgQIFCXgACkrn5NsVoByDS62vTxT5Pcf1P4sUxvmwBkzzRIetmFAKQXRosQIECAQG0CDqxr61jZ9ZqnsvujOgIECBAgQIDAkAICkCF1rd1FYJlD8i7ruma9Ai9OcuckTT+bEGPZvgpAztk3Ach659jTCBAgQKAQAQfWhTRiImWYp4k00jYIECBAgAABAksICECWQHNLrwLLHpT3WoTFVhK4V5J/2BR8fDbJ85K8O8mXk5yy4OofX/D6KV8uAJlyd+2NAAECBHYUcGBtOPoUME99alqLAAECBAgQIFCXgACkrn5NsVoBSP1dfUuSG7cByMuS3H2Bd37Uv/thdyAAGdbX6gQIECBQqIAD60IbU2lZ5qnSximbAAECBAgQINCDgACkB0RLrCQgAFmJr4ibv5PkAklOTXKpJN8toqppFCEAmUYf7YIAAQIEFhRwYL0gmMv3K2CeDAgBAgQIECBAYL4CApD59r6UnQtASunE8nWcnOTgJO9svwmy/Eru3CogADETBAgQIDBLAQfWs2z7YJs2T4PRWpgAAQIECBAgULyAAKT4Fk2+QAFI/S3+zyRXSPLWJDevfztF7UAAUlQ7FEOAAAEC6xJwYL0u6Xk8xzzNo892SYAAAQIECBDYTkAAYi7GFhCAjN2B1Z/fvPD8nu0Lz49YfTkrbBIQgBgHAgQIEJilgAPrWbZ9sE2bp8FoLUyAAAECBAgQKF5AAFJ8iyZfoACk/hYf0377Y1+SX0nyqvq3VMwOBCDFtEIhBAgQILBOAQfW69Se/rPM0/R7bIcECBAgQIAAgZ0EBCBmY2wBAcjYHejn+c9I8sAkX0xykySf7WfZ2a8iAJn9CAAgQIDAPAUcWM+z70Pt2jwNJWtdAgQIECBAgED5AgKQ8ns09QoFINPo8J4kT2tDkG8neUyS5yf57jS2N9ouBCCj0XswAQIECIwp4MB6TP3pPds8Ta+ndkSAAAECBAgQ6CogAOkq5bqhBAQgQ8mub91Xb3rU0UkukqT5Oawzknw8yVeSnNaxnOa+23e8dg6XCUDm0GV7JECAAIFzCTiwNhR9CpinPjWtRYAAAQIECBCoS0AAUle/plitAKT+rp7ZBh6bd7LR1ybQ6Ppp7mmub75N4vNjAQGISSBAgACBWQo4sJ5l2wfbtHkajNbCBAgQIECAAIHiBQQgxbdo8gUKQOpvcROA9PURgJxTUgDS12RZhwABAgSqEnBgXVW7ii/WPBXfIgUSIECAAAECBAYTEIAMRmvhjgICkI5QBV92v55r+/ue16t5OQFIzd1TOwECBAgsLeDAemk6N24jYJ6MBQECBAgQIEBgvgICkPn2vpSdC0BK6YQ6ShQQgJTYFTURIECAwOACDqwHJ57VA8zTrNptswQIECBAgACBcwgIQAzE2AICkLE74PklCwhASu6O2ggQIEBgMAEH1oPRznJh8zTLtts0AQIECBAgQOAsAQGIQRhbQAAydgc8v2QBAUjJ3VEbAQIECAwm4MB6MNpZLmyeZtl2myZAgAABAgQICEDMQBECApAi2qCIQgUEIIU2RlkECBAgMKyAA+thfee2unmaW8ftlwABAgQIECBwtoBvgJiGsQUEIGN3wPNLFhCAlNwdtREgQIDAYAIOrAejneXC5mmWbbdpAgQIECBAgMBZAgIQgzC2gABk7A6s/vy7rL7EOVY4ruf1al5OAFJz99ROgAABAksLOLBems6N2wiYJ2NBgAABAgQIEJivgABkvr0vZecCkFI6sXwdZybZt/zt57izWeeAntaawjICkCl00R4IECBAYGEBB9YLk7lhPwLmyXgQIECAAAECBOYrIACZb+9L2bkApJROLF9HE4As+mmCju163/z7PYsuNuHrBSATbq6tESBAgMDOAg6sTUefAuapT01rESBAgAABAgTqEhCA1NWvKVYrAKm/q+9a4BsgTbhxoSRHbgo6mtDjpCSnthQ3rJ+ktx0IQHqjtBABAgQI1CTgwLqmbpVfq3kqv0cqJECAAAECBAgMJSAAGUrWul0FBCBdpaZ13fmS/FKSRyf52SQfSHJsks9Na5sr70YAsjKhBQgQIECgRgEH1jV2rdyazVO5vVEZAQIECBAgQGBoAQHI0MLW301AALKb0LT//LxJXpjkfyT5bJLrJPn2tLe80O4EIAtxuZgAAQIEpiLgwHoqnSxjH+apjD6oggABAgQIECAwhoAAZAx1z9wsIAAxDwcn+ViSn07ykiR3Q/ITAQGIYSBAgACBWQo4sJ5l2wfbtHkajNbCBAgQIECAAIHiBQQgxbdo8gUKQCbf4k4bfGSSJyQ5Pcllknyl013Tv0gAMv0e2yEBAgQIbCPgwNpY9ClgnvrUtBYBAgQIECBAoC4BAUhd/ZpitQKQKXZ18T3dJslr25ep3zXJcYsvMck7BCCTbKtNESBAgMBuAg6sdxPy54sImKdFtFxLgAABAgQIEJiWgABkWv2scTcCkBq71n/NN03y5jYAeViSp/f/iCpXFIBU2TZFEyBAgMCqAg6sVxV0/2YB82QeCBAgQIAAAQLzFRCAzLf3pexcAFJKJ8at47eT/F0bgDw0yTPGLaeYpwtAimmFQggQIEBgnQIOrNepPf1nmafp99gOCRAgQIAAAQI7CQhAzMbYAgKQsTsw/vMPSvK+JFdrA5A7JXnF+GUVUYEApIg2KIIAAQIE1i3gwHrd4tN+nnmadn/tjgABAgQIECCwPwEBiPkYW0AAMnYHxn3+tZL8VZJj2jJ+mOSSSb47blnFPF0AUkwrFEKAAAEC6xRwYL1O7ek/yzxNv8d2SIAAAQIECBDYSUAAYjbGFhCAjN2B1Z//NwsucWCSCye5ZpIrtPc2c7AvyVOSPGLB9aZ8uQBkyt21NwIECBDYUcCBteHoU8A89alpLQIECBAgQIBAXQICkLr6NcVqBSD1d/XMNrxYZieb+//PSe6c5IxlFproPQKQiTbWtggQIEBg/wIOrE1InwLmqU9NaxEgQIAAAQIE6hIQgNTVrylWKwCpv6tNALLK58NJ/jTJP6yyyETvFYBMtLG2RYAAAQICEDOwPgEByPqsPYkAAQIECBAgUJqAAKS0jsyvHgFI/T1/0oJbOC3J95J8Psl/JPnEgvfP6XIByJy6ba8ECBAg8BMBB9aGoU8B89SnprUIECBAgAABAnUJCEDq6tcUqxWATLGr9tSXgACkL0nrECBAgEBVAg6sq2pX8cWap+JbpEACBAgQIECAwGACApDBaC3cUUAA0hHKZbMUEIDMsu02TYAAAQIOrM1AnwLmqU9NaxEgQIAAAQIE6hIQgNTVrylWKwCpv6t32bSFNyX5Wv1bKmYHApBiWqEQAgQIEFingAPrdWpP/1nmafo9tkMCBAgQIECAwE4CAhCzMbaAAGTsDqz+/OYl6PuSnJzk8CSnrL6kFVoBAYhRIECAAIFZCjiwnmXbB9u0eRqM1sIECBAgQIAAgeIFBCDFt2jyBQpA6m/xqUkOSvLeJEfXv52idiAAKaodiiFAgACBdQk4sF6X9DyeY57m0We7JECAAAECBAhsJyAAMRdjCwhAxu7A6s//dJLLJjk+yS1XX84KmwQEIMaBAAECBGYp4MB6lm0fbNPmaTBaCxMgQIAAAQIEihcQgBTfoskXKACpv8WvSnK7JJ9Ncvn6t1PUDgQgRbVDMQQIECCwLgEH1uuSnsdzzNM8+myXBAgQIECAAIHtBAQg5mJsAQHI2B1Y/fn3TPK89j0g101y4upLWqEVEIAYBQIECBCYpYAD61m2fbBNm6fBaC1MgAABAgQIECheQABSfIsmX6AApP4Wb7z/4+pJ3pnkVkl+UP+2itiBAKSINiiCAAECBNYt4MB63eLTfp55mnZ/7Y4AAQIECBAgsD8BAYj5GFtAADJ2B/p5/lWSvDHJ4UneleS+ST7Sz9KzXkUAMuv22zwBAgTmK+DAer69H2Ln5mkIVWsSIECAAAECBOoQEIDU0acpVykAqb+7d2m30IQfj09y/vafm2+DvC3Jp5J8L8mZHbd6XMfr5nCZAGQOXbZHAgQIEDiXgANrQ9GngHnqU9NaBAgQIECAAIG6BAQgdfVritUKQOrvahNs7NuyjaavW/9dl5029xzQ5cKBr7lckg8lOXTTc/4wyeMGfu7W5QUgawb3OAIECBAoQ8CBdRl9mEoV5mkqnbQPAgQIECBAgMDiAgKQxc3c0a+AAKRfzzFW6/rNji61NQHIni4XDnzN65LcZsszBCADo1ueAAECBAhsCDiwNgt9CpinPjWtRYAAAQIECBCoS0AAUle/plitAKT+rjbv/Fjm2x477fyGI5PcI8k/blODAGTkxng8AQIECMxHwIH1fHq9jp2ap3UoewYBAgQIECBAoEwBAUiZfZlTVQKQOXW7/L1eLMlHk2z89bAkR7RlC0DK758KCRAgQGAiAg6sJ9LIQrZhngpphDIIECBAgAABAiMICEBGQPfIcwgIQAxESQLNNz+ab4A0n5sleX6SywpASmqRWggQIEBgDgIOrOfQ5fXt0Tytz9qTCBAgQIAAAQKlCQhASuvI/OoRgMyv56XuuHnnR/Puj+bz3CT3TvJZAUip7VIXAQIECExZwIH1lLu7/r2Zp/WbeyIBAgQIECBAoBQBAUgpnZhvHQKQ+nt/dLuFbyf5zyW3c8UkF2nvffeSa6xy2/mSfCjJkUm+nuQqSb4hAFmF1L0ECBAgQGB5AQfWy9u589wC5slUECBAgAABAgTmKyAAmW/vS9m5AKSUTixfx5ntS9Cbb0/84pLLvCLJr7TrHLDkGqvc9qdJHtwu8JtJntf+vW+ArKLqXgIECBAgsKSAA+sl4dy2rYB5MhgECBAgQIAAgfkKCEDm2/tSdi4AKaUTy9fRVwByhzYA2bN8KUvded0kJyRpnvvmJLfYtIoAZClSNxEgQIAAgdUEHFiv5ufucwqYJxNBgAABAgQIEJivgABkvr0vZecCkFI6sXwdNQcgzbdN3pPkqCSnJblWko8JQJYfBncSIECAAIE+BBxY96FojQ0B82QWCBAgQIAAAQLzFRCAzLf3pexcAFJKJ5avo48A5N/an8/6YZJDli9l4Tt/P8mT27sen+QxW1bwDZCFSd1AgAABAgRWF3BgvbqhFc4WME+mgQABAgQIECAwXwEByHx7X8rOBSCldGL5OvoIQD7Svnj8q0kOX76Uhe68QpKT2sDlE0mumeQHApCFDF1MgAABAgQGEXBgPQjrbBc1T7NtvY0TIECAAAECBCIAMQRjCwhAxu7A6s9fNQC5S5IXt+//eGuSm69eUqcV3pDkVu2Vt07S/PPWzxDfAGletr7xwvXdCm3CoD179+7NF77whd2u9ecECBAgQGAyAg6sJ9PKIjZinopogyIIECBAgAABAqMICEBGYffQTQICkLrG4dXblPsLbXjx9STv67idpu/NT10138I4Iknzz/uSPDrJkzquscplv5XkOe0CL0hyjx0WGyIAeVySxy5SvABkES3XEiBAgMAUBBxYT6GL5ezBPJXTC5UQIECAAAECBNYtIABZt7jnbRUQgNQ1Exvf9thc9UYPmwBj2U+zxpfan6H65rKLdLzvEkk+muQiSb616ae3trt9iADEN0A6NsplBAgQIDBfAQfW8+39EDs3T0OoWpMAAQIECBAgUIeAAKSOPk25SgFIXd1tApC+P82ar0/yv5J8qu/Ft1mv+bmtX2v//f2SPHM/zxwiAFlki83vXu31DZBFyFxLgAABAlMQcGA9hS6WswfzVE4vVEKAAAECBAgQWLeAAGTd4p63VUAAUtdMNIHB1s/ftj9f1bzI/K86bqcJPU5O8uUkJyYZ+lsfG2XdMMk72n94Z5Jj2tp3KlsA0rGhLiNAgAABAn0KOLDuU9Na5skMECBAgAABAgTmKyAAmW/vS9m5AKSUTixfx6ovQV/+yYvfeWySVyx+27Z3HJmkCUiG/PgGyJC61iZAgACBYgUcWBfbmioLM09Vtk3RBAgQIECAAIFeBAQgvTBaZAUBAcgKeIXc2vykVPP+j+abHH9SSE07lSEAKbxByiNAgAABAo2AA2tz0KeAeepT01oECBAgQIAAgboEBCB19WuK1QpAptjVcvd0uyT/uEB5F05ynvb6U5Ocsuneayf5rwXWWuZS3wBZRs09BAgQIFC9gAPr6ltY1AbMU1HtUAwBAgQIECBAYK0CApC1cnvYNgICEGNRsoB3gJTcHbURIECAwGQFHFhPtrWjbMw8jcLuoQQIECBAgACBIgQEIEW0YdZFCECm0f4bJTl/u5W3JPnBAtv62SRHtNe/P8nXF7h36EsFIEMLW58AAQIECGwj4MDaWPQpYJ761LQWAQIECBAgQKAuAQFIXf2aYrUCkPq7urd9GXjzU1EfSnKtBbd0pyTHte8R+YskD1rw/iEvF4AMqWttAgQIECCwg4ADa6PRp4B56lPTWgQIECBAgACBugQEIHX1a4rVCkDq7+oDkzyjDTDul+TZC26pmYHmXRrNt0C+muTwBe8f8nIByJC61iZAgAABAgIQM7AGAQHIGpA9ggABAgQIECBQqIAApNDGzKgsAUj9zf6XJL/cBiCXSPKNJbb0l0ke0K5xVJKTllhjiFsEIEOoWpMAAQIECOwi4MDaiPQpYJ761LQWAQIECBAgQKAuAQFIXf2aYrUCkPq7+ukkl0vyqSRXWnI790jy/DYAuWeSFy65Tt+3CUD6FrUeAQIECBDoIODAugOSSzoLmKfOVC4kQIAAAQIECExOQAAyuZZWtyEBSHUtO1fBJyc5OMnbktxsye3cIskb2wDkYUmevuQ6U7vtC0n27t27N1/4QvO3PgQIECBAYB4CDqzn0ed17dI8rUvacwgQIECAAAEC5QkIQMrrydwqEoDU3/FTk5w3yVuSNEHGMp8mOHlTG4A8OsmTlllkgvcIQCbYVFsiQIAAgd0FHFjvbuSK7gLmqbuVKwkQIECAAAECUxMQgEyto/XtRwBSX8+2Vty8wHzvij+Bdfck/9gGIPdP8vf1s/SyAwFIL4wWIUCAAIHaBBxY19axsus1T2X3R3UECBAgQIAAgSEFBCBD6lq7i4AApItS2de8NckxbXhxxSSfWaLc5yVp3v2xL8kvJXnNEmtM8RYByBS7ak8ECBAgsKuAA+tdiVywgIB5WjdARwAAACAASURBVADLpQQIECBAgACBiQkIQCbW0Aq3IwCpsGlbSn5Mkse14cVzk9xnwS1dPslH2p/ROi3JRZM07xXxSQQgpoAAAQIEZingwHqWbR9s0+ZpMFoLEyBAgAABAgSKFxCAFN+iyRcoAKm/xVdO8uEk52m38oAkf9dxWxdp3/1xjTZAeXmSO3e8dw6XCUDm0GV7JECAAIFzCTiwNhR9CpinPjWtRYAAAQIECBCoS0AAUle/plitAGQaXf3fSX6r3UrzM1YvSvKEJB/bYXvNS9N/rX3Z+aWSNHNwepJrJvn4NEh62YUApBdGixAgQIBAbQIOrGvrWNn1mqey+6M6AgQIECBAgMCQAgKQIXWt3UVAANJFqfxrzp/k7Uk2vsmxUXETgLwvydeS/DDJYUmulOToJBdog4/m2iY0+e0kTZDic7aAAMQ0ECBAgMAsBRxYz7Ltg23aPA1Ga2ECBAgQIECAQPECApDiWzT5AgUg02nx4UleuumF6E1vm2Bju8/GnzV/bYKRBy3ws1nTEdt9JwKQ3Y1cQYAAAQITFHBgPcGmjrgl8zQivkcTIECAAAECBEYWEICM3ACPP+unj3ymI7AnyQPbQGPvLttqwpF/TfL/JzlpOgS97kQA0iunxQgQIECgFgEH1rV0qo46zVMdfVIlAQIECBAgQGAIAQHIEKrWXERAALKIVj3XHpDkpklukuSqSZqXnR+U5NtJvpzkXUnemOTz9WxplEoFIKOweygBAgQIjC3gwHrsDkzr+eZpWv20GwIECBAgQIDAIgICkEW0XDuEgABkCFVrTkVAADKVTtoHAQIECCwk4MB6IS4X7yJgnowIAQIECBAgQGC+AgKQ+fa+lJ0LQErphDpKFBCAlNgVNREgQIDA4AIOrAcnntUDzNOs2m2zBAgQIECAAIFzCAhADMTYAgKQsTvg+SULCEBK7o7aCBAgQGAwAQfWg9HOcmHzNMu22zQBAgQIECBA4CwBAYhBGFtAADJ2B4Z7/mWTXCfJxZIcluQ8SZ4y3OMmubIAZJJttSkCBAgQ2E3AgfVuQv58EQHztIiWawkQIECAAAEC0xIQgEyrnzXuRgBSY9d2rvl8SX43yf2TXG6by/Zs8+/+McneJPuS3CPJf0+LZKXdCEBW4nMzAQIECNQq4MC61s6VWbd5KrMvqiJAgAABAgQIrENAALIOZc/Yn4AAZDrzce0kL05yxXZLW3vbBBzbBSAPTvK0NgB5hG+JnGMgBCDT+e+HnRAgQIDAAgIOrBfAcumuAuZpVyIXECBAgAABAgQmKyAAmWxrq9mYAKSaVu230GsmeXP7U1cbPW0O7z+UpAlGLtkGHNsFIBdO8pU2HHlfkqOnQdLLLgQgvTBahAABAgRqE3BgXVvHyq7XPJXdH9URIECAAAECBIYUEIAMqWvtLgICkC5KZV/ThBofTHLVtsyPtD+D9db2n1+T5Lb7CUCay16X5NZJzkhy8STfLnvLa6tOALI2ag8iQIAAgZIEHFiX1I36azFP9ffQDggQIECAAAECywoIQJaVc19fAgKQviTHW+eeSZ7XBhwnJblxku9vKqdLAPK4JI9p17hlkuPH205RTxaAFNUOxRAgQIDAugQcWK9Leh7PMU/z6LNdEiBAgAABAgS2ExCAmIuxBQQgY3dg9ee/PMmxbXhxoyQnbFmySwBypyTHtWv8dpL/vXpZk1hBADKJNtoEAQIECCwq4MB6UTHX70/APJkPAgQIECBAgMB8BQQg8+19KTsXgJTSieXr+GySyyT5fJLLbbNMlwCk+dbHG9oA5Pfbl6IvX9F07hSATKeXdkKAAAECCwg4sF4Ay6W7CpinXYlcQIAAAQIECBCYrIAAZLKtrWZjApBqWrVjoackOaj92aomyNj66RKAND+b9ZY2AHlUkifXz9LLDgQgvTBahAABAgRqE3BgXVvHyq7XPJXdH9URIECAAAECBIYUEIAMqWvtLgICkC5KZV/zrSQXTPKOJDdZMgBpfkKr+Smtfe0L1J9Z9pbXVp0AZG3UHkSAAAECJQk4sC6pG/XXYp7q76EdECBAgAABAgSWFRCALCvnvr4EBCB9SY63zseSXDnJV5McvmQA8sQkf9AGIL+c5NXjbaeoJwtAimqHYggQIEBgXQIOrNclPY/nmKd59NkuCRAgQIAAAQLbCQhAzMXYAgKQsTuw+vOfl+SebXhxTJJ3bVlyt5/A2pPkE+37Q36U5GJJvrt6WZNYQQAyiTbaBAECBAgsKuDAelEx1+9PwDyZDwIECBAgQIDAfAUEIPPtfSk7F4CU0onl6/jVJC9tA5C3Jbl5+/cbK+4WgDTf/Gi+AdL8/NX/TXLr5UuZ3J0CkMm11IYIECBAoIuAA+suSq7pKmCeukq5jgABAgQIECAwPQEByPR6WtuOBCC1dezc9TY9PDHJz7Z/1IQh907SvBy9+ewvAHlwkj9J0nwLpAlAmpeoH18/SW87EID0RmkhAgQIEKhJwIF1Td0qv1bzVH6PVEiAAAECBAgQGEpAADKUrHW7CghAukqVfd3PJXljkoPbMr+S5NlJ3pTkD5PcuA04mpDkkkma65ufzbpKkmYGmvCjuf5+ZW9z7dUJQNZO7oEECBAgUIKAA+sSujCdGszTdHppJwQIECBAgACBRQUEIIuKub5vAQFI36LjrfcrSV6U5JAtP4HVVLTR5ybo2PzZ+PevSnLHJM07QHzOFhCAmAYCBAgQmKWAA+tZtn2wTZunwWgtTIAAAQIECBAoXkAAUnyLJl+gAGRaLb5qkn9Icv1N29ocemzt96ntT2A9fpvQZFoyy+1GALKcm7sIECBAoHIBB9aVN7Cw8s1TYQ1RDgECBAgQIEBgjQICkDVie9S2AgKQaQ7GTdufuLpJkitv2eLpSd6T5HVJ/i7J16ZJ0MuuBCC9MFqEAAECBGoTcGBdW8fKrtc8ld0f1REgQIAAAQIEhhQQgAypa+0uAgKQLkp1X3NgkoskOTTJd5J807c9OjdUANKZyoUECBAgMCUBB9ZT6ub4ezFP4/dABQQIECBAgACBsQQEIGPJe+6GgADELBDYWUAAYjoIECBAYJYCDqxn2fbBNm2eBqO1MAECBAgQIECgeAEBSPEtmnyBApDJt9gGVxAQgKyA51YCBAgQqFfAgXW9vSuxcvNUYlfURIAAAQIECBBYj4AAZD3OnrKzgADEdBDYWUAAYjoIECBAYJYCDqxn2fbBNm2eBqO1MAECBAgQIECgeAEBSPEtmnyBApBptviYJMcmuX6SKyW5UJLzJvlekq8meX+StyV5UZJvTZOgl10JQHphtAgBAgQI1CbgwLq2jpVdr3kquz+qI0CAAAECBAgMKSAAGVLX2l0EBCBdlOq55hZJ/jzJ1TeVvLXH+zb92WlJnpnk0W04Us9O11OpAGQ9zp5CgAABAoUJOLAurCGVl2OeKm+g8gkQIECAAAECKwgIQFbAc2svAgKQXhiLWOSPk/xBW0mXvjZBSHNd89fPJ7lNkk8UsZNyihCAlNMLlRAgQIDAGgUcWK8RewaPMk8zaLItEiBAgAABAgR2EBCAGI2xBboclI9do+fvLvDYJM1/Nn+aMOM1ST6c5BtJfpjkAkmOTHJ0ktsmObgNQJo5+HKSayf5yu6Pm80VApDZtNpGCRAgQGCzgANr89CngHnqU9NaBAgQIECAAIG6BAQgdfVritUKQOrv6jWTvDfJnvYbHU3w8T+T/PsuWzssyWOS/N6m616W5C71k/S2AwFIb5QWIkCAAIGaBBxY19St8ms1T+X3SIUECBAgQIAAgaEEBCBDyVq3q4AApKtUudf9TZLfab/J8cEkzXtAvr1Aub+Z5Dnt9Wck+en22yALLDHZSwUgk22tjREgQIDA/gQcWJuPPgXMU5+a1iJAgAABAgQI1CUgAKmrX1OsVgBSf1c/nuRKbQBy/STvX2JL/5Lkl9s17pHkRUusMcVbBCBT7Ko9ESBAgMCuAg6sdyVywQIC5mkBLJcSIECAAAECBCYmIACZWEMr3I4ApMKmbSn55PZdHp9KcuUlt3O3JP/UBiC/n+RpS64ztdsEIFPrqP0QIECAQCcBB9admFzUUcA8dYRyGQECBAgQIEBgggICkAk2tbItCUAqa9g25X4tyUWSvDnJrZbczk2SHN8GIP9fkr9ecp2p3SYAmVpH7YcAAQIEOgk4sO7E5KKOAuapI5TLCBAgQIAAAQITFBCATLCplW1JAFJZw7Yp931Jrp3kpCTXWnI7d0zSvAB9X5Jjk/zrkutM7TYByNQ6aj8ECBAg0EnAgXUnJhd1FDBPHaFcRoAAAQIECBCYoIAAZIJNrWxLApDKGrZNuY9J8rgkZyY5Msl/LbGlZye5d5Lm57QOb/+6xDKTu0UAMrmW2hABAgQIdBFwYN1FyTVdBcxTVynXESBAgAABAgSmJyAAmV5Pa9uRAKS2jp273iOSfCjJYUleneRX2m9ydN3Zjdqfz9qT5M+SPKTrjTO4TgAygybbIgECBAicW8CBtanoU8A89alpLQIECBAgQIBAXQICkLr6NcVqBSDT6Ortk7wiSRNivCbJ/ZJ8scPWmpef/22SCyR5e5JbJPlRh/vmcokAZC6dtk8CBAgQOIeAA2sD0aeAeepT01oECBAgQIAAgboEBCB19WuK1QpA6u/qJdot3DDJs5JcNMkPkvxLkte23w75RpLT2qCj+Zmso5PcJcnV2nuPS/LwJD/cheOr9XMttAMByEJcLiZAgACBqQg4sJ5KJ8vYh3kqow+qIECAAAECBAiMISAAGUPdMzcLCEDqn4fm3R/Ny8s3Phs93fzvtttl1+s27m3WO6B+roV2IABZiMvFBAgQIDAVAQfWU+lkGfswT2X0QRUECBAgQIAAgTEEBCBjqHumAGRaM7ARgDSBxnahx9aQa6dgZLcwrLmv+YmtOX0EIHPqtr0SIECAwE8EHFgbhj4FzFOfmtYiQIAAAQIECNQlIACpq19TrHa3Q+8p7nlqe2oCkHV8BCDrUPYMAgQIECBQgIAD6wKaMKESzNOEmmkrBAgQIECAAIEFBQQgC4K5vHcBAUjvpGtf8KA1PnG3d4SssZS1PMo3QNbC7CEECBAgUJqAA+vSOlJ3Peap7v6pngABAgQIECCwioAAZBU99/YhIADpQ9EaUxUQgEy1s/ZFgAABAvsVcGBtQPoUME99alqLAAECBAgQIFCXgACkrn5NsVoByBS7ak99CQhA+pK0DgECBAhUJeDAuqp2FV+seSq+RQokQIAAAQIECAwmIAAZjNbCHQUEIB2hXDZLAQHILNtu0wQIECDgwNoM9ClgnvrUtBYBAgQIECBAoC4BAUhd/ZpitQKQKXbVnvoSEID0JWkdAgQIEKhKwIF1Ve0qvljzVHyLFEiAAAECBAgQGExAADIYrYU7CghAOkJVftl1k/x2kmOSXCrJ6Um+lORNSZ6T5MOV72+o8gUgQ8lalwABAgSKFnBgXXR7qivOPFXXMgUTIECAAAECBHoTEID0RmmhJQUEIEvCjXTbrya5ZPvsdyd57y51nCfJnye5f3vd5n7va//dGUmenOQxI+2p5McKQErujtoIECBAYDABB9aD0c5yYfM0y7bbNAECBAgQIEDgLAEBiEEYW0AAMnYHuj//oCTfTHJwe0vzrY4Td7n9b5L8zqZrmtBjawjS/HPz75+Q5LHdy5nFlQKQWbTZJgkQIEBgq4ADazPRp4B56lPTWgQIECBAgACBugQEIHX1a4rVCkDq6erPJ3l9G1a8M8mNdyn9Fkne2F7fXNr0+vtJTkjyvSRXTnK19s+bP/tRkusn+UA9JINXKgAZnNgDCBAgQKBEAQfWJXal3prMU729UzkBAgQIECBAYFUBAciqgu5fVUAAsqrg+u5/dJI/agOLByX5i10efXySm2wKQI5rvw3ynU333TzJS5JcrP13/5TkN9a3peKfJAApvkUKJECAAIEhBBxYD6E63zXN03x7b+cECBAgQIAAAQGIGRhbQAAydge6P/9lSe7YBhpXSvLp/dx6ZJJPbfp2R/Otjuslad73sfVz0yRvbv9l8w2Ri7YvSe9e2XSvFIBMt7d2RoAAAQL7EXBgbTz6FDBPfWpaiwABAgQIECBQl4AApK5+TbFaAUg9XW1CjGsk+XqSS+xS9v2S/G17TfN+j7smab4BstPnDUlu2QYmXd4tUo/aapUKQFbzczcBAgQIVCrgwLrSxhVatnkqtDHKIkCAAAECBAisQUAAsgZkj9ivgACkngFpgo8LJ3lfkqN3KfsFbejRXPbD9r4f7OeeByd5WhuA3CtJc79PIgAxBQQIECAwSwEH1rNs+2CbNk+D0VqYAAECBAgQIFC8gACk+BZNvkABSD0tboKMA9oXm99ml7I/maT5Gazm8472XSD7u+UXk/xbG4D8XpK/rIdl0EoFIIPyWpwAAQIEShVwYF1qZ+qsyzzV2TdVEyBAgAABAgT6EBCA9KFojVUEBCCr6K333lOSHJTk7Uma93bs9Gne4fG1TS8///MkzTc89vc5Jslb23ual60/ab1bK/ZpApBiW6MwAgQIEBhSwIH1kLrzW9s8za/ndkyAAAECBAgQ2BAQgJiFsQUEIGN3oPvzv5Tk8CTNXy+9n9tul+RV7Z837/+4e5IX7/KYn0/y+jYA+f3257C6VzbdKwUg0+2tnREgQIDAfgQcWBuPPgXMU5+a1iJAgAABAgQI1CUgAKmrX1OsVgBST1ffkuTGbUhxlSSf2KH0pydpfsaq+TQByGXz43dZ7O/TvCS9ee9Hc/3vJHlWPSyDVioAGZTX4gQIECBQqoAD61I7U2dd5qnOvqmaAAECBAgQINCHgACkD0VrrCIgAFlFb733PiXJQ9uQ4plJfnebxzc/kfW5JBdP0vS2CUl+pkOZT07y8Hbt2yZ5Q4d75nCJAGQOXbZHAgQIEDiXgANrQ9GngHnqU9NaBAgQIECAAIG6BAQgdfVritUKQOrp6lFJ3r/p3R4PSvIXm8o/OEkTjNyj/XfNtzn+KMkfdthi8/6P5j0gzT2XSfLFDvfM4RIByBy6bI8ECBAgIAAxA4MKCEAG5bU4AQIECBAgQKBoAQFI0e2ZRXECkLra/JokzTc0mk8TVnwyybuSnD/J0UmOaP+s6evJSa6Q5Ku7bHFv+62R5p7mwL/5ySyfHwsIQEwCAQIECMxSwIH1LNs+2KbN02C0FiZAgAABAgQIFC8gACm+RZMvUABSV4ubl5+/t/2Jq6bypn9NELL175t/bn4u6xkdtvfIJE9o12neA3KvDvfM5RIByFw6bZ8ECBAgcA4BB9YGok8B89SnprUIECBAgAABAnUJCEDq6tcUqxWA1NfV5p0eL09y1U2lbw5Bmn/9J0ke0WFrhyT5dJJLtgHIryd5aYf75nKJAGQunbZPAgQIEBCAmIHBBAQgg9FamAABAgQIECBQvIAApPgWTb5AAUidLd7TvuvjDkmunOQCSb6R5IQkz2rfFdJlZ3dM0nwDpPmckeSWSU7pcuNMrhGAzKTRtkmAAAEC5xRwYG0i+hQwT31qWosAAQIECBAgUJeAAKSufk2xWgHIFLtqT30JCED6krQOAQIECFQl4MC6qnYVX6x5Kr5FCiRAgAABAgQIDCYgABmM1sIdBQQgHaFcNksBAcgs227TBAgQIODA2gz0KWCe+tS0FgECBAgQIECgLgEBSF39mmK1ApApdtWe+hIQgPQlaR0CBAgQqErAgXVV7Sq+WPNUfIsUSIAAAQIECBAYTEAAMhithTsKCEA6QrlslgICkFm23aYJECBAwIG1GehTwDz1qWktAgQIECBAgEBdAgKQuvo1xWoFIFPsqj31JSAA6UvSOgQIECBQlYAD66raVXyx5qn4FimQAAECBAgQIDCYgABkMFoLdxQQgHSEGvmyk5I8Kskr11zHsUken+Qaa35uKY8TgJTSCXUQIECAwFoFHFivlXvyDzNPk2+xDRIgQIAAAQIEdhQQgBiOsQUEIGN3oNvzz0yyL0kThDw1yUuS/KjbrQtfdWCSX0/ykE3Bx56FV5nGDQKQafTRLggQIEBgQQEH1guCuXy/AubJgBAgQIAAAQIE5isgAJlv70vZuQCklE7sv45PJLlCG4I0V34jyfOTvDDJ+3vawvWT3DXJPZJctF2zmY9PJrlyT8+obRkBSG0dUy8BAgQI9CLgwLoXRou0AubJKBAgQIAAAQIE5isgAJlv70vZuQCklE7sv47mWxkPTvKIJBdsL22+EdJ8mkP61yV5S5L3JGnCkuYbI/v7NN/o+Jkk10tysyS3SXJEe8PGTHwvyROTPCPJaXUw9V6lAKR3UgsSIECAQA0CDqxr6FI9NZqnenqlUgIECBAgQIBA3wICkL5FrbeogABkUbFxr79wkocmecA2QchGZU1Y8fkkX0ryrSSnJmn6fHCS5v69SS6TpAlVNn82Bx9/leRp7f3j7njcpwtAxvX3dAIECBAYScCB9UjwE32seZpoY22LAAECBAgQINBBQADSAcklgwoIQAblHWzx8ye5d5L7Jrn6Nk/Z+HbITgVs1/ePJnlmkuckab794fPjb9fs3bt3b77wheZvfQgQIECAwDwEHFjPo8/r2qV5Wpe05xAgQIAAAQIEyhMQgJTXk7lVJACpv+PXTPKrSW7b/qTVeTpuqfmZrOb9Ic3PZ708yX90vG9OlwlA5tRteyVAgACBnwg4sDYMfQqYpz41rUWAAAECBAgQqEtAAFJXv6ZYrQBkWl09X5KjklwtyWWTXCzJoe0WT07y9SSfS9J826MJPE6Z1vZ7340ApHdSCxIgQIBADQIOrGvoUj01mqd6eqVSAgQIECBAgEDfAgKQvkWtt6iAAGRRMdfPSUAAMqdu2ysBAgQI/ETAgbVh6FPAPPWpaS0CBAgQIECAQF0CApC6+jXFagUgU+yqPfUlIADpS9I6BAgQIFCVgAPrqtpVfLHmqfgWKZAAAQIECBAgMJiAAGQwWgt3FBCAdIRy2SwFBCCzbLtNEyBAgIADazPQp4B56lPTWgQIECBAgACBugQEIHX1a4rVCkCm2FV76ktAANKXpHUIECBAoCoBB9ZVtav4Ys1T8S1SIAECBAgQIEBgMAEByGC0Fu4oIADpCOWyWQoIQGbZdpsmQIAAAQfWZqBPAfPUp6a1CBAgQIAAAQJ1CQhA6urXFKsVgEyxq/bUl4AApC9J6xAgQIBAVQIOrKtqV/HFmqfiW6RAAgQIECBAgMBgAgKQwWgt3FFAANIRymWzFBCAzLLtNk2AAAECDqzNQJ8C5qlPTWsRIECAAAECBOoSEIDU1a8pVisAmWJX7akvAQFIX5LWIUCAAIGqBBxYV9Wu4os1T8W3SIEECBAgQIAAgcEEBCCD0Vq4o4AApCOUy2YpIACZZdttmgABAgQcWJuBPgXMU5+a1iJAgAABAgQI1CUgAKmrX1OsVgAyxa7aU18CApC+JK1DgAABAlUJOLCuql3FF2ueim+RAgkQIECAAAECgwkIQAajtXBHAQFIRyiXzVJAADLLtts0AQIECDiwNgN9CpinPjWtRYAAAQIECBCoS0AAUle/plitAGSKXbWnvgQEIH1JWocAAQIEqhJwYF1Vu4ov1jwV3yIFEiBAgAABAgQGExCADEZr4Y4CApCOUC6bpYAAZJZtt2kCBAgQcGBtBvoUME99alqLAAECBAgQIFCXgACkrn5NsVoByBS7ak99CQhA+pK0DgECBAhUJeDAuqp2FV+seSq+RQokQIAAAQIECAwmIAAZjNbCHQUEIB2hXDZLAQHILNtu0wQIECDgwNoM9ClgnvrUtBYBAgQIECBAoC4BAUhd/ZpitQKQKXbVnvoSEID0JWkdAgQIEKhKwIF1Ve0qvljzVHyLFEiAAAECBAgQGExAADIYrYU7CghAOkJVdtlFk1wlyYWSnC/JIn0+rrK9DlmuAGRIXWsTIECAQLECDqyLbU2VhZmnKtumaAIECBAgQIBALwICkF4YLbKCwCIH4ys8xq1rEDgkye8l+Y0kV1ryefuSHLDkvVO8TQAyxa7aEwECBAjsKuDAelciFywgYJ4WwHIpAQIECBAgQGBiAgKQiTW0wu0IQCps2jYlN9/2eHWSy7Z/tmxfmwBkzzRIetmFAKQXRosQIECAQG0CDqxr61jZ9ZqnsvujOgIECBAgQIDAkAICkCF1rd1FYNmD8i5ru2Y9AudP8pEkl07SBBgbPf1mki8mOWXBMm644PVTvlwAMuXu2hsBAgQI7CjgwNpw9ClgnvrUtBYBAgQIECBAoC4BAUhd/ZpitQKQ+rv6yCRP2BR+PCvJM5J8rP6tjb4DAcjoLVAAAQIECIwh4MB6DPXpPtM8Tbe3dkaAAAECBAgQ2E1AALKbkD8fWkAAMrTw8Ou/K8nRbQDy2DYMGf6p83iCAGQefbZLAgQIENgi4MDaSPQpYJ761LQWAQIECBAgQKAuAQFIXf2aYrUCkPq7+o0kF07y7SQXT3JGBVs6MMl1ktwoyTWTNO8wad5fcqEkzZ99N8l/JXlvkpcm+fckZ46wLwHICOgeSYAAAQLjCziwHr8HU6rAPE2pm/ZCgAABAgQIEFhMQACymJer+xcQgPRvuu4Vm3d8HJTkbUlutu6HL/m8pyZ56AL3npjk3kn+Y4F7+rhUANKHojUIECBAoDoBB9bVtazogs1T0e1RHAECBAgQIEBgUAEByKC8Fu8gIADpgFT4Jf+Z5ApJ3p7kpoXXulHe05I8ZFOtJyf5VJJvtT/ldXiSKyc5z6Zrvp/kF9p9rmubApB1SXsOAQIECBQl4MC6qHZUX4x5qr6FNkCAAAECBAgQWFpAALI0nRt7EhCA9AQ54jLPT3KPJF9N0gQHNXwen+SoJK9M8pYkH9+m6ObnvB6Y5A+S7Gn//PNJrpakCUzW8RGArEPZMwgQIECgOAEH1sW1pOqCzFPVRXo/VQAAIABJREFU7VM8AQIECBAgQGAlAQHISnxu7kFAANID4shLHJPkre03J26f5LUj19P34++T5FmbFm1+Cuu5fT9kh/UEIGuC9hgCBAgQKEvAgXVZ/ai9GvNUewfVT4AAAQIECBBYXkAAsrydO/sREID04zj2Kn+d5HeTfKZ9sfhXxi6o5+d/sv2Zr2bZ5hsvv9Hz+jstJwBZE7THECBAgEBZAg6sy+pH7dWYp9o7qH4CBAgQIECAwPICApDl7dzZj4AApB/HsVc5MMlzktw9yRfbn456RfutkLFr6+P5xyW5c7vQ65Pcto9FO6whAOmA5BICBAgQmJ6AA+vp9XTMHZmnMfU9mwABAgQIECAwroAAZFx/T08EIPVPwd9s2kITEly0DT6+nuQ9Sb6c5LSO29yX5AEdr13nZS9Pcsf2gf9nUxgydA0CkKGFrU+AAAECRQo4sC6yLdUWZZ6qbZ3CCRAgQIAAAQIrCwhAVia0wIoCApAVAQu4/cxtvumx0dcm0Fj0s/HC8UXvG+r65tstzcvPN17w/pAkTx/qYVvWFYCsCdpjCBAgQKAsAQfWZfWj9mrMU+0dVD8BAgQIECBAYHkBAcjydu7sR0AA0o/jmKs0AUhfnyYwKS0AeUqSh7Ub/GaSKyVp/rqOjwBkHcqeQYAAAQLFCTiwLq4lVRdknqpun+IJECBAgAABAisJCEBW4nNzDwICkB4QR17iST0//xE9r7focgckuXiSGyS5f5Jbtwv8IMmxSV636IIrXC8AWQHPrQQIECBQr4AD63p7V2Ll5qnErqiJAAECBAgQILAeAQHIepw9ZWcBAYjpKEGgeV9J8+6SnT5vSNL89NUHeyj2wUma/3T5ND+7tWfv3r35wheaLMSHAAECBAjMQ8CB9Tz6vK5dmqd1SXsOAQIECBAgQKA8AQFIeT2ZW0UCkLl1vMz97i8AeVuSpyV55TbvOllmN49L8thFbhSALKLlWgIECBCYgoAD6yl0sZw9mKdyeqESAgQIECBAgMC6BQQg6xb3vK0CAhAzUYLAS5Ic1hZyUPvC8ysnOc+m4t6d5NeSfHbFgn0DZEVAtxMgQIDA9AUcWE+/x+vcoXlap7ZnESBAgAABAgTKEhCAlNWPOVYjAJlj1+vY80WS3CfJY5Ic2pb8+STXT/LVNW3BO0DWBO0xBAgQIFCWgAPrsvpRezXmqfYOqp8AAQIECBAgsLyAAGR5O3f2IyAA6cfRKsMJXDvJ8Uku0D7in5Lcc7jHnWNlAciaoD2GAAECBMoScGBdVj9qr8Y81d5B9RMgQIAAAQIElhcQgCxv585+BAQg/TgOvcoltjxg8zcgtv7ZqrWs69sVi9T5iCRPbG/4UZJLJvnmIgssea0AZEk4txEgQIBA3QIOrOvuX2nVm6fSOqIeAgQIECBAgMD6BAQg67P2pO0FBCB1TMaZm14Avi/JAZvK3vxnq+5m69qrrtfX/VdI8slNi902yev7Wnw/6whA1oDsEQQIECBQnoAD6/J6UnNF5qnm7qmdAAECBAgQILCagABkNT93ry4gAFndcB0rbIQcTb+akGLPNgFIH73cuvY69tblGedN8sNNF949yQu73LjiNQKQFQHdToAAAQJ1CjiwrrNvpVZtnkrtjLoIECBAgAABAsMLCECGN/aE/Qv0cWjOeHiBJgDZ+GwXgPRVQakByMW3vPj89kle3dem97OOAGQNyB5BgAABAuUJOLAuryc1V2Seau6e2gkQIECAAAECqwkIQFbzc/fqAgKQ1Q3XscJBWx6y+dsQW/9s1Xo2r73qWn3d/z+SvGzTYldJ8vG+FheArEHSIwgQIECgKgEH1lW1q/hizVPxLVIgAQIECBAgQGAwAQHIYLQW7iggAOkI5bLRBJqfv3pXkmu3FXwqyRXXVI1vgKwJ2mMIECBAoCwBB9Zl9aP2asxT7R1UPwECBAgQIEBgeQEByPJ27uxHQADSj6NVugvcOsltkvxZki/uctulkvxDe/3GpfdN8uzuj1vpSgHISnxuJkCAAIFaBRxY19q5Mus2T2X2RVUECBAgQIAAgXUICEDWoewZ+xMQgJiPdQscm+QV7cvc35HkrUlOSvK1JKckOX+Syye5SZI7JDnfpgJfmaS5v3lXyTo+ApB1KHsGAQIECBQn4MC6uJZUXZB5qrp9iidAgAABAgQIrCQgAFmJz809CAhAekC0xEICGwHIQjcleW6S30ly2qI3rnC9AGQFPLcSIECAQL0CDqzr7V2JlZunEruiJgIECBAgQIDAegQEIOtx9pSdBQQgpmPdApdO8qAkv5Dkqkn2N4NN2PGvSf4iyVvWXWgSAcgI6B5JgAABAuMLOLAevwdTqsA8Tamb9kKAAAECBAgQWExAALKYl6v7FxCA9G9awopHJbl+kr1JDktyUMeimp+WekDHa/u47EJJrtX+5NXF2jpPTvKtJB9N8oEkP+jjQUuuIQBZEs5tBAgQIFC3gAPruvtXWvXmqbSOqIcAAQIECBAgsD4BAcj6rD1pewEByLQm44FJmv9cdoVt7Vnh3qndKgCZWkfthwABAgQ6CTiw7sTkoo4C5qkjlMsIECBAgAABAhMUEIBMsKmVbUkAUlnDdij3kCSvSnKz9s936+vGS8S3Xtf8ewHI2cgCkGn898MuCBAgQGBBAQfWC4K5fL8C5smAECBAgAABAgTmKyAAmW/vS9n5bgflpdSpjv0LvDDJr2+65D1JTkhy+yRHJmmCjackuUD7s1g3SHJ4e33zZy9N8pn2nx8B+ycCAhDDQIAAAQKzFHBgPcu2D7Zp8zQYrYUJECBAgAABAsULCECKb9HkCxSA1N/i6yV5d7uN5qXh90pyXPvPr0ly2zYA2fzNjqbvzUvIn5rkakm+neQeSV5dP0evOxCA9MppMQIECBCoRcCBdS2dqqNO81RHn1RJgAABAgQIEBhCQAAyhKo1FxEQgCyiVea1f57kf7Uhx+OSPH5TmTsFIBuXnDfJK5LcLknz8vHmmyEfKXObo1QlABmF3UMJECBAYGwBB9Zjd2BazzdP0+qn3RAgQIAAAQIEFhEQgCyi5dohBAQgQ6iud833JzkqyY+SXDLJtxYIQJpLm5/F+liSSyV5S5Kbr7f8op8mACm6PYojQIAAgaEEHFgPJTvPdc3TPPtu1wQIECBAgACBRkAAYg7GFhCAjN2B1Z//1SQXbb+5cY0tyzU/adX81FXzno/mRenNT2Rt93lskuY/zXWXT/K51cuaxAoCkEm00SYIECBAYFEBB9aLirl+fwLmyXwQIECAAAECBOYrIACZb+9L2bkApJROLF9HE2o07/d4U5Kf37LMy5Mc2wYbl0jyjR0e04QkTVjSBCB33fQOkeWrmsadApBp9NEuCBAgQGBBAQfWC4K5fL8C5smAECBAgAABAgTmKyAAmW/vS9m5AKSUTixfx3eSnL/9+apbbFnmuUl+ow02rpvkxB0ec+P2/iYAeUiSP1u+nEndKQCZVDtthgABAgS6Cjiw7irlui4C5qmLkmsIECBAgAABAtMUEIBMs6817UoAUlO3tq+1eX/HlZN8KMk1t1zy6CR/1AYg90vy7B22e68k/9Be9wdJnlo/Sy87EID0wmgRAgQIEKhNwIF1bR0ru17zVHZ/VEeAAAECBAgQGFJAADKkrrW7CAhAuiiVfc3Gz1z9sP0myBmbyt3801ZvS3KzHbby5iQ3bQOQeyZ5YdlbXlt1ApC1UXsQAQIECJQk4MC6pG7UX4t5qr+HdkCAAAECBAgQWFZAALKsnPv6EhCA9CU53joPSvKnbXjR/JTVOzeVcmCS/05y4fbfPS3Jo5L8qP3n5sXozbc97t/+cxOeXDbJl8bbTlFPFoAU1Q7FECBAgMC6BBxYr0t6Hs8xT/Pos10SIECAAAECBLYTEICYi7EFBCBjd2D15181yYfbAKQJQh6+ZcnfT/Kk9s+bP2reGXJSe81R7bdGmjlo3v/RfPOj+QaIz48FBCAmgQABAgRmKeDAeve2/+D0M/K+z30rJ33xO/n0176fH/7ozBx0wHly+YufP9fYe1iue9kL5+AD9+y+0AyuME8zaLItEiBAgAABAgR2EBCAGI2xBQQgY3egn+d/MMnPJvlmkp9OcuqmZZv/y/uVSW7XhhwbYUdzycbfN39tQpRjkny3n5ImsYoAZBJttAkCBAgQWFTAgfXOYl/69ql5zts+k5e+7wv5zqmn73jhYYccmDtf99K5942PzBEXar50O9+PeZpv7+2cAAECBAgQICAAMQNjCwhAxu5AP89v+niedqnN7wDZWL35Kazmp6+an8u6wJZHnta+AP1hSb7XTzmTWUUAMplW2ggBAgQILCLgwPrcWvv27csL3/35PPFVH83Jp233P7e2Fz70vHvyyNtfNXc7+jL5qZ+a5//0Nk+L/LfPtQQIECBAgACBaQkIQKbVzxp3M8//K6zGTvVTcxOE3CDJZZJsvB+keWeI4GN7XwFIP3NnFQIECBCoTMCB9TkbdvoZZ+ahL/1A/uXE5V+TduxRR+Spd75WDtyz8f9npbKhWKFc87QCnlsJECBAgAABApULCEAqb+AEyheATKCJtjCYgABkMFoLEyBAgEDJAg6sz+5O882P33vJiSuFHxurNSHIM37tqNl9E8Q8lfzfdrURIECAAAECBIYVEIAM62v13QUEILsbuWK+AgKQ+fbezgkQIDBrAQfWZ7f/BSd8Lo96xYd6m4cn3vEaudsNmi/jzudjnubTazslQIAAAQIECGwVEICYibEFBCBjd8DzSxYQgJTcHbURIECAwGACDqx/TNu88PzWTz9+oXd+7NaU5p0g//7gm83qxejmabep8OcECBAgQIAAgekKCECm29tadiYAqaVT6hxDQAAyhrpnEiBAgMDoAg6sf9yCJ/zbR/Lst32m937c9yZH5lG3v1rv65a6oHkqtTPqIkCAAAECBAgMLyAAGd7YE/YvIACZ3oQ0Lze/RpKrJrlQkvMlWaTPT5keydI7EoAsTedGAgQIEKhZwIF18oPTz8gNnvjGfOfU03tv5WGHHJgTHnmrHHzgnt7XLnFB81RiV9REgAABAgQIEFiPgABkPc6esrPAIgfjHMsW2JvksUnunOSCK5Q6j/9LvBuQAKSbk6sIECBAYGICDqyTt3/y67n7s08YrLMvvM8NcqMrXmyw9Uta2DyV1A21ECBAgAABAgTWKyAAWa+3p51bQAAyjam4dZKXJTl0wW97bN39viQCkLNVBCDT+O+HXRAgQIDAggIOrJO/O/5TefJrPragXPfLH3G7q+R+N7tC9xsqvtI8Vdw8pRMgQIAAAQIEVhQQgKwI6PaVBQQgKxOOvsCRSU5qf+qqCTCanp6a5ENJvpzklAUrvOuC10/5cgHIlLtrbwQIECCwo4AD6+Th/+cDOe69zf8UGOZzl+tdOk+507WGWbywVc1TYQ1RDgECBAgQIEBgjQICkDVie9S2AgKQ+gfj75L8dpIm/GjCjocmeX4bgtS/u3F3IAAZ19/TCRAgQGAkAQfWyQNf/B/5lxO/NFgH7nDUEfnzX7/2YOuXtLB5KqkbaiFAgAABAgQIrFdAALJeb087t4AApP6p+FSS5lsgTQBy+ySvrX9LxexAAFJMKxRCgAABAusUcGDtGyB9zpt56lPTWgQIECBAgACBugQEIHX1a4rVCkDq72rzc1fnTfLpJFeqfztF7UAAUlQ7FEOAAAEC6xJwYO0dIH3OmnnqU9NaBAgQIECAAIG6BAQgdfVritUKQOrv6neSnD/Jm5L8fP3bKWoHApCi2qEYAgQIEFiXgAPr5O2f/Hru/uwTBiN/4X1ukBtd8WKDrV/SwuappG6ohQABAgQIECCwXgEByHq9Pe3cAgKQ+qfiXUmOTnJikuvUv52idiAAKaodiiFAgACBdQk4sE5+cPoZucET35jvnHp67+yHHXJgTnjkrXLwgXt6X7vEBc1TiV1REwECBAgQIEBgPQICkPU4e8rOAgKQ+qfj95M8KckZSY5I8rX6t1TMDgQgxbRCIQQIECCwTgEH1j/WfsK/fSTPfttneqe/702OzKNuf7Xe1y11QfNUamfURYAAAQIECBAYXkAAMryxJ+xfQABS/4Q0P3/18SSHJ3lukvvUv6VidiAAKaYVCiFAgACBdQo4sP6x9pe+fWpu/fTjc/Jpzf8/k34+5z/ogLz+QTfNERc6pJ8FK1jFPFXQJCUSIECAAAECBAYSEIAMBGvZzgICkM5URV/4c0len+TQJH+Z5OFJTiu64jqKE4DU0SdVEiBAgEDPAg6szwZ9wQmfy6Ne8aHehJ94x2vkbje4TG/r1bCQeaqhS2okQIAAAQIECAwjIAAZxtWq3QUEIN2tSr/ymklelOQqSb6c5AVJmveDfHXBMOTdpW90jfUJQNaI7VEECBAgUI6AA+uze7Fv37486CUn5p9P/NLKDTr2qCPyjF87Kj/1U/P6n+DmaeXRsQABAgQIECBAoFoBAUi1rZtM4fP6v74m07YdN3LPJM9Kct4k+5bYbnPPAUvcN9VbBCBT7ax9ESBAgMB+BRxYn5Pn9DPOzMNe+oGVQpAm/Hjqna+VA/ecZ3bTZ55m13IbJkCAAAECBAj8REAAYhjGFhCAjN2Bfp5/sSSvSXKdLcst2t8mANnTT0mTWEUAMok22gQBAgQILCrgwPrcYs03QV707v/KH7/qIwu9E+TQ8+4564Xndz36p2f3zY8NRfO06H8DXU+AAAECBAgQmI6AAGQ6vax1J4sekNe6zynX3bz34z3tT19t3mcTZnw/ySkLbv5SC14/5csFIFPurr0RIECAwI4CDqx3Ho7mxejPfftnctx7v5DvnHr6jhcedsiBucv1Lp3fOubIWb3wfDsQ8+T/sSFAgAABAgQIzFdAADLf3peycwFIKZ1Yvo7HJHlc+5NXTT+b94A8sw1FFg0/lq9imncKQKbZV7siQIAAgV0EHFjvPiI/OP2MvOEjX8n/fNF/nOviv7rrtfPzV7tkDj7QF2sbHPO0+zy5ggABAgQIECAwVQEByFQ7W8++BCD19GqnSj+Y5GfbAOSRSf6k/i0VswMBSDGtUAgBAgQIrFPAgXU3bU6cugm4igABAgQIECAwXwEByHx7X8rOBSCldGL5OppveRyU5OtJDl/y5efLP33adwpApt1fuyNAgACBHQQc7HcbDU6cugm4igABAgQIECAwXwEByHx7X8rOBSCldGL5Or6V5IJJjk9yy+WXcec2AgIQY0GAAAECsxRwsN+t7Zw4dRNwFQECBAgQIEBgvgICkPn2vpSdC0BK6cTydTQ/gXX1JO9Kcszyy7hTAGIGCBAgQIDAjwUc7HebBE6cugm4igABAgQIECAwXwEByHx7X8rOBSCldGL5Op6c5OFJvp/kYklOW34pd24R8A0QI0GAAAECsxRwsN+t7Zw4dRNwFQECBAgQIEBgvgICkPn2vpSdC0BK6cTydVw+yUlJDk7ykCR/tvxS7hSAmAECBAgQIOAbIF1nQADSTYpTNydXESBAgAABAgSmKCAAmWJX69qTAKSufu1U7T2TPK/99sddk7xiGtsafRe+ATJ6CxRAgAABAmMIOLDups6JUzcBVxEgQIAAAQIE5isgAJlv70vZuQCklE6sXsexSZ7bvhC9CUCek+SEJN9YfenZriAAmW3rbZwAAQLzFnCw363/nDh1E3AVAQIECBAgQGC+AgKQ+fa+lJ0LQErpxPJ1nLLp1gOSNP/Zt+nfnZnk9I7LN/cd2vHaOVwmAJlDl+2RAAECBM4l4GC/21Bw4tRNwFUECBAgQIAAgfkKCEDm2/tSdi4AKaUTy9fRBBxNcNH0cnPwsUxvm/v3LF/K5O4UgEyupTZEgAABAl0EHOx3UfKulG5KnLo6uY4AAQIECBAgMEUBAcgUu1rXnpY5JK9rh9OvtglA+voIQM4pKQDpa7KsQ4AAAQJVCQhAurWLE6duAq4iQIAAAQIECMxXQAAy396XsnMBSCmdWL6On1n+1m3v/HjP69W8nACk5u6pnQABAgSWFnCw342OE6duAq4iQIAAAQIECMxXQAAy396XsnMBSCmdUEeJAgKQEruiJgIECBAYXMDBfjdiTpy6CbiKAAECBAgQIDBfAQHIfHtfys4FIKV0Qh0lCghASuyKmggQIEBgcAEH+92IOXHqJuAqAgQIECBAgMB8BQQg8+19KTsXgJTSCXWUKCAAKbEraiJAgACBwQUc7Hcj5sSpm4CrCBAgQIAAAQLzFRCAzLf3pexcAFJKJ9RRooAApMSuqIkAAQIEBhdwsN+NmBOnbgKuIkCAAAECBAjMV0AAMt/el7JzAUgpnei3jkOS3DzJDZJcMcmFkxyU5NtJvpbk/UneluSj/T52cqsJQCbXUhsiQIAAgS4CDva7KCWcOHUTcBUBAgQIECBAYL4CApD59r6UnQtASulEP3VcMMljk/xWksM6LPnOJE9I8toO187xEgHIHLtuzwQIECDgYL/jDAhAukFx6ubkKgIECBAgQIDAFAUEIFPsal17EoDU1a/9VftzSY5LsjfJIn3dl+Q5Se6X5MzpcPSyEwFIL4wWIUCAAIHaBBxYd+sYJ07dBFxFgAABAgQIEJivgABkvr0vZeeLHJSXUrM6zi1w7SRvStJ8A6QJNJq+Nn/9SJKTknw9yWlJLpDkCkmuk+RCW659YZJ7wj2HgADEQBAgQIDALAUc7HdrOydO3QRcRYAAAQIECBCYr4AAZL69L2XnApBSOrF8HedJ8oEkV28DjTOS/E2SP0vy2R2WPSDJLyV5fHtfc1kTmNw9yYuXL2VydwpAJtdSGyJAgACBLgIO9rsoeQdINyVOXZ1cR4AAAQIECBCYooAAZIpdrWtPApC6+rVdtXdL8k9tgPG9JHdIcnzHbR3Y3nvn9vpPJrlyx3vncJkAZA5dtkcCBAgQOJeAAKTbUHDi1E3AVQQIECBAgACB+QoIQObb+1J2LgAppRPL19G89+NObQBynyTPXXCpg9pvkDTBR/MtkGsm+fCCa0z1cgHIVDtrXwQIECCwXwEH+90GhBOnbgKuIkCAAAECBAjMV0AAMt/el7JzAUgpnVi+jk8lOTLJN5IcnqT5CaxFP7+X5OltAPKbSf5x0QUmer0AZKKNtS0CBAgQ2L+Ag/1uE8KJUzcBVxEgQIAAAQIE5isgAJlv70vZuQCklE4sX8f3kxyS5O1JbrrkMrdM8oY2AHl4kj9dcp2p3SYAmVpH7YcAAQIEOgk42O/EFE6cugm4igABAgQIECAwXwEByHx7X8rOBSCldGL5Or6b5NAkJyS50ZLL3DrJ69oA5GHtt0GWXGpStwlAJtVOmyFAgACBrgIO9rtJceLUTcBVBAgQIECAAIH5CghA5tv7UnYuACmlE8vX8YkkV0jSBCGXSHLaEkv9QZIntgHIvZK8YIk1pniLAGSKXbUnAgQIENhVwMH+rkRnXcCJUzcBVxEgQIAAAQIE5isgAJlv70vZuQCklE4sX0fzvo67t+HFg5L8xYJLNd8e+VCSy7Zr/EySTy64xlQvF4BMtbP2RYAAAQL7FXCw321AOHHqJuAqAgQIECBAgMB8BQQg8+19KTsXgJTSieXrODbJy9vw4odJfj3JKzsu17w75KVJfrG9vwlCrtXx3jlcJgCZQ5ftkQABAgTOJeBgv9tQcOLUTcBVBAgQIECAAIH5CghA5tv7UnYuACmlE6vV0bz/43pJmn7uS/LC9psg79lh2QsmuXOSRye5zKb77pDk31YrZVJ3C0Am1U6bIUCAAIGuAg72u0lx4tRNwFUECBAgQIAAgfkKCEDm2/tSdi4AKaUTq9Vx5SRvSXLxTWFGs+I325+3+kb7bpALJDkySXP9nk3XNnPwl0keuFoZk7tbADK5ltoQAQIECHQRcLDfRck7QLopcerq5DoCBAgQIECAwBQFBCBT7GpdexKA1NWv/VV79STHJblq+y2Qjd423wjZ+tn4pkjz1zOT/EmSR/0/9u4HTK+qvPf+L5kMJBINKFRNIjaCVai5CEKJ8keORbSa81Z4FZBQj0Lh6FFfFapeJXl72tNiakVBW/9VUyxaQIg9iIK+ilTRoAahJAca0AOkwZiKUCFWTMgwmffaZM/J5M/k+e29136etdf6znVxocy91l7rc9975nn2PfvZ6VAE2wkNkGCUTIQAAggg0CUBGiBetnDCyRMgCgEEEEAAAQQQyFeABki+uY9l5zRAYslEmHXsI+ndkt4q6Td7TPmEpK9I+oCkyT4qK8yqujsLDZDu5o6VI4AAAgg0EODCvoeHE06eAFEIIIAAAggggEC+AjRA8s19LDunARJLJsKuo8hr8TDzhZIOlbS/pH0lbZL0kKR/lvR9ScVHY/E1uQANEKoDAQQQQCBLAS7se2nHCSdPgCgEEEAAAQQQQCBfARog+eY+lp3TAIklE6wjRgEaIDFmhTUhgAACCLQuwIV9jxgnnDwBohBAAAEEEEAAgXwFaIDkm/tYdk4DJJZMsI4YBWiAxJgV1oQAAggg0LoAF/Y9Ypxw8gSIQgABBBBAAAEE8hWgAZJv7mPZOQ2QWDLBOmIUoAESY1ZYEwIIIIBA6wJc2PeIccLJEyAKAQQQQAABBBDIV4AGSL65j2XnNEBiyUSYdbxA0iGSDpD0dEljkn5R/nOfpP8d5jDZzEIDJJtUs1EEEEAAgYkCXNj36gEnnDwBohBAAAEEEEAAgXwFaIDkm/tYdk4DJJZM1F/HyZLeIukESQf2mObnkr4r6ZOSvlX/kNmMpAGSTarZKAIIIIAADZDqNUADxDPDyXMiCgEEEEAAAQQQSFGABkiKWe3WnmiAdCtfE1e7QNLfSjq6/I+75rK4+6P4muy//0DSWyXd2V2C1ldOA6R1Yg6AAAIIIBCjABesvazghJMnQBQCCCCAAAIIIJCvAA2QfHMfy85pgMSSiWpC0qloAAAgAElEQVTrOFXS5yQ9pWxwFM0ON5cTY38labGk66sdPptoGiDZpJqNIoAAAghMFODCvlcPOOHkCRCFAAIIIIAAAgjkK0ADJN/cx7Jz96J5LOtlHdJLJX1H0lD5jI8ih0VTo/hv35P0z5IelvSIpKmSZkk6SNJRko4r/xkfU/z7ifK//RDc3QRogFAUCCCAAAJZCnBh30s7Tjh5AkQhgAACCCCAAAL5CtAAyTf3seycBkgsmfDWMVPSaknPm9D8KO4EuUjSvd4UKh6U/iflnR/jd4MUD0c/UtKvzTlyCaMBkkum2ScCCCCAwE4CXNj3CgInnDwBohBAAAEEEEAAgXwFaIDkm/tYdk4DJJZMeOs4X9KHy+bHNknnSPq8N3S3qLMlfWbCR2ddIOmjNedKdRgNkFQzy74QQAABBPYqwIV9r0BwwskTIAoBBBBAAAEEEMhXgAZIvrmPZec0QGLJhLeOeyT9VtkA+e+S3u8NmzSqmOPPyvl+JOnwhvOlNpwGSGoZZT8IIIAAApYAF/YtJuGEkydAFAIIIIAAAgggkK8ADZB8cx/LzmmAxJKJ3us4RtIPymbFv0o6tPzfvUdOHlE8I6T46KzfLOd6iSSeBbLDiwZIk+piLAIIIIBAZwW4sO+lDiecPAGiEEAAAQQQQACBfAVogOSb+1h2TgMklkz0Xsc7JX2kbFT8Ufm/e4/qHVHMdXE577sl/U3vIdlE0ADJJtVsFAEEEEBgogAX9r16wAknT4AoBBBAAAEEEEAgXwEaIPnmPpad0wCJJRO913G5pDeWjYoXSbq79xAr4jBJ/1LO+w+S3mSNyiOIBkgeeWaXCCCAAAK7CHBh3ysJnHDyBIhCAAEEEEAAAQTyFaABkm/uY9k5DZBYMtF7HbdJerGkTZIO6B1eKeIRSU+TdIekoyuNTDuYBkja+WV3CCCAAAKTCHBh3ysNnHDyBIhCAAEEEEAAAQTyFaABkm/uY9k5DZBYMtF7HfdJmlferTG/d3iliDsl/bakdZIOqTQy7WAaIGnnl90hgAACCNAAaVQDNEA8Ppw8J6IQQAABBBBAAIEUBWiApJjVbu2JBkh38vWQpKdL+p6kEwIv+7uSjpP0C0kHBp67y9PRAOly9lg7AggggEBtAS5Ye3Q44eQJEIUAAggggAACCOQrQAMk39zHsnMaILFkovc6tkoakvR1Sa/pHV4p4muSXiXpCUn7VBqZdjANkLTzy+4QQAABBCYR4MK+Vxo44eQJEIUAAggggAACCOQrQAMk39zHsnMaILFkovc6tpUPKm+zATJWNll6ryaPCBogeeSZXSKAAAII7CLAhX2vJHDCyRMgCgEEEEAAAQQQyFeABki+uY9l5zRAYslE73XQAOltFDqCBkhoUeZDAAEEEOiEABf2vTThhJMnQBQCCCCAAAIIIJCvAA2QfHMfy85pgMSSid7roAHS2yh0BA2Q0KLMhwACCCDQCQEu7HtpwgknT4AoBBBAAAEEEEAgXwEaIPnmPpad0wCJJRO91zHeAPmJpK/2Dq8UsUjSc8qP2CqeM8LXdgEaIFQCAggggECWAlzY99KOE06eAFEIIIAAAggggEC+AjRA8s19LDunARJLJnqvY7wB0juyXkRRCzwDZGc7GiD1aolRCCCAAAIdF+DCvpdAnHDyBIhCAAEEEEAAAQTyFaABkm/uY9k5DZBYMtF7HeMNkDZzRgOEBkjvSiQCAQQQQCB5AS7seynGCSdPgCgEEEAAAQQQQCBfARog+eY+lp23eTE9lj2mso4flHdotL2fl7Z9gA7Nzx0gHUoWS0UAAQQQCCfAhX3PEiecPAGiEEAAAQQQQACBfAVogOSb+1h2TgMklkywjhgFaIDEmBXWhAACCCDQugAX9j1inHDyBIhCAAEEEEAAAQTyFaABkm/uY9k5DZBYMsE6YhSgARJjVlgTAggggEDrAlzY94hxwskTIAoBBBBAAAEEEMhXgAZIvrmPZec0QGLJBOuIUYAGSIxZYU0IIIAAAq0LcGHfI8YJJ0+AKAQQQAABBBBAIF8BGiD55j6WndMAiSUTrCNGARogMWaFNSGAAAIItC7AhX2PGCecPAGiEEAAAQQQQACBfAVogOSb+1h2TgMklkywjhgFaIDEmBXWhAACCCDQugAX9j1inHDyBIhCAAEEEEAAAQTyFaABkm/uY9k5DZBYMsE6YhSgARJjVlgTAggggEDrAlzY94hxwskTIAoBBBBAAAEEEMhXgAZIvrmPZec0QGLJBOuIUYAGSIxZYU0IIIAAAq0LcGHfI8YJJ0+AKAQQQAABBBBAIF8BGiD55j6WndMAiSUTrCNGARogMWaFNSGAAAIItC7AhX2PGCecPAGiEEAAAQQQQACBfAVogOSb+1h2TgMklkywjhgFaIDEmBXWhAACCCDQugAX9j1inHDyBIhCAAEEEEAAAQTyFaABkm/uY9k5DZBYMsE6YhSgARJjVlgTAggggEDrAlzY94hxwskTIAoBBBBAAAEEEMhXgAZIvrmPZec0QGLJBOuIUYAGSIxZYU0IIIAAAq0LcGHfI8YJJ0+AKAQQQAABBBBAIF8BGiD55j6WndMAiSUTrCNGARogMWaFNSGAAAIItC7AhX2PGCecPAGiEEAAAQQQQACBfAVogOSb+1h2TgMklkywjhgFaIDEmBXWhAACCCDQugAX9j1inHDyBIhCAAEEEEAAAQTyFaABkm/uY9k5DZBYMpHfOvaX9PLynwWSfkvSAZJGJP1C0hpJN0m6XNIjA+KhATIgeA6LAAIIIDBYAS7se/444eQJEIUAAggggAACCOQrQAMk39zHsnMaILFkIp91vFDSxZJeKWkfY9u/lrRU0kcljRnxIUNogITUZC4EEEAAgc4IcGHfSxVOOHkCRCGAAAIIIIAAAvkK0ADJN/ex7JwGSCyZqL+OD0n6jKQf1Z+iryNfL2nFLkcclXSvpAclDUk6TNLTd4n5O0nn9bkJQgOkr6XBwRBAAAEEYhHgwr6XCZxw8gSIQgABBBBAAAEE8hWgAZJv7mPZOQ2QWDJRfx3byqbA98tGyDWSNtefrvWR4w2QJyRdL+nvJX1L0i8nHLmoy9+X9HFJcyb897dJ+mTrK9xxABogfcTmUAgggAAC8QhwYd/LBU44eQJEIYAAAggggAAC+QrQAMk397HsnAZILJmov47xBsj4DP8h6SpJxR0Tt9WftrWRr5X0nyX9haQHehzlOZJulfSsMu5hSbPL54S0tsAJE9MA6Ycyx0AAAQQQiE6AC/teSnDCyRMgCgEEEEAAAQQQyFeABki+uY9l5zRAYslE/XV8R9Lxuwwff1bGneVdIVdIerT+IQY68r9K+tsJK3hF+XD0fiyKBkg/lDkGAggggEB0AlzY91KCE06eAFEIIIAAAggggEC+AjRA8s19LDunARJLJpqt4/mSzpX0xgl3SxQzjjdCHpf0j+VdId9udqi+j362pI0TjvqO8qOx+rEQGiD9UOYYCCCAAALRCXBh30sJTjh5AkQhgAACCCCAAAL5CtAAyTf3seycBkgsmQizjuIB4sXHS/2hpFeXDxQfn3m8GXJf2Qi5XNLPwhy21Vn2lbRlwhGWSPrLVo+4Y3IaIH2C5jAIIIAAAnEJcGHfywdOOHkCRCGAAAIIIIAAAvkK0ADJN/ex7JwGSCyZCL+O4s6JN0s6W9KhE6Yfb4SMSvqqpOXlv4tnicT49VuSfjRhYcWdLsXzTfrxRQOkH8ocAwEEEEAgOgEu7HspwQknT4AoBBBAAAEEEEAgXwEaIPnmPpad0wCJJRPtruNESedJ+r8lTZ9wqPFmyL9J+ntJl0m6v92lVJ79j3e54+NFkv6l8iz1BtAAqefGKAQQQACBjgtwYd9LIE44eQJEIYAAAggggAAC+QrQAMk397HsnAZILJnozzpmSTqrfF7Igl0OWTRDin9ulvTp8pkhT/RnWZMepVjvPROea/K/JB3RxzXRAOkjNodCAAEEEIhHgAv7Xi5wwskTIAoBBBBAAAEEEMhXgAZIvrmPZec0QGLJRP/XUXw81ickFc/YGP8q6mH8rpCHJF0q6W8k/br/y3vyiMXHcxXPMxn/+n1JX+njWmiA9BGbQyGAAAIIxCPAhX0vFzjh5AkQhQACCCCAAAII5CtAAyTf3MeycxogsWSiP+t4qqTF5R0gL55wyMnqoGiGPCDpDyTd0p8l/p+jnLPLsz6ulvSGAGu4QFLxj/P1rOJB8nPmzNGGDUUvhC8EEEAAAQTyEODCvpdnnHDyBIhCAAEEEEAAAQTyFaABkm/uY9k5DZBYMtHuOk4omx6vkzSjPNTE3K8sP/ZqTdkgeVP5sVNFA6SI2yzpdyStbXeZ/2f2Yr03Trg7ZZ2kIyVtCnD8P5P0p1XmoQFSRYtYBBBAAIEUBLiw72URJ5w8AaIQQAABBBBAAIF8BWiA5Jv7WHZOAySWTIRfxzMlFY2M4k6K5++h6fELSZ8vGx9373L4aZKKj8haJukZ5fe+UD4/JPxKd56xeMZH8RyS4vkfxdfPJRUNkR8HOjB3gASCZBoEEIhHYMvIqG5f/4ju/Okm3f/Qr/T4E9u077Spet5BMzV/ziwd9dwDNH14KJ4Fs5LoBbiw76UIJ5w8AaJCCfD7LpQk8yCAAAIIINA/ARog/bPmSHsWoAGSVmVMlfSa8m6P4t/jV7sm5vm7ZdPji5Ie77H9+ZL+WVIx74OSZrfM9QJJ35H0G+VxHpH0cknFnSmD+OIZIINQ55gIIGALbHx0sy5buU4rbt+gTZtHJh03a8awTjtqrs45fp5m7z9+I6B9GAIzFODCvpd0nHDyBIhqKsDvu6aCjEcAAQQQQGBwAjRABmfPkbcL0ABJoxIOKR8WPv7RVbvmtrjb43Nl4+Oeilv+vqSFkkYlDVccWyV8Xtn8mFsO+pWkV0haVWWSwLE0QAKDMh0CCIQRGBsb05W3PqBlN9ytx7YWP569r/32GdKSRYdp8TEHa8oUXgJ4anlGcWHfyztOOHkCRNUV4PddXTnGIYAAAgggEI8ADZB4cpHrSrj60f3Mf0vSy8pt7JrP4m6Pv5VU3O2xteZWr5X0WknF80Da+vyUoulR3PlRNEGKr+KZI68uPwqr5rKDDKMBEoSRSRBAIKTAyOg2vWfFGl23emPtaU9ZMFsXn3aEhoeKG/z4QmB3AS7se1WBE06eAFF1BPh9V0eNMQgggAACCMQnQAMkvpzktiIaIN3P+LayOTGey3+fcLfHjwJsr+0GSPGskuKZH8XHXxVfxcdy/b6kbwRYe9MpaIA0FWQ8AggEFSj+EvbdV69u1PwYX1DRBLn0jAXcCRI0Q+lMxoV9L5c44eQJEFVVgN93VcWIRwABBBBAIF4BGiDx5iaXldEA6X6miwZI8VXcQfHphnd77EmjeCD6+J0fvZ4ZUlXz6ZK+Lal41kjxVXyA/eslfbnqRC3F0wBpCZZpEUCgnsAVq9Zr6bV31Ru8h1HLTp2vxQsPDjYfE6UjwIV9L5c44eQJEFVVgN93VcWIRwABBBBAIF4BGiDx5iaXldEA6X6mP1Q2Pn7csa08TdJNko4u1118iP2ZklZEtA8aIBElg6UgkLtA8QDYky+5udIzP3qZFc8EufGCE3kwei+oDL/PhX0v6Tjh5AkQVUWA33dVtIhFAAEEEEAgfgEaIPHnKPUV0gBJPcNx7u8pkr4u6fhyecVdLG+W9PnIlksDJLKEsBwEcha46Pq1Wr5yXXCC806Yp6WLDg8+LxN2W4AL+17+cMLJEyCqigC/76poEYsAAggggED8AjRA4s9R6iukAZJ6huPb376Srpf0inJpxcPVz5P0d/EtVTRAIkwKS0IgR4EtI6NauOwmbdpcfFJg2K9ZM4a1aslJmj48/mmHYedntm4KcGHfyxtOOHkCRLkC/L5zpYhDAAEEEECgOwI0QLqTq1RXSgMkjcwWz+mYWm5la8UtFVe8xq96VR1b8VBPhr9P0l9NGPiIpFsrTHSjpA9XiG8SSgOkiR5jEUAgmMAt9z6ss5avCjbfrhNdee5CHXvoga3Nz8TdE+DCvpcznHDyBIhyBfh950oRhwACCCCAQHcEaIB0J1eprpQGSPczu5+kn0p6qqSfS5onaUuFbf2RpA+W8X8s6eIKY+uE/pmkP60zsBxzeflxWQ2msIfSALGpCEQAgTYFPnXzffrA1+5p7RAXvvqFesuJh7Q2PxN3T4AL+17OcMLJEyDKFeD3nStFHAIIIIAAAt0RoAHSnVylulIaIN3P7B9I+pyk4qOkisbCRRW3VDyP42eSZkr6kaTDKo6vGk4DpKoY8QggkL3A+764RtfcVvRk2/k6/ei5+uDrj2hncmbtpAAX9r204YSTJ0CUK8DvO1eKOAQQQAABBLojQAOkO7lKdaU0QLqf2aL5UTRBigbICyTdW2NLV0g6s5zjeZLW15gjxSHcAZJiVtkTAh0UeNcX7tB1qze2tvLXLpitj77hyNbmZ+LuCXBh38sZTjh5AkS5Avy+c6WIQwABBBBAoDsCNEC6k6tUV0oDpPuZvVPSb0t6UNKza27nrZI+UTZAXifpSzXnSW0YDZDUMsp+EOioAH8R29HEdXjZXNj3kocTTp4AUa4Av+9cKeIQQAABBBDojgANkO7kKtWV0gDpfmY3lR9f9QNJx9XczsmSvl42QM6X9Nc150ltGA2Q1DLKfhDoqACfid7RxHV42VzY95KHE06eAFGuAL/vXCniEEAAAQQQ6I4ADZDu5CrVldIA6X5mt0oakvQtSa+ouZ3jJX2nbID8iaRlNedJbRgNkNQyyn4Q6KjALfc+rLOWr2pt9Veeu1DHHnpga/MzcfcEuLDv5QwnnDwBolwBft+5UsQhgAACCCDQHQEaIN3JVaorpQHS/cwWDzA/SNJdkuo+wfZUSf9YNkDeJelj3WcJsgMaIEEYmQQBBJoKbBkZ1cJlN2nT5pGmU+02ftaMYa1acpKmDxe9dL4Q2C7AhX2vEnDCyRMgyhXg950rRRwCCCCAAALdEaAB0p1cpbpSGiDdz+wdZePjCUm/IenRGlv6kKQLygbIGZK+WGOOFIfQAEkxq+wJgY4KXHT9Wi1fuS746s87YZ6WLjo8+LxM2G0BLux7+cMJJ0+AqCoC/L6rokUsAggggAAC8QvQAIk/R6mvkAZI9zP8EUnvLJsXSyT9VcUtPVXSveVdJGOS5hR/+FlxjlTDaYCkmln2hUAHBTY+ulknX3KzHts6Gmz1M/edpm+c/zLN3n9GsDmZKA0BLux7ecQJJ0+AqCoC/L6rokUsAggggAAC8QvQAIk/R6mvkAZI9zN8Yvn8j6J58WtJvyvphxW2dZWk4q6PYvytkl5aYWzqoTRAUs8w+0OgYwJXrFqvpdcWn3gY5mvZqfO1eOHBYSZjlqQEuLDvpRMnnDwBoqoK8PuuqhjxCCCAAAIIxCtAAyTe3OSyMhogaWT625JeVm7lPyT9kaTLJG3by/aeK+lTkl4pqaiDogHyGklfT4MkyC5ogARhZBIEEAglMDY2pvOvXq0vrd7YeMpTFszWpWcs0JQpvBRojJngBFzY95KKE06eAFFVBfh9V1WMeAQQQAABBOIVoAESb25yWRlXPdLI9AskfU/S/hOaGcXVsS9Lul3SQ5IelzRL0vPLZslJkqZOiP87Sf81DY5gu6ABEoySiRBAIJTAyOg2vXfFmkZNkKL5cfFpR2h4qPg1wBcCuwtwYd+rCpxw8gSIqiPA77s6aoxBAAEEEEAgPgEaIPHlJLcV0QBJJ+PHS/qfkg4s7+YYv6tjsh1OzP3Vks7qccdIOlL+TmiA+FZEIoBAHwWKv4y96taf6P03rK30TJD99hl68oHnZx7zHO786GO+ungoLux7WcMJJ0+AqLoC/L6rK8c4BBBAAAEE4hGgARJPLnJdCQ2QtDJfPMD8k5IWlXd2jO+u+Hir4mvXfP9c0n+X9Om0GILthgZIMEomQgCBNgSKB8V+9pZ1uua2Ddq0eWTSQ8yaMazTj56rs4+bxwPP20hEgnNyYd9LKk44eQJENRXg911TQcYjgAACCCAwOAEaIIOz58h7viCOSxoCh0t6g6QTJB0m6QBJw5KK54P8TNIPJN0o6RpJW9PYciu7oAHSCiuTIoBAaIEtI6P65toH9Y6r7tht6o+deaRecfgzNX14KPRhmS9hAS7se8nFCSdPgKhQAvy+CyXJPAgggAACCPRPgAZI/6w50p4FuAMkn8ooPuh9bw9Fz0fC3ykNEN+KSAQQGLAAF2IHnIDEDk89eQnFCSdPgKiQApx3ITWZCwEEEEAAgfYFaIC0b8wR9i5AA4QKQWByARogVAcCCHRGgAtCnUlVJxZKPXlpwgknT4CokAKcdyE1mQsBBBBAAIH2BWiAtG/MEWiAUAMI1BWgAVJXjnEIINB3AS4I9Z086QNST156ccLJEyAqpADnXUhN5kIAAQQQQKB9ARog7RtzBBog1AACdQVogNSVYxwCCPRdgAtCfSdP+oDUk5denHDyBIgKKcB5F1KTuRBAAAEEEGhfgAZI+8YcgQZIzjWwn6SnSKryUWc/zxlsl73TAKEYEECgMwJcEOpMqjqxUOrJSxNOOHkCRIUU4LwLqclcCCCAAAIItC9AA6R9Y45AAySnGnippDdJOk7SCyQNVdz8mKRpFcekHE4DJOXssjcEEhPgglBiCR3wdqgnLwE44eQJEBVSgPMupCZzIYAAAggg0L4ADZD2jTkCDZAcaqC40+Ozkl43YbNV7voYH1Y0QKo2TVL2pQGScnbZGwKJCXBBKLGEDng71JOXAJxw8gSICinAeRdSk7kQQAABBBBoX4AGSPvGHIEGSOo1UDQ6bpJ0YsWPutqTCw2QnVVogKR+9rA/BBIS4IJQQsmMYCvUk5cEnHDyBIgKKcB5F1KTuRBAAAEEEGhfgAZI+8YcgQZI6jXwRkmXSyqaF0UzZK2kj0laKemnkn5dEeDxivEph9MASTm77A2BxAS4IJRYQge8HerJSwBOOHkCRIUU4LwLqclcCCCAAAIItC9AA6R9Y45AAyT1GviapFeVDZBrJb1B0hOpb7pP+6MB0idoDoMAAs0FuCDU3JAZdghQT1414ISTJ0BUSAHOu5CazIUAAggggED7AjRA2jfmCDRAUq+Bn0n6DUlbJc2W9IvUN9zH/dEA6SM2h0IAgWYCXBBq5sfonQWoJ68icMLJEyAqpADnXUhN5kIAAQQQQKB9ARog7RtzBBogqdfAFknDkn4o6SWpb7bP+6MB0mdwDocAAvUFuCBU346RuwtQT15V4ISTJ0BUSAHOu5CazIUAAggggED7AjRA2jfmCDRAUq+BByTNkfRtSSelvtk+748GSJ/BORwCCNQX4IJQfTtG0gCpWwOcd54cTp4TUZ4A9eQ5EYUAAggggEAsAjRAYslEvusoHprNV7cFvirp9yTdJ+n53d5KdKunARJdSlgQAghMJsAFIWojpAD15GnihJMnQFRIAc67kJrMhQACCCCAQPsCNEDaN+YIexegAdL9CjlD0lXlQ9DnS1rb/S1FswMaINGkgoUggEAvAS4I9RLi+1UEqCdPCyecPAGiQgpw3oXUZC4EEEAAAQTaF6AB0r4xR6ABknoNTC0//up4Sd+S9EpJo6lvuk/7owHSJ2gOgwACzQW4INTckBl2CFBPXjXghJMnQFRIAc67kJrMhQACCCCAQPsCNEDaN+YINEByqIFnS7pJ0gskfV3SOZJ+lsPGW94jDZCWgZkeAQTCCXBBKJwlM0nUk1cFOOHkCRAVUoDzLqQmcyGAAAIIINC+AA2Q9o05Ag2Q1Gvg9HKDsyQtk/R0SVslFc8G+X7ZCCn+v/t1jRuYQRwNkAySzBYRSEWAC0KpZDKOfVBPXh5wwskTICqkAOddSE3mQgABBBBAoH0BGiDtG3MEGiCp18C28vkfE/dZPNtlrMbGizHTaoxLdQgNkFQzy74QSFCAC0IJJnWAW6KePHyccPIEiAopwHkXUpO5EEAAAQQQaF+ABkj7xhyBBkjqNVA0QEJ9FQ2QoVCTJTAPDZAEksgWEMhFgAtCuWS6P/uknjxnnHDyBIgKKcB5F1KTuRBAAAEEEGhfgAZI+8YcgQZI6jXwg5p3e0zm8tLUwSrsjwZIBSxCEUBgsAJcEBqsf2pHp568jOKEkydAVEgBzruQmsyFAAIIIIBA+wI0QNo35gg0QKgBBOoK0ACpK8c4BBDouwAXhPpOnvQBqScvvTjh5AkQFVKA8y6kJnMhgAACCCDQvgANkPaNOQINEGoAgboCNEDqyjEOAQT6LsAFob6TJ31A6slLL044eQJEhRTgvAupyVwIIIAAAgi0L0ADpH1jjkADhBpAoK4ADZC6coxDAIG+C3BBqO/kSR+QevLSixNOngBRIQU470JqMhcCCCCAAALtC9AAad+YI9AAoQYQqCtAA6SuHOMQQKDvAlwQ6jt50geknrz04oSTJ0BUSAHOu5CazIUAAggggED7AjRA2jfmCDRAcq6BAyQdKGmWpKmSbs0Zo8beaYDUQGMIAggMRoALQoNxT/Wo1JOXWZxw8gSICinAeRdSk7kQQAABBBBoX4AGSPvGHIEGSG41cJSkt0n6XUkHT9j8mKRpe8C4QNLM8r9/SNKvcwPby35pgFAMCCDQGQEuCHUmVZ1YKPXkpQknnDwBokIKcN6F1GQuBBBAAAEE2hegAdK+MUegAZJLDTxN0iclvWHChqfs0gAZ2gPGpZLeJalokJwt6XO5gBn7pAFiIBGCAAJxCHBBKI48pLIK6snLJE44eQJEhRTgvAupyVwIIIAAAgi0L0ADpH1jjkADJIca2F/SzZJeJGli02OLpKLpMVw2OPbUADlE0v8uv3+jpN/LAczcIw0QE4owBBAYvAAXhAafg5RWQD152cQJJ0+AqJACnHchNZkLAQQQQACB9gVogLtiF/kAACAASURBVLRvzBFogORQA1+RtKjcaPERVn8l6QpJ90v6mqRX7aUBUgy7XdKRkjZLKp4bsjUHNGOPNEAMJEIQQCAOAS4IxZGHVFZBPXmZxAknT4CokAKcdyE1mQsBBBBAAIH2BWiAtG/MEWiApF4DxbM+vlk2OB6R9HJJd07YtNMA+bCk88s5Fkq6LXU0c380QEwowhBAYPACXBAafA5SWgH15GUTJ5w8AaJCCnDehdRkLgQQQAABBNoXoAHSvjFHoAGSeg18RtIfls2LsyR9YZcNOw2QN0q6vJzjv5R3j6Tu5uyPBoijRAwCCEQhwAWhKNKQzCKoJy+VOOHkCRAVUoDzLqQmcyGAAAIIINC+AA2Q9o05Ag2Q1GvgR5KeL+kXkg4qmxgT9+w0QF4p6f8rx/6RpI+kjmbujwaICUUYAggMXoALQoPPQUoroJ68bOKEkydAVEgBzruQmsyFAAIIIIBA+wI0QNo35gg0QFKvgU2SZkr6nqQT9rBZpwFynKTvlg2QP5G0LHU0c380QEwowhBAYPACXBAafA5SWgH15GUTJ5w8AaJCCnDehdRkLgQQQAABBNoXoAHSvjFHoAGSeg08Jmm6pJslFc8D2fXLaYC8RtL1ZQPknZI+njqauT8aICYUYQggMHgBLggNPgcprYB68rKJE06eAFEhBTjvQmoyFwIIIIAAAu0L0ABp35gj0ABJvQbul/Sbku4rPwqrTgPkfZI+UDZAzpD0xdTRzP3RADGhCEMAgcELcEFo8DlIaQXUk5dNnHDyBIgKKcB5F1KTuRBAAAEEEGhfgAZI+8YcgQZI6jXwFUmLyubFIZL+dZcNO3eAFB+f9ZJyjudKKi7887XdYc6cOXO0YQMkFAQCCMQtwAWhuPPTtdVRT17GcMLJEyAqpADnXUhN5kIAAQQQQKB9ARog7RtzBBogqdfAWyV9omxefFbSuRUbIEXzpGiijElaK2l+6mAV9kcDpAIWoQggMFgBLggN1j+1o1NPXkZxwskTICqkAOddSE3mQgABBBBAoH0BGiDtG3MEGiCp18BTJd0r6cByo++S9LEJm97bHSDFXR83SDqgbICcI+ny1MEq7I8GSAUsQhFAYLACXBAarH9qR6eevIzihJMnQFRIAc67kJrMhQACCCCAQPsCNEDaN+YINEByqIE3S7qsbGIU+y2aGh+R9F1JX5b0qvJ7Q5KKf35H0psknS1pn/J7qyQdL2lbDmDmHmmAmFCEIYDA4AW4IDT4HKS0AurJyyZOOHkCRIUU4LwLqclcCCCAAAIItC9AA6R9Y45AAySXGrhI0pIJTZBi36PlP/uW//3fJe1fNkGK708pcYrnhrxU0oO5YJn7pAFiQhGGAAKDF+CC0OBzkNIKqCcvmzjh5AkQFVKA8y6kJnMhgAACCCDQvgANkPaNOQINkJxqoLgT5K8lzZyw6eLZHuNf4w2PiSbfknSGpIdzgjL3SgPEhCIMAQQGL8AFocHnIKUVUE9eNnHCyRMgKqQA511ITeZCAAEEEECgfQEaIO0bcwQaILnVwEGS3ibpDyQdMsnmRyStlHSppOtzA6qwXxogFbAIRQCBwQpwQWiw/qkdnXryMooTTp4AUSEFOO9CajIXAggggAAC7QvQAGnfmCPQAMm5Bp4l6UWSniFpP0mbyo+5+mdJv84Zxtw7DRATijAEEBi8ABeEBp+DlFZAPXnZxAknT4CokAKcdyE1mQsBBBBAAIH2BWiAtG/MEWiAUAMI1BWgAVJXjnEIINB3AS4I9Z086QNST156ccLJEyAqpADnXUhN5kIAAQQQQKB9ARog7RtzBBog1AACdQVogNSVYxwCCPRdgAtCfSdP+oDUk5denHDyBIgKKcB5F1KTuRBAAAEEEGhfgAZI+8YcgQYINYBAXQEaIHXlGIcAAn0X4IJQ38mTPiD15KUXJ5w8AaJCCnDehdRkLgQQQAABBNoXoAHSvjFHoAFCDSBQV4AGSF05xiGAQN8FuCDUd/KkD0g9eenFCSdPgKiQApx3ITWZCwEEEEAAgfYFaIC0b8wRaICkXgOfCLjBMUlvDzhf16eiAdL1DLJ+BDIS4IJQRsnuw1apJw8ZJ5w8AaJCCnDehdRkLgQQQAABBNoXoAHSvjFHoAGSeg1sk1Q0LkJ9DYWaKIF5aIAkkES2gEAuAlwQyiXT/dkn9eQ544STJ0BUSAHOu5CazIUAAggggED7AjRA2jfmCDRAUq+BogFS56tomkzZZWDx32iA7EChAVKnshiDAAIDEeCC0EDYkz0o9eSlFiecPAGiQgpw3oXUZC4EEEAAAQTaF6AB0r4xR6ABknoN/GWFDRbNjf0lvUjS0ZKmlXePfFnSPeU8F1aYL/VQGiA1MrxlZFS3r39Ed/50k+5/6Fd6/Ilt2nfaVD3voJmaP2eWjnruAZo+TJ+tBi1DENirABeEKJCQAtSTp4kTTp4AUSEFOO9CajIXAr0FeH/X24gIBBDYuwANECpk0AK73gEw6PVw/P4JzJb0PyT9oaRfSlos6av9O3wnjkQDpEKaNj66WZetXKcVt2/Qps0jk46cNWNYpx01V+ccP0+z959R4QiEIoDA3gS4IER9hBSgnjxNnHDyBIgKKcB5F1KTuRCYXID3d1QHAgiEEqABEkqSeeoK0ACpK5fOuPdK+itJv5b0Ekl3pbO1xjuhAWIQjo2N6cpbH9CyG+7WY1tHjRHbQ/bbZ0hLFh2mxcccrClT+FFkwxGIwCQCXBCiNEIKUE+eJk44eQJEhRTgvAupyVwI7C7A+zuqAgEEQgvQAAktynxVBbjqWFUszfjvlc2PH0g6Ns0t1toVDZAebCOj2/SeFWt03eqNtYCLQacsmK2LTztCw0NTa8/BQAQQkLggRBWEFKCePE2ccPIEiAopwHkXUpO5ENhZgPd3VAQCCLQhQAOkDVXmrCJAA6SKVrqxb5X0ifJ5IPMlrU13q5V2RgNkL1zFXwa9++rVjZof49MXTZBLz1jAnSCVypNgBHYW4IIQFRFSgHryNHHCyRMgKqQA511ITeZCYIcA7++oBgQQaEuABkhbsszrCtAAcaXSjnu5pJvKBsibJX0+7e3au6MBsheqK1at19Jrw31i2rJT52vxwoPt5BCIAAI0QKiB9gS4wOjZ4oSTJ0BUSAHOu5CazIXADgHe31ENCCDQlgANkLZkmdcVoAHiSqUdd5KkG8sGyIWSPpj2du3d0QCZhKp4IN7Jl9xc6ZkfvdSLZ4LceMGJPBi9FxTfR2ASAS4IURohBagnTxMnnDwBokIKcN6F1GQuBLYL8P6OSkAAgTYFaIC0qcvcjgANEEcp/Zilkv6ibIC8U9LH09+ytUMaIJMwXXT9Wi1fuc5CrBJ03gnztHTR4VWGEIsAAqUAF4QohZAC1JOniRNOngBRIQU470JqMhcC2wV4f0clIIBAmwI0QNrUZW5HgAaIo5R2zDxJP5T09LIBcrKkf0p7y/buaIDsgWrLyKgWLrtJmzaP2JBu4KwZw1q15CRNHx5yhxCHAAI0QKiBFgS4wOih4oSTJ0BUSAHOu5CazIWAxPs7qgABBNoWoAHStjDz9xKgAdJLKN3vz5Z0mqQlkg6UVNTCzyXNlfREutuutDMaIHvguuXeh3XW8lWVIKsEX3nuQh17aFGSfCGAQBUBLghV0SK2lwD11Eto+/dxwskTICqkAOddSE3mQkDi/R1VgAACbQvQAGlbmPl7CdAA6SUU//fXVlzisKQDyn+KoeM1MCbpTZL+oeJ8KYfTANlDdj918336wNfuaS3vF776hXrLiYe0Nj8TI5CqABeEUs3sYPZFPXnuOOHkCRAVUoDzLqQmcyEg8f6OKkAAgbYFaIC0Lcz8vQRogPQSiv/728qPrqqy0l3zvlXSH0v6SJVJMoilAbKHJL/vi2t0zW0FTTtfpx89Vx98/RHtTM6sCCQswAWhhJM7gK1RTx46Tjh5AkSFFOC8C6nJXAhIvL+jChBAoG0BGiBtCzN/LwEaIL2E4v9+0QCp+/Vvkq6V9NeSflx3koTH0QDZQ3Lf9YU7dN3qja2l/bULZuujbziytfmZGIFUBbgglGpmB7Mv6slzxwknT4CokAKcdyE1mQsBifd3VAECCLQtQAOkbWHm7yVAA6SXUPzff1XFJRZ3e/yHpAfKZ35UHJ5VOA2QPaSbvxDK6hxgsx0S4IJQh5LVgaVST16ScMLJEyAqpADnXUhN5kKAO0CoAQQQaF+ABkj7xhxh7wI0QKgQBCYXoAGyBxs+I5ZTBoE4BbggFGdeuroq6snLHE44eQJEhRTgvAupyVwI8AwQagABBNoXoAHSvjFHoAFCDSBQV4AGyB7kbrn3YZ21fFVd057jrjx3oY499MCecQQggMDOAlwQoiJCClBPniZOOHkCRIUU4LwLqclcCEi8v6MKEECgbQEaIG0LM38vAe4A6SXE93MWoAGyh+xvGRnVwmU3adPmkeC1MWvGsFYtOUnTh4eCz82ECKQuwAWh1DPc3/1RT543Tjh5AkSFFOC8C6nJXAhIvL+jChBAoG0BGiBtCzN/LwEaIL2E+H7OAjRAJsn+Rdev1fKV64LXxnknzNPSRYcHn5cJEchBgAtCOWS5f3uknjxrnHDyBIgKKcB5F1KTuRDYLsD7OyoBAQTaFKAB0qYuczsCNEAcJWJyFaABMknmNz66WSdfcrMe2zoarDZm7jtN3zj/ZZq9/4xgczIRAjkJcEEop2y3v1fqyTPGCSdPgKiQApx3ITWZC4HtAry/oxIQQKBNARogbeoytyNAA8RRijvmE31a3pikt/fpWLEchgbIXjJxxar1WnrtXcFytezU+Vq88OBg8zERArkJcEEot4y3u1/qyfPFCSdPgKiQApx3ITWZC4EdAry/oxoQQKAtARogbckyrytAA8SVijdum6SiOdGPr9wezEADZC9VNTY2pvOvXq0vrd7YuPZOWTBbl56xQFOm8COpMSYTZCvABaFsU9/KxqknjxUnnDwBokIKcN6F1GQuBHYI8P6OakAAgbYEaIC0Jcu8rgBXG12peOOKBsiuX+MNkcny2+v7e9ptMYYGSLx1MJCVjYxu03tXrGnUBCmaHxefdoSGh6YOZA8cFIFUBLgglEom49gH9eTlASecPAGiQgpw3oXUZC4Edhbg/R0VgQACbQjQAGlDlTmrCNAAqaIVZ+xflssqrh6fLekZkoq8Fg2LOyX9i6R/l/S4pKdKmifpxWVcMbSI+4qku43tXWjEpBTCHSBGNou/FLrq1p/o/TesrfRMkP32GXrygednHvMc7vwwnAlBoJcAF4R6CfH9KgLUk6eFE06eAFEhBTjvQmoyFwK7C/D+jqpAAIHQAjRAQosyX1UBGiBVxeKMP0DSP0r6T5K2SLpUUvFskJ9OstyiWfJKSX8u6WhJv5b0Vkn/EOf2BrYqGiAV6IsH5332lnW65rYN2rR5ZNKRs2YM6/Sj5+rs4+bxwPMKvoQi0EuAC0K9hPh+FQHqydPCCSdPgKiQApx3ITWZC4HJBXh/R3UggEAoARogoSSZp64ADZC6cvGMK3J4g6Tfk/SwpFdLut1cXtEI+ZSkcyU9UTZFvm2OzSGMBkiNLG8ZGdU31z6od1x1x26jP3bmkXrF4c/U9OHcPk2tBiRDEKgowAWhimCE71WAevIKBCecPAGiQgpw3oXUZC4Eegvw/q63EREIILB3ARogVMigBWiADDoDzY//Okkryo+yOr28E6TKrMWV6B9KWiBpraQXVRmceCwNkJoJ5o1pTTiGIdBAgPOuAR5DdxOgnryiwAknT4CokAKcdyE1mQsBT4DzznMiCgEE9ixAA4TKGLQADZBBZ6D58YvndyyS9KCkZ9ec7r9J+njZRDmmwh0kNQ/XmWE0QGqmihfINeEYhkADAc67BngMpQFSswY47zw4nDwnojwB6slzIgqBkAKcdyE1mQuB/ARogOSX89h2TAMktoxUX886SQdL+m75DJDqM2x/dsg/lQ2QcyRdXmeSBMfQAKmZVF4g14RjGAINBDjvGuAxlAZIzRrgvPPgcPKciPIEqCfPiSgEQgpw3oXUZC4E8hOgAZJfzmPbMQ2Q2DJSfT2bJe0j6TZJC6sPf3JE8dyQ4jkiY5IulPTBmvOkNowGSM2M8gK5JhzDEGggwHnXAI+hNEBq1gDnnQeHk+dElCdAPXlORCEQUoDzLqQmcyGQnwANkPxyHtuOaYDElpHq69ko6VmStpT//mX1KfT+svFRNECKj8P6dI05UhxCA6RmVnmBXBOOYQg0EOC8a4DHUBogNWuA886Dw8lzIsoToJ48J6IQCCnAeRdSk7kQyE+ABkh+OY9txzRAYstI9fV8XdLJ5d0bH5b0vopTzJF0p6T9yzlOkPS9inOkGk4DpGZmeYFcE45hCDQQ4LxrgMdQGiA1a4DzzoPDyXMiyhOgnjwnohAIKcB5F1KTuRDIT4AGSH45j23HNEBiy0j19bxJ0mfL5kUx+i8k/bmkbcZUL5D0JUnFv4u7P/5V0iHGuFxCaIDUzDQvkGvCMQyBBgKcdw3wGEoDpGYNcN55cDh5TkR5AtST50QUAiEFOO9CajIXAvkJ0ADJL+ex7ZgGSGwZqb6eqeUdG8eUQ4tGxo/Lj7Eq7g65Z5dmyNMlFbGnSzpL0jRJRR0U406R9JXqS0h2BA2QmqnlBXJNOIYh0ECA864BHkNpgNSsAc47Dw4nz4koT4B68pyIQiCkAOddSE3mQiA/ARog+eU8th3TAIktI/XWM1fSP0k6tGxkjDc0itmekFQ8F2SrpKdK2m/CISbm//+VtKze4ZMdRQOkZmp5gVwTjmEINBDgvGuAx1AaIDVrgPPOg8PJcyLKE6CePCeiEAgpwHkXUpO5EMhPgAZIfjmPbcc0QGLLSP31HCjpk5JeV05R3NExWX4nfu8hSe+WdFX9Qyc7kgZIzdTyArkmHMMQaCDAedcAj6E0QGrWAOedB4eT50SUJ0A9eU5EIRBSgPMupCZzIZCfAA2Q/HIe245pgMSWkebrOU7SWyX9X5KeNsl0RQOkePD55yX9naRHmx82yRlogNRMKy+Qe8NtGRnV7esf0Z0/3aT7H/qVHn9im/adNlXPO2im5s+ZpaOee4CmDw/1nogIBEoBzjtKIaQA9eRp4oSTJ0BUSAHOu5Caec/F63E//5x3vhWRCCCwuwANEKpi0AI0QAadgXaPXzzcvPhYrAMk7VN+FNbPJa0u/3e7R+/+7DRAauaQF8iTw218dLMuW7lOK27foE2bRyYNnDVjWKcdNVfnHD9Ps/efUTMTDMtJgPMup2y3v1fqyTPGCSdPgKiQApx3ITXznIvX49XzznlX3YwRCCCwQ4AGCNUwaAEaIIPOAMePWYAGSM3s8AJ5d7ixsTFdeesDWnbD3Xps66gtu98+Q1qy6DAtPuZgTZnCj2wbLsNAzrsMk97ilqknDxcnnDwBokIKcN6F1MxrLl6P18835119O0YigIBEA4QqGLQAV9MGnQGOH7MADZCa2eEF8s5wI6Pb9J4Va3Td6o01RaVTFszWxacdoeGhqbXnYGDaApx3aee337ujnjxxnHDyBIgKKcB5F1Izn7l4Pd4s15x3zfwYjUDuAjRAcq+Awe+fBsjgc8AK4hWgAVIzN7xA3gFX/KXZu69e3aj5MT5b0QS59IwF3AlSsy5TH8Z5l3qG+7s/6snzxgknT4CokAKcdyE185iL1+PN88x519yQGRDIWYAGSM7Zj2PvNEDiyEPoVZwg6XclvVjSgZJmSSpy/dt7ONBzyu8V33og9EI6Ph8NkJoJ5AXyDrgrVq3X0mvvqim5+7Blp87X4oUHB5uPidIR4LxLJ5cx7IR68rKAE06eAFEhBTjvQmrmMRevx5vnmfOuuSEzIJCzAA2QnLMfx95pgMSRh1CreKWkD+2h0VHkeUzS0B4O9E1JLy+/f6KkW0ItJoF5aIDUTCIvkLfDFQ9YPPmSmys986MXefFMkBsvOJEHo/eCyvD7nHcZJr3FLVNPHi5OOHkCRIUU4LwLqZn+XLweD5NjzrswjsyCQK4CNEByzXw8+6YBEk8umq7kzyUtKe/m2FNeJ2uA/J6kr5YNkOWS3tJ0IQmNpwFSM5m8QN4Od9H1a7V85bqaipMPO++EeVq66PDg8zJhtwU477qdv9hWTz15GcEJJ0+AqJACnHchNdOfi9fjYXLMeRfGkVkQyFWABkiumY9n3zRA4slFk5W8S9KlEya4V9IXJBWfu/O+8qOwJmuAFE9U/rfyo7KKJzQXH4nF13YBGiA1K4EXyNKWkVEtXHaTNm0eqak4+bBZM4a1aslJmj68p5u6gh+OCTsiwHnXkUR1ZJnUk5conHDyBIgKKcB5F1Iz7bl4PR4uv5x34SyZCYEcBWiA5Jj1uPZMAySufNRZzWxJP5b0lPIujvdL+jNJ28rJvibpVXv5CKwi7O8l/Zcy5rck3VdnIQmOoQFSM6m8QJZuufdhnbV8VU3B3sOuPHehjj20eMQPXwhsF+C8oxJCClBPniZOOHkCRIUU4LwLqZn2XLweD5dfzrtwlsyEQI4CNEByzHpce6YBElc+6qzmTyUV/xR3eHxK0tt3mcRpgPw/kj5aznGqpC/XWUiCY2iA1EwqL5ClT918nz7wtXtqCvYeduGrX6i3nHhI70AishHgvMsm1X3ZKPXkMeOEkydAVEgBzruQmmnPxevxcPnlvAtnyUwI5ChAAyTHrMe1ZxogceWjzmq+L2mhpCckPUvSL2o0QP5z2fQomijvlPTxOgtJcAwNkJpJ5QWy9L4vrtE1txUl1M7X6UfP1Qdff0Q7kzNrJwU47zqZtmgXTT15qcEJJ0+AqJACnHchNdOei9fj4fLLeRfOkpkQyFGABkiOWY9rzzRA4spHndU8WD6/Y035rI9d53DuADle0nfKO0CWSvpAnYXUGHOQpKMl/c6EfxdNnPGvs8uP56oxdZAhNEBqMvICWXrXF+7QdauLx+q08/XaBbP10Tcc2c7kzNpJAc67TqYt2kVTT15qcMLJEyAqpADnXUjNtOfi9Xi4/HLehbNkJgRyFKABkmPW49ozDZC48lFnNVskDUv6J0kn72ECpwFykqQbywZI8dD0D9dZSIUxRZPjB5Ke22MMDZAKqDGF8gKZO0Biqsdc1sJ5l0um+7NP6slzxgknT4CokAKcdyE1056LO0DC5ZfzLpwlMyGQowANkByzHteeaYDElY86qyn+xPyZku4o76LYdQ6nAfJmSZeVDZBzJF1eZyEVxvympHVGPA0QAynGEF4g8wyQGOsy9TVx3qWe4f7uj3ryvHHCyRMgKqQA511IzbTn4hkg4fLLeRfOkpkQyFGABkiOWY9rzzRA4spHndWsKj9C6nFJ+0sq/j3xy2mAfE7SH5QNkJdI+mGdhVQYM7EB8pCk2yXdVh73ugnz0ACpgBpTKC+QpVvufVhnLS9Oz3a+rjx3oY499MB2JmfWTgpw3nUybdEumnryUoMTTp4AUSEFOO9CaqY9F6/Hw+WX8y6cJTMhkKMADZAcsx7XnmmAxJWPOqt5v6QLy+bFWyV9ZpdJejVAni3pfkn7SnpU0jPKueqsxR3zNEmvLBse63cZVDyIffyLBogrGlkcL5ClLSOjWrjsJm3aPBI8O7NmDGvVkpM0fXgo+NxM2F0Bzrvu5i7GlVNPXlZwwskTICqkAOddSM205+L1eLj8ct6Fs2QmBHIUoAGSY9bj2jMNkLjyUWc1L5K0WlKRy6KBUTxQvGhojH/trQGyj6SvSzqxbHr8taTz6ywi4BgaIAExBzUVL5C3y190/VotX+l82lu1TJ13wjwtXXR4tUFEJy/AeZd8ivu6QerJ48YJJ0+AqJACnHchNdOfi9fjYXLMeRfGkVkQyFWABkiumY9n3zRA4slFk5UUz+8onuNRNA+Kj5R6m6T/WU44WQNkoaS/kXRU2Tz5paQXSHqwyUICjKUBEgBx0FPwAnl7BjY+ulknX3KzHts6GiwlM/edpm+c/zLN3n9GsDmZKA0Bzrs08hjLLqgnLxM44eQJEBVSgPMupGb6c/F6PEyOOe/CODILArkK0ADJNfPx7JsGSDy5aLKSmZK+I2nBhI+v2iDp25KOlzSv/O8flvQbkornfDy/PGBRA9sknSLp+iaLCDSWBkggyEFOwwvkHfpXrFqvpdfeFSwdy06dr8ULDw42HxOlI8B5l04uY9gJ9eRlASecPAGiQgpw3oXUzGMuXo83zzPnXXNDZkAgZwEaIDlnP4690wCJIw8hVnGQpC9Ienk52cRGwp7mH8/9ryX9oaSrQywiwBw0QAIgDnoKXiDvyMDY2JjOv3q1vrR6Y+O0nLJgti49Y4GmTOFHd2PMBCfgvEswqQPcEvXk4eOEkydAVEgBzruQmnnMxevx5nnmvGtuyAwI5CxAAyTn7Mexd66ixZGHUKso8lk8CP0CSYf0mLRoNFwr6U8k3R1qAQHmoQESAHHQU/ACeecMjIxu03tXrGnUBCmaHxefdoSGh6YOOr0cP1IBzrtIE9PRZVFPXuJwwskTICqkAOddSM185uL1eLNcc94182M0ArkL0ADJvQIGv38aIIPPQRsrKPJ6rKQTJBUPSX+GpP0kbSqf8fEDSTdKWt/GwRvOSQOkIWAMw3mBvHsWir88u+rWn+j9N6yt9EyQ/fYZevKB52ce8xzu/IihuCNeA+ddxMnp4NKoJy9pOOHkCRAVUoDzLqRmXnPxerx+vjnv6tsxEgEEJBogVMGgBWiADDoDHH9XgbYbIMXdMcU/ztezJA3NmTNHGzYUj1ThyxXgBfLkUsWDGD97yzpdc9sGbdo8MmngrBnDOv3ouTr7uHk88NwtvMzjOO8yL4DA26eePFCccPIEiAopwHkXUjPPuXg9Xj3vnHfVzRiBAAI7BGiAUA2DFqABMugMND/+MROmuEfSL5tPOdAZ2m6AFlsd0gAAIABJREFU/JmkP62yQxogVbS2x/ICubfZlpFRfXPtg3rHVXfsFvyxM4/UKw5/pqYPD/WeiAgESgHOO0ohpAD15GnihJMnQFRIAc67kJp5z8XrcT//nHe+FZEIILC7AA0QqmLQAjRABp2B5sffJqloGjwuaY6kR5pPOdAZ2m6AcAdIH9LLC2QPGSfPiShPgHrynIjyBKgnnDwBL4p68pyI8gSoJ8+JKE+AesLJEyAKAQSaCNAAaaLH2BACNEBCKA52jqLxMSxptaQXD3YpQY7edgOkyiKLz72awx0gVci2x/JGwjPDyXMiyhOgnjwnojwB6gknT8CLop48J6I8AerJcyLKE6CecPIEiEIAgSYCNECa6DE2hAANkBCKg52jeJD5XEnflnTSYJcS5Og0QIIwDnYS3kh4/jh5TkR5AtST50SUJ0A94eQJeFHUk+dElCdAPXlORHkC1BNOngBRCCDQRIAGSBM9xoYQoAESQnGwc9wk6eWSfiTpsMEuJcjRaYAEYRzsJLyR8Pxx8pyI8gSoJ8+JKE+AesLJE/CiqCfPiShPgHrynIjyBKgnnDwBohBAoIkADZAmeowNIUADJITiYOf4b5I+Xj4H5PmS7h/schofnQZIY8LBT8AbCS8HOHlORHkC1JPnRJQnQD3h5Al4UdST50SUJ0A9eU5EeQLUE06eAFEIINBEgAZIEz3GhhCgARJCcbBzPE3SneXHYH1V0u+XzZDBrqr+0WmA1LeLZiRvJLxU4OQ5EeUJUE+eE1GeAPWEkyfgRVFPnhNRngD15DkR5QlQTzh5AkQhgEATARogTfQYG0KABkgIxcHPcaykr0t6iqRrJb1V0sODX1atFdAAqcUW1yDeSHj5wMlzIsoToJ48J6I8AeoJJ0/Ai6KePCeiPAHqyXMiyhOgnnDyBIhCAIEmAjRAmugxNoQADZAQioOd45jy8IdL+qikmZI2S/qSpJWS7pP0H5K2mcu81YxrK4wGSFuyfZyXNxIeNk6eE1GeAPXkORHlCVBPOHkCXhT15DkR5QlQT54TUZ4A9YSTJ0AUAgg0EaAB0kSPsSEEaICEUBzsHEVjY2LTYDynE/+bu8JizDQ3uKU4GiAtwfZzWt5IeNo4eU5EeQLUk+dElCdAPeHkCXhR1JPnRJQnQD15TkR5AtQTTp4AUQgg0ESABkgTPcaGEKABEkJxsHOMN0CKXO7a9Kia32L80GC3s9Mezpb09wNczwZJc+bMmaMNG4r/yZcrwBsJTwonz4koT4B68pyI8gSoJ5w8AS+KevKciPIEqCfPiShPgHrCyRMgCgEEmgjQAGmix9gQAlUvkIc4JnOEFfhZ4IeePzvs8iad7TOS3riH7+474b89IWl0DzHT+7RGGiA1oXkj4cHh5DkR5QlQT54TUZ4A9YSTJ+BFUU+eE1GeAPXkORHlCVBPOHkCRCGAQBMBGiBN9BgbQoAGSAhF5qgjUNzZ8aY6AyX1q25pgNRMEG8kPDicPCeiPAHqyXMiyhOgnnDyBLwo6slzIsoToJ48J6I8AeoJJ0+AKAQQaCJAA6SJHmNDCPTrQnKItTJHWgI0QNLK50674Y2El1ycPCeiPAHqyXMiyhOgnnDyBLwo6slzIsoToJ48J6I8AeoJJ0+AKAQQaCJAA6SJHmNDCNAACaHIHKkKcAdIzczyRsKDw8lzIsoToJ48J6I8AeoJJ0/Ai6KePCeiPAHqyXMiyhOgnnDyBIhCAIEmAjRAmugxNoQADZAQisyRqgANkJqZ5Y2EB4eT50SUJ0A9eU5EeQLUE06egBdFPXlORHkC1JPnRJQnQD3h5AkQhQACTQRogDTRY2wIARogIRSZI1UBGiA1M8sbCQ8OJ8+JKE+AevKciPIEqCecPAEvinrynIjyBKgnz4koT4B6wskTIAoBBJoI0ABposfYEAI0QEIo9meOX5SHuVHSGf05ZPZHoQFSswR4I+HB4eQ5EeUJUE+eE1GeAPWEkyfgRVFPnhNRngD15DkR5QlQTzh5AkQhgEATARogTfQYG0KABkgIxf7MsU3SmKSvS3pNj0PeX37/25LO6c/ykjwKDZCaaeWNhAeHk+dElCdAPXlORHkC1BNOnoAXRT15TkR5AtST50SUJ0A94eQJEIUAAk0EaIA00WNsCAEaICEU+zNHlQZIldj+rL6bR6EBUjNvvJHw4HDynIjyBKgnz4koT4B6wskT8KKoJ8+JKE+AevKciPIEqCecPAGiEECgiQANkCZ6jA0hQAMkhGJ/5qjS1KgS25/Vd/MoNEBq5o03Eh4cTp4TUZ4A9eQ5EeUJUE84eQJeFPXkORHlCVBPnhNRngD1hJMnQBQCCDQRoAHSRI+xIQRogIRQ7M8cVZoaVWL7s/puHoUGSM288UbCg8PJcyLKE6CePCeiPAHqCSdPwIuinjwnojwB6slzIsoToJ5w8gSIQgCBJgI0QJroMTaEAA2QEIr9maNKU6NKbH9W382j0ACpmTfeSHhwOHlORHkC1JPnRJQnQD3h5Al4UdST50SUJ0A9eU5EeQLUE06eAFEIINBEgAZIEz3GhhCgARJCsT9zVGlqVIntz+q7eRQaIDXzxhsJDw4nz4koT4B68pyI8gSoJ5w8AS+KevKciPIEqCfPiShPgHrCyRMgCgEEmgjQAGmix9gQAjRAQij2Z44qTY0qsf1ZfTePQgOkZt54I+HB4eQ5EeUJUE+eE1GeAPWEkyfgRVFPnhNRngD15DkR5QlQTzh5AkQhgEATARogTfQYG0KABkgIxf7MUaWpUSW2P6vv5lF2aoBsGRnV7esf0Z0/3aT7H/qVHn9im/adNlXPO2im5s+ZpaOee4CmDw91c6eBV80bCQ8UJ8+JKE+AevKciPIEqCecPAEvinrynIjyBKgnz4koT4B6wskT6B3F9YLeRkTkK0ADJN/cx7JzGiCxZKL3Oqo0NarE9j5yvhFPNkCeNXu23v63N2rF7Ru0afPIpBqzZgzrtKPm6pzj52n2/jPyVZPEGwkv/Th5TkR5AtST50SUJ0A94eQJeFHUk+dElCdAPXlORHkC1BNOnsDkURsf3azLVq7jekFTSMYnLUADJOn0dmJzNEA6kaYnF1mlqVEltjsC/V/pkw2QaU99hua87XL76PvtM6Qliw7T4mMO1pQpeZ5ivJHwygUnz4koT4B68pyI8gSoJ5w8AS+KevKciPIEqCfPiShPgHrCyRPYPWpsbExX3vqAlt1wtx7bOmpPw/UCm4rAhARogCSUzI5uJc+rs91M1nhT4xFJ/6vHFv6TpDFJTuzEqYoxJ3WTp5VVP9kAGZr5DM19u98AGV/JKQtm6+LTjtDw0NRWFhfzpLyR8LKDk+dElCdAPXlORHkC1BNOnoAXRT15TkR5AtST50SUJ0A94eQJ7Bw1MrpN71mxRtet3lhn+JNjcr5eUBuNgZ0VoAHS2dQls3AaIN1J5XgDpK0VF7VQNEB4iMUO4UYNkPEXNZeesSC7O0F4I+Gdpjh5TkR5AtST50SUJ0A94eQJeFHUk+dElCdAPXlORHkC1BNOnsCOqOLOj3dfvbpR82N8tqIJkuP1gqrmxHdfgAZI93PY9R3QAOlOBosGSNtfNEB2Fm7cACmmW3bqfC1eeHDbuYtqft5IeOnAyXMiyhOgnjwnojwB6gknT8CLop48J6I8AerJcyLKE6CecPIEdkRdsWq9ll57V9Vhk8bneL0gGB4TdUaABkhnUpXsQmmAdCe1n+3TUs/u03G6cJggDZDiMz5vvODErB6MzhsJr7xx8pyI8gSoJ8+JKE+AesLJE/CiqCfPiShPgHrynIjyBKgnnDyB7VHFA89PvuTmSs/86DV/jtcLepnw/fQEaICkl9Ou7YgGSNcyxnr7KRCkAVIs+LwT5mnposP7ufaBHos3Eh4/Tp4TUZ4A9eQ5EeUJUE84eQJeFPXkORHlCVBPnhNRngD1hJMnsD3qouvXavnKdVWGWLG5XS+wUAhKSoAGSFLp7ORmaIB0Mm0suk8CwRogs2YMa9WSkzR9OI9HrPBGwqtQnDwnojwB6slzIsoToJ5w8gS8KOrJcyLKE6CePCeiPAHqCSdPQNoyMqqFy27Sps0j7hA7LrfrBTYMgckI0ABJJpWd3QgNkM6mjoX3QSBYA6RY65XnLtSxhx7Yh2UP/hC8kfBygJPnRJQnQD15TkR5AtQTTp6AF0U9eU5EeQLUk+dElCdAPeHkCUi33Puwzlq+yg2vHJfT9YLKOAzovAANkM6nsPMboAHS+RSygRYFgjZALnz1C/WWEw9pcbnxTM0bCS8XOHlORHkC1JPnRJQnQD3h5Al4UdST50SUJ0A9eU5EeQLUE06egPSpm+/TB752jxteOS6n6wWVcRjQeQEaIJ1PYec3QAOk8ylkAy0KBG2AnH70XH3w9Ue0uNx4puaNhJcLnDwnojwB6slzIsoToJ5w8gS8KOrJcyLKE6CePCeiPAHqCSdPQHrfF9fomtuKSwTtfOV0vaAdQWaNWYAGSMzZyWNtNEDyyDO7rCcQtAHy2gWz9dE3HFlvJR0bxRsJL2E4eU5EeQLUk+dElCdAPeHkCXhR1JPnRJQnQD15TkR5AtQTTp6A9K4v3KHrVm90wyvH5XS9oDJOhgOKZ87cvv4R3fnTTbr/oV/p8Se2ad9pU/W8g2Zq/pxZOuq5B3TqGbM0QDIs4si2TAMksoSwnKgEgjZAcvqLDt5IeHWMk+dElCdAPXlORHkC1BNOnoAXRT15TkR5AtST50SUJ0A94eQJcAeI60RcM4GNj27WZSvXacXtG7Rp88ikk82aMazTjpqrc46fp9n7z2h20D6MpgHSB2QOsVcBGiAUCAKTCwRtgOT0mZ68kfBOK5w8J6I8AerJcyLKE6CecPIEvCjqyXMiyhOgnjwnojwB6gknT4BngLhOxNUTGBsb05W3PqBlN9ytx7aO2pPst8+Qliw6TIuPOVhTpsR7iZcGiJ1SAlsSiPfsaGnDTItABYGgDZArz12oYw89sMLhuxvKGwkvdzh5TkR5AtST50SUJ0A94eQJeFHUk+dElCdAPXlORHkC1BNOnoB0y70P66zlq9zwynE5XS+ojJP4gJHRbXrPijWNPmLtlAWzdfFpR2h4aGqUWjRAokxLVouiAZJVutlsRYFgDZDi9sRVS07q1Gc0VrTaKZw3Ep4eTp4TUZ4A9eQ5EeUJUE84eQJeFPXkORHlCVBPnhNRngD1hJMnIBXPZFi47Ka9fiyRO9eucbldL6jrlOK44s6Pd1+9ulHzY9ylaIJcesaCKO8EoQGSYvV2a080QLqVL1bbX4FgDZDzTpinpYsO7+/qB3g03kh4+Dh5TkR5AtST50SUJ0A94eQJeFHUk+dElCdAPXlORHkC1BNOnsD2qIuuX6vlK9dVGWLF5na9wELJJOiKVeu19Nq7gu122anztXjhwcHmCzURDZBQksxTV4AGSF05xuUgEKQBMnPfafrG+S/rxIOpQiWVNxKeJE6eE1GeAPXkORHlCVBPOHkCXhT15DkR5QlQT54TUZ4A9YSTJ7A9qnhA9cmX3FzpGQ295s/xekEvk1y+30Y9Fc8EufGCE6O7/kQDJJeqjnefNEDizQ0rG7xAkAZIrB34Nnl5I+Hp4uQ5EeUJUE+eE1GeAPWEkyfgRVFPnhNRngD15DkR5QlQTzh5AjuicvmL/aouxFcXyOmOIhog1euDEWEFaICE9WS2tAQaN0Bi/gzGNlPFGwlPFyfPiShPgHrynIjyBKgnnDwBL4p68pyI8gSoJ8+JKE+AesLJE9gRVTyz4fyrV+tLqzdWHbpbfK7XCxrDJTBBbs+UoQGSQNF2fAs0QDqeQJbfqkCjBkjxYubi047Q8NDUVhcZ4+S8kfCygpPnRJQnQD15TkR5AtQTTp6AF0U9eU5EeQLUk+dElCdAPeHkCewcNTK6Te9dsaZREyTn6wV1zFMbc8u9D+us5ata29aV5y7UsYce2Nr8VSemAVJVjPjQAjRAQosyX0oCTzZApj31GZrztsvtfRWfuVg88PzMY56jKVPyPMV4I+GVC06eE1GeAPXkORHlCVBPOHkCXhT15DkR5QlQT54TUZ4A9YSTJ7B7VHEnyFW3/kTvv2FtpWeCcL2grnha4z518336wNfuaW1TF776hXrLiYe0Nn/ViWmAVBUjPrRAnldnQysyX6oCTzZAnjV7tt7x6Rt1zW0btGnzyKR7nTVjWKcfPVdnHzcvugdO9TtBvJHwxHHynIjyBKgnz4koT4B6wskT8KKoJ8+JKE+AevKciPIEqCecPIHJo4oHWX/2lnVcL2gKmdn4931xzZM109ZXcW3qg68/oq3pK89LA6QyGQMCC9AACQzKdEkJPNkAmTNnjjZs2KDiMxq/ufZBveOqO3bb5MfOPFKvOPyZmj48lBRA3c3wRsKTw8lzIsoToJ48J6I8AeoJJ0/Ai6KePCeiPAHqyXMiyhOgnnDyBHpHcb2gtxEROwTe9YU7dF2A58hMZvraBbP10TccGQ05DZBoUpHtQmiAZJt6Nm4I7NQAKeJ5gWyo4eQh4WQ7EegJ8PPJcyLKE6CecPIEvCjqyXMiyhOgnjwnojwB6gknT8CLop48J6Ik7gChChDorwANkP56c7RuCdAAqZkvXvh5cDh5TkR5AtRTb6fiL/NuX/+I7vzpJt3/0K/0+BPbtO+0qXreQTM1f84sHfXcA7iTr2SknnrXUxGBE06eQO8ofj71NhqP4LzzrYjsLUA99Tbi951nhJPvRKTEM0CoAgT6K0ADpL/eHK1bAjRAauaLNxIeHE6eE1GeAPU0uVPx2cyXrVynFbf3fpbTaUfN1TnH8ywn6onzzhPwoqgnfj55leJFUU+eE1GeAPWEkyfgRVFPvZ1o+G83uuXeh3XW8lW9wWpGXHnuQh176IE1R4cfxkdghTdlxmoCNECqeRGdlwANkJr55oWfB4eT50SUJ0A97e40NjamK299QMtuuFuPbR31ICXtt8+Qliw6TIuPOVhTpuT5Uol68soFJ5w8AX4+1XXa0zjOu5CazEU9eTWAE06ewORR/EHSzjZFI2jhspu0afNIU9rdxs+aMaxVS06K6s52GiDB08yEFQXyfFdfEYnwbAVogNRMPS+QPTicPCeiPAHqaWenkdFtes+KNY0eLnjKgtm6+LQjNDw01UtCQlHUk5dMnHDyBPj5VMdpsjGcdyE1mYt68moAJ5w8gd2j+IOkyeUuun6tlq9cV5d20nHnnTBPSxcdHnzeJhPSAGmix9gQAjRAQigyR6oCNEBqZpYXyB4cTp4TUZ4A9bTDqXij9e6rVzdqfozPVjRBLj1jQXZ3glBPnHeegBdFPfHzyasUL4p68pyI8gSoJ5w8AS+KetrZiT9I2nvdFHfFnHzJzZXuVO9ViTP3naZvnP8yzd5/Rq/Qvn6fBkhfuTnYHgRogFAWCEwuQAOkZnXwws+Dw8lzIsoToJ52OF2xar2WXnuXB2dELTt1vhYvPNiITCeEevJyiRNOngA/n6o67S2e8y6kJnNRT14N4ISTJ7Ajij9I8sRyed9CA8SrB6LaE6AB0p4tM3dfgAZIzRzyAtmDw8lzIsoToJ62O7Xxl1TFM0FuvODE6P6SyquMelHUk+eGE06eAD+fqjj1iuW86yXE96sIUE+eFk44eQI7onK5sF/VZdf4olF0/tWr9aXVG5tOpZjvXKcB0ji9TNBQgAZIQ0CGJy1AA6RmenmB7MHh5DkR5QlQT9udcvosXa8y6kVRT54bTjh5Avx8quLUK5bzrpcQ368iQD15Wjjh5Alsj+IPkqpoScVHhb13xZpGTZDYn11IA6RaTRAdXoAGSHhTZkxHgAZIzVzyAtmDw8lzIsoToJ6kLSOjWrjsJm3aPOKhVYiaNWNYq5acpOnDQxVGdTeUevJyhxNOngA/n1wnJ47zzlEixhWgnjwpnHDyBLZH8QdJVbS2xxZ3glx160/0/hvWVnomSHGnevHA8zOPeU7UzyykAVK9JhgRVoAGSFhPZktLgAZIzXzyAtmDw8lzIsoToJ6kW+59WGctX+WB1Yi68tyFOvbQA2uM7N4Q6snLGU44eQL8fHKdnDjOO0eJGFeAevKkcMLJE6Dh7zpNFlfcPfPZW9bpmts27PWPuoo/zjr96Lk6+7h5nfiYXhogTSuD8U0FaIA0FWR8ygI0QGpmlxfIHhxOnhNRngD1JH3q5vv0ga/d44HViLrw1S/UW048pMbI7g2hnryc4YSTJ8DPJ9fJieO8c5SIcQWoJ08KJ5w8ARr+rlOvuOLO9m+ufVDvuOqO3UI/duaResXhz+zUnek0QHplnO+3LUADpG1h5u+yAA2QmtnjBbIHh5PnRJQnQD1J7/vimif/Wqqtr+KvrD74+iPamj6qeaknLx044eQJ8PPJdXLiOO8cJWJcAerJk8IJJ0+Ahr/r5MSldN7RAHEyTkybAjRA2tRl7q4L0ACpmcGUflHXJLCG4WQxEWQKUE/Su75wh65bvdEUqx722gWz9dE3HFl9YAdHUE9e0nDCyRPg55Pr5MRx3jlKxLgC1JMnhRNOngANf9fJiUvpvKMB4mScmDYFaIC0qcvcXRegAVIzgyn9oq5JYA3DyWIiyBSgnnjDZZaKFUY9WUzCCSdPgJ9PrpMTx3nnKBHjClBPnhROOHkCNPxdJycupfOOBoiTcWLaFKAB0qYuc3ddgAZIzQym9Iu6JoE1DCeLiSBTgHrilnuzVKww6sliogHiMeEkfj6ZpWKF8fPJYiLIFKCePCiccPIEaPi7Tk5cSucdDRAn48S0KUADpE1d5u66AA2QmhlM6Rd1TQJrGE4WE0GmAPXEQxfNUrHCqCeLiQv7HhNO4ueTWSpWGD+fLCaCTAHqyYPCCSdPgIa/6+TEpXTe0QBxMk5MmwI0QNrUZe6uC9AAqZnBlH5R1ySwhuFkMRFkClBP0paRUS1cdpM2bR4x1fywWTOGtWrJSZo+POQP6nAk9eQlDyecPAF+PrlOThznnaNEjCtAPXlSOOHkCdDwd52cuJTOOxogTsaJaVOABkibuszddQEaIDUzmNIv6poE1jCcLCaCTAHqaTvURdev1fKV60w1P+y8E+Zp6aLD/QEdj6SevATihJMnwM+nKk69Yjnvegnx/SoC1JOnhRNOngANf9fJiUvpvKMB4mScmDYFaIC0qcvcXRegAVIzgyn9oq5JYA3DyWIiyBSgnrZDbXx0s06+5GY9tnXUlOsdNnPfafrG+S/T7P1n9A5OJIJ68hKJE06eAD+fqjj1iuW86yXE96sIUE+eFk44eQLbo/iDpCpak8emdN7RAAlTE8xSX4AGSH07RqYvQAOkZo5T+kVdk8AahpPFRJApQD3tgLpi1XotvfYuU6532LJT52vxwoN7ByYUQT15ycQJJ0+An09VnfYWz3kXUpO5qCevBnDCyRPYHsUfJFXRmjw2pfOOBkiYmmCW+gI0QOrbMTJ9ARogNXOc0i/qmgTWMJwsJoJMAeppB9TY2JjOv3q1vrR6o6k3edgpC2br0jMWaMqUvF4yUU9e6eCEkyfAz6eqTjRAQooxF/XUvAb4fecZ4rTDiT9I8moml59PNECa1wMzNBPI6918MytG5ydAA6Rmznnh58Hh5DkR5QlQTzs7jYxu03tXrGnUBCmaHxefdoSGh6Z6SUgoinrykokTTp4AP5/qOE02hvMupCZzUU9eDeCEkyewI4o/SKoqtnt8SucdDZDm9cAMzQRogDTzY3TaAjRAauY3pV/UNQmsYThZTASZAtTT7lDFG6+rbv2J3n/D2krPBNlvn6EnH3h+5jHPye7Oj3FF6sk78XDCyRPg51Ndpz2N47wLqclc1JNXAzjh5AnsHMUfJNVR2zEmpfOOBkizWmB0cwEaIM0NmSFdARogNXOb0i/qmgTWMJwsJoJMAeppcqjic4g/e8s6XXPbBm3aPDJp4KwZwzr96Lk6+7h5WT3wnAuM5km2hzDOO88OJ34+eZXiRVFPnhNRngD1hJMn4EVRT7s78QdJXu2k/nqcBkj9OmBkGAEaIGEcmSVNARogNfPKCz8PDifPiShPgHrq7bRlZFTfXPug3nHVHbsFf+zMI/WKw5+p6cNDvSfKIIJ68pKME06eQO8ofj71NhqP4LzzrYjsLUA99TYqInDCyROYPIo/SKoumNJ5RwOkev4ZEVaABkhYT2ZLS4AGSM18pvSLuiaBNQwni4kgU4B68qBwwskT8KKoJ5w8AS+KesLJEyAqpADnnaeJE06eQO8oGv69jcYjUjrvaID4eSeyHQEaIO24MmsaAjRAauYxpV/UNQmsYThZTASZAtSTB4UTTp6AF0U94eQJeFHUE06eAFEhBTjvPE2ccPIEvCjqKT8nGiBezolqT4AGSHu2zNx9ARogNXPICxoPDifPiShPgHrCyRPwoqgnnDwBL4p6wskT8KKoJ8+JKE+AesLJE/CiqCecPAEvKqV6ogHi5Zyo9gRogLRny8zdF6ABUjOHKf2irklgDcPJYiLIFKCePCiccPIEvCjqCSdPwIuinnDyBIgKKcB552nihJMn4EVRT/k50QDxck5UewI0QNqzZebuC9AAqZlDXtB4cDh5TkR5AtQTTp6AF0U94eQJeFHUE06egBdFPXlORHkC1BNOnoAXRT3h5Al4USnVEw0QL+dEtSdAA6Q9W2buvgANkJo5TOkXdU0CaxhOvZmKh+Tdvv4R3fnTTbr/oV/p8Se2ad9pU/W8g2Zq/pxZOuq5B2j68FDviTKIoJ68JOOEkyfgRVFPOHkCXhT1hJMn0DuK10+9jcYjOO88K5xw8gS8KOopPycaIF7OiWpPgAZIe7bM3H0BGiA1c8gLGg8Op8mdNj66WZetXKcVt2/Qps0jkwbOmjGs046aq3OOn6fZ+8/w4BONop68xOKEkyfgRVFPOHkCXhT1hJMnwOunpk4Tx3PeeZo44eR/UkqgAAAgAElEQVQJeFHUU35ONEC8nBPVngANkPZsmbn7AjRAauaQFzQeHE67O42NjenKWx/Qshvu1mNbRz1ISfvtM6Qliw7T4mMO1pQpef5qo568csEJJ0/Ai6KecPIEvCjqCSdPgNdPdZ32NI7zztPECSdPwIuinvJzogHi5Zyo9gTyvErUniczpyVAA6RmPnlB48HhtLPTyOg2vWfFGl23eqMHuIeoUxbM1sWnHaHhoam15+jqQOrJyxxOOHkCXhT1hJMn4EVRTzh5Arx+quM02RjOO08TJ5w8AS+KesrPiQaIl3Oi2hOgAdKeLTN3X4AGSM0c8oLGg8Nph1Nx58e7r17dqPkxPlvRBLn0jAXZ3QlCPXHeeQJeFPWEkyfgRVFPOHkCXhT1xOsnr1K8KOoJJ0/Ai6KecPIEvKiU6okGiJdzotoToAHSni0zd1+ABkjNHKb0i7omgTUMpx1MV6xar6XX3mW5OUHLTp2vxQsPdkKTiaGevFTihJMn4EVRTzh5Al4U9YSTJ8Drp6pOe4vnvPM0ccLJE/CiqKf8nGiAeDknqj0BGiDt2TJz9wVogNTMIS9oPDictjsVDzw/+ZKbKz3zo5dw8UyQGy84MasHo1NPvapi+/dxwskT8KKoJ5w8AS+KesLJE+D1UxWnXrGcd72EeP3kCeGEUxUBLzaln080QLycE9WeAA2Q9myZufsCNEBq5jClX9Q1Caxh/397ZwJ2b1fO7Z/qbRBlaFASDUKkUorMJJEhUyMqmUIoX6L4MiQpJFOGMkRF8WWIhEQKJRqkDCUpZYiUofSqvuPUun3r2/Zw7Xvv+//s+37O6zg63v7Pvta61zrX2mvvvX5rXZec3obpgU96UR75jJeVmO3j9IUfca3c/zbX36fIrH2dT7Xhk5OcagRqXs4nOdUI1LycT3KqEfD70z6cdvn6vttF6G2vy0lONQI1L+fT+eOkAFIbc72mI6AAMh1ba54/AQWQkWPoF5oaODklb7z4zbn5g56a173h4hq0PbyueLmL8qz7fVwue9El9yg1X1fnU23s5CSnGoGal/NJTjUCNS/nk5xqBPz+VOVU8fN9V6GkAFKjJCc5VQnU/Ja0PimA1MZcr+kIKIBMx9aa509AAWTkGC7pg3okglIxOSXPfMlrcudHPqvEa4zTY7/g5rnFda80pujsyjifakMmJznVCNS8nE9yqhGoeTmf5FQj4PenKqeKn++7CiU39muU5CSnKoGa35LWJwWQ2pjrNR0BBZDp2Frz/AkogIwcwyV9UI9EUComp+QHf/ulefCT/7TEa4zT133i++aLP+o6Y4rOrozzqTZkcpJTjUDNy/kkpxqBmpfzSU41An5/qnKq+Pm+q1ByY79GSU5yqhKo+S1pfVIAqY25XtMRUACZjq01z5+AAsjIMVzSB/VIBKVickq+5mefn8c/h7faNHa7m14jD/msG05T+YnV6nyqDYic5FQjUPNyPsmpRqDm5XySU42A35+qnCp+vu8qlNzYr1GSk5yqBGp+S1qfFEBqY67XdAQUQKZja83zJ6AAMnIMl/RBPRJBqZickq/86efmF573qhKvMU6fdqOr5+F3uPGYorMr43yqDZmc5FQjUPNyPsmpRqDm5XySU42A35+qnCp+vu8qlNzYr1GSk5yqBGp+S1qfFEBqY67XdAQUQKZja83zJ6AAMnIMl/RBPRJBqZicPMFYmihFJ+dTDZSc5FQjUPNyPsmpRqDm5XySU42A35+qnCp+vu8qlNzYr1GSk5yqBGp+S1qfFEBqY67XdAQUQKZja83zJ6AAMnIMl/RBPRJBqZicjGFdmihFJ+dTDZSc5FQjUPNyPsmpRqDm5XySU42A35+qnCp+vu8qlNzYr1GSk5yqBGp+S1qfFEBqY67XdAQUQKZja83zJ6AAMnIMl/RBPRJBqZickme+5DW58yOfVeI1xumxX3Dz3OK6VxpTdHZlnE+1IZOTnGoEal7OJznVCNS8nE9yqhHw+1OVU8XP912Fkhv7NUpyklOVQM1vSeuTAkhtzPWajoACyHRsrXn+BBRARo7hkj6oRyIoFZNT8saL35ybP+iped0bLi4x28fpipe7KM+638flshddcp9is/V1PtWGTk5yqhGoeTmf5FQjUPNyPsmpRsDvT1VOFT/fdxVKbuzXKMlJTlUCNb8lrU8KILUx12s6Agog07G15vkTUAAZOYZL+qAeiaBUTE5vw/TAJ70oj3zGy0rM9nH6wo+4Vu5/m+vvU2TWvs6n2vDJSU41AjUv55OcagRqXs4nOdUI+P1pH067fH3f7SL0ttflJKcagZqX8+n8cVIAqY25XtMRUACZjq01z5+AAsjIMfQLTQ2cnN7G6VX//IZ8/Hf9dv7tTW+ugSt4vcNlLpVfu9dH5urvdLmC9zJcnE+1cZSTnGoEal7OJznVCNS8nE9yqhHw+9M+nHb5+r7bRehtr8tJTjUCNS/n0/njpABSG3O9piOgADIdW2uePwEFkJFj6BeaGjg5/T9Oj3nWy3P/J76wBq7g9aBPv0HudPNrFjyX4+J8qo2lnORUI1Dzcj7JqUag5uV8klONgN+f9uW0zd/3XY2mnORUI1Dzcj6dP04KILUx12s6Agog07G15vkTUAAZOYZ+oamBk9P/4/TWt7419/qZ5+Xnn/eqGrwtXre90dXzsNvfKG/3dufrI875VJs6cpJTjUDNy/kkpxqBmpfzSU41An5/2peTAsjhxFyfagzlJKcagZrXkuaTAkhtzPWajsD52h2ajqM1L5OAAsjIcV3SB/VIBKVicvr/MV385rfkPk94/kEiCOLHQz/7hrnokpcojcGSnJxPtdGUk5xqBGpezic51QjUvJxPcqoR8PvTGE6byvi+q9GUk5xqBGpezqfzx0kBpDbmek1HQAFkOrbWPH8CCiAjx9AvNDVwcvqfnLgJ8rhnvyLf+ssv2isnyOUvfcn/Snh+x5u9x7m7+TFQdD75vqsRqHk5n+RUI1Dzcj7JqUag5uV88vtTbabUvJxPcqoRqHk5n+RUI1DzWtJ8UgCpjble0xFQAJmOrTXPn4ACyMgxXNIH9UgEpWJy2oyJxOg/9syX5fHPeWVe94aLNzpe8XIX5XY3vUbu9mHXOlcJz9cBcT6V3nYm8axhkpOcigRqbq5PcqoRqHk5n/z+VJspNS/nk5xqBGpezic51QjUvJY0nxRAamOu13QEFECmY2vN8yegADJyDJf0QT0SQamYnHZjeuPFb85vvOjv8uWPe+7/cP6+O944t7z+VXPZiy65u6Jz4OF8qg2ynORUI1Dzcj7JqUag5uV8klONwG4vvz/tZjR4+L6rsZKTnGoEal7Op/PHSQGkNuZ6TUdAAWQ6ttY8fwIKICPH0C80NXByklONQM3L+SSnGoGal/NJTjUCNS/nk5xqBGpezic51QjUvJxPcqoRqHk5n+RUI1DzWtJ8UgCpjble0xFQAJmOrTXPn4ACyMgxXNIH9UgEpWJyKmEyFE8Nk5zkVCRQc3N9klONQM3L+SSnGoGal/NJTjUCNS/nk5xqBGpezic51QjUvJY0nxRAamOu13QEFECmY2vN8yegADJyDJf0QT0SQamYnEqY3NivYZKTnIoEam6uT3KqEah5OZ/kVCNQ83I+yalGoOblfJJTjUDNy/kkpxqBmteS5pMCSG3M9ZqOgALIdGytef4EFEBGjuGSPqhHIigVk1MJkxv7NUxyklORQM3N9UlONQI1L+eTnGoEal7OJznVCNS8nE9yqhGoeTmf5FQjUPNa0nxSAKmNuV7TEVAAmY6tNc+fgALIyDFc0gf1SASlYnIqYXJjv4ZJTnIqEqi5uT7JqUag5uV8klONQM3L+SSnGoGal/NJTjUCNS/nk5xqBGpeS5pPCiC1MddrOgIKINOxteb5E1AAGTmGS/qgHomgVExOJUxu7NcwyUlORQI1N9cnOdUI1LycT3KqEah5OZ/kVCNQ83I+yalGoOblfJJTjUDNa0nzSQGkNuZ6TUdAAWQ6ttY8fwIKICPHcEkf1CMRlIrJqYTJjf0aJjnJqUig5ub6JKcagZqX80lONQI1L+eTnGoEal7OJznVCNS8nE9yqhGoeS1pPimA1MZcr+kIKIBMx9aa509AAWTkGC7pg3okglIxOZUwubFfwyQnORUJ1Nxcn+RUI1Dzcj7JqUag5uV8klONQM3L+SSnGoGal/NJTjUCNa8lzScFkNqY6zUdAQWQ6dha8/wJKICMHMMlfVCPRFAqJqcSJjf2a5jkJKcigZqb65OcagRqXs4nOdUI1LycT3KqEah5OZ/kVCNQ83I+yalGoOa1pPmkAFIbc72mI6AAMh1ba54/AQWQkWO4pA/qkQhKxeRUwuTGfg2TnORUJFBzc32SU41Azcv5JKcagZqX80lONQI1L+eTnGoEal7OJznVCNS8ljSfFEBqY67XdAQUQKZja83zJ6AAMnIMl/RBPRJBqZicSpjc2K9hkpOcigRqbq5PcqoRqHk5n+RUI1Dzcj7JqUag5uV8klONQM3L+SSnGoGa15LmkwJIbcz1mo6AAsh0bK15/gQUQEaO4ZI+qEciKBWTUwmTG/s1THKSU5FAzc31SU41AjUv55OcagRqXs4nOdUI1LycT3KqEah5OZ/kVCNQ81rSfFIAqY25XtMRUACZjq01z5+AAsjIMVzSB/VIBKViciphcmO/hklOcioSqLm5PsmpRqDm5XySU41Azcv5JKcagZqX80lONQI1L+eTnGoEal5Lmk8KILUx12s6Agog07G15vkTUAAZOYZL+qAeiaBUTE4lTG7s1zDJSU5FAjU31yc51QjUvJxPcqoRqHk5n+RUI1Dzcj7JqUag5uV8klONQM1rSfNJAaQ25npNR0ABZDq21jx/AgogI8dwSR/UIxGUismphMmN/RomOcmpSKDm5vokpxqBmpfzSU41AjUv55OcagRqXs4nOdUI1LycT3KqEah5LWk+KYDUxlyv6QgogEzH1prnT0ABZOQYLumDeiSCUjE5lTC5sV/DJCc5FQnU3Fyf5FQjUPNyPsmpRqDm5XySU41Azcv5JKcagZqX80lONQI1ryXNJwWQ2pjrNR0BBZDp2Frz/AkogIwcwyV9UI9EUCompxImN/ZrmOQkpyKBmpvrk5xqBGpezic51QjUvJxPcqoRqHk5n+RUI1Dzcj7JqUag5rWk+aQAUhtzvaYjoAAyHVtrnj8BBZCRY7ikD+qRCErF5FTC5MZ+DZOc5FQkUHNzfZJTjUDNy/kkpxqBmpfzSU41AjUv55OcagRqXs4nOdUI1LyWNJ8UQGpjrtd0BBRApmNrzfMnoAAycgyX9EE9EkGpmJxKmNzYr2GSk5yKBGpurk9yqhGoeTmf5FQjUPNyPsmpRqDm5XySU41Azcv5JKcagZrXkuaTAkhtzPWajoACyHRsrXn+BBRARo7hkj6oRyIoFZNTCZMb+zVMcpJTkUDNzfVJTjUCNS/nk5xqBGpezic51QjUvJxPcqoRqHk5n+RUI1DzWtJ8UgCpjble0xFQAJmOrTXPn4ACyMgxXNIH9UgEpWJyKmFyY7+GSU5yKhKoubk+yalGoOblfJJTjUDNy/kkpxqBmpfzSU41AjUv55OcagRqXkuaTwogtTHXazoCCiDTsbXm+RNQABk5hkv6oB6JoFRMTiVMbuzXMMlJTkUCNTfXJznVCNS8nE9yqhGoeTmf5FQjUPNyPsmpRqDm5XySU41AzWtJ80kBpDbmek1HQAFkOrbWPH8CCiAjx3BJH9QjEZSKyamEyY39GiY5yalIoObm+iSnGoGal/NJTjUCNS/nk5xqBGpezic51QjUvJxPcqoRqHktaT4pgNTGXK/pCCiATMfWmudPQAFk5Bgu6YN6JIJSMTmVMLmxX8MkJzkVCdTcXJ/kVCNQ83I+yalGoOblfJJTjUDNy/kkpxqBmpfzSU41AjWvJc0nBZDamOs1HQEFkOnYWvP8CbwpyUWXuMQlcrWrXe2/evOWt741f//6//gfPbvKFS6TS7ydb6cBjJxqk19OcqoRqHk5n+RUI1Dzcj7JqUag5uV8klONQM3L+SSnGoGal/NJTjUCNS/nk5xqBGpeS5pPr371q/OWt7yFjl+c5NI1AnpJ4HgE3LE9HktrWh4BVmffI8sbV3skAQlIQAISkIAEJCABCUhAAhKQgAQkcGEJvDnJpS7sI32aBNzcdQ5IYBuBXgD5G1FJQAISSPJuSS6ZhC9ufysRCUhAAo2Aa4NTQQISWCXguuCckIAE1hFwbXBenEcCV0lyiSSEVLn8eQRgn8+WgKfbz5a/Tz9tAv+VAyQJ4sc1Truptk4CErhABFwXLhBoHyOBmRFwbZjZgNlcCVwAAq4LFwCyj5DADAm4Nsxw0GyyBCQwbwIKIPMeP1s/LQG/mEzL19olMEcCrgtzHDXbLIHpCbg2TM/YJ0hgbgRcF+Y2YrZXAheGgGvDheHsUyQgAQn8NwEFECeDBDYT8IuJs0MCElgl4LrgnJCABNYRcG1wXkhAAn5ncA5IQAIVAn5nqFDSRwISkMARCSiAHBGmVS2OgF9MFjekdkgCBxNwXTgYoRVIYJEEXBsWOax2SgIHEXBdOAifhSWwWAKuDYsdWjsmAQmcKgEFkFMdGdt1CgT8YnIKo2AbJHBaBFwXTms8bI0EToWAa8OpjITtkMDpEHBdOJ2xsCUSOCUCrg2nNBq2RQISOBcEFEDOxTDbyZEE/GIyEpzFJLBgAq4LCx5cuyaBAwi4NhwAz6ISWCgB14WFDqzdksCBBFwbDgRocQlIQAL7ElAA2ZeY/ueJgF9MztNo21cJ1Ai4LtQ46SWB80bAteG8jbj9lcBuAq4LuxnpIYHzSMC14TyOun2WgATOlIACyJni9+EnTsAvJic+QDZPAmdAwHXhDKD7SAnMgIBrwwwGySZK4AITcF24wMB9nARmQsC1YSYDZTMlIIHlEFAAWc5Y2pPjE/CLyfGZWqME5k7AdWHuI2j7JTANAdeGabhaqwTmTMB1Yc6jZ9slMB0B14bp2FqzBCQggbUEFECcGBLYTMAvJs4OCUhglYDrgnNCAhJYR8C1wXkhAQn4ncE5IAEJVAj4naFCSR8JSEACRySgAHJEmFa1OAL3TnKFJK9P8l2L650dkoAExhBwXRhDzTISWD4B14blj7E9lMC+BFwX9iWmvwTOBwHXhvMxzvZSAhI4IQIKICc0GDZFAhKQgAQkIAEJSEACEpCABCQgAQlIQAISkIAEJCCB4xBQADkOR2uRgAQkIAEJSEACEpCABCQgAQlIQAISkIAEJCABCUjghAgogJzQYNgUCUhAAhKQgAQkIAEJSEACEpCABCQgAQlIQAISkIAEjkNAAeQ4HK1FAhKQgAQkIAEJSEACEpCABCQgAQlIQAISkIAEJCCBEyKgAHJCg2FTJCABCUhAAhKQgAQkIAEJSEACEpCABCQgAQlIQAISOA4BBZDjcLQWCUhAAhKQgAQkIAEJSEACEpCABCQgAQlIQAISkIAEToiAAsgJDYZNkYAEJCABCUhAAhKQgAQkIAEJSEACEpCABCQgAQlI4DgEFECOw9FaJCABCUhAAhKQgAQkIAEJSEACEpCABCQgAQlIQAISOCECCiAnNBg2RQISkIAEJCABCUhAAhKQgAQkIAEJSEACEpCABCQggeMQUAA5DkdrkYAEJCABCUhAAhKQgAQkIAEJSEACEpCABCQgAQlI4IQIKICc0GDYFAlIQAISkIAEJCABCUhAAhKQgAQkIAEJSEACEpCABI5DQAHkOBytRQISkIAEJCABCUhAAhKQgAQkIAEJSEACEpCABCQggRMioAByQoNhUyQgAQlIQAISkIAEJCABCUhAAhKQgAQkIAEJSEACEjgOAQWQ43C0ltMjcIMkd0tyyyTXSHLpJH+T5DlJfjLJr07Y5MsnuXGSmyb54Pa/6yYZ3m8/keSuBzz/nZLcOclnJ6HeKyf5hyQvSfKEJI9J8s8H1G9RCSyZwFmuDQPXa7c14DZJrpnkHZK8KskL2vv3iUneXByEtxb9erd7JPnBEeUsIoE5ELhFe399ePv8p82vTPKMJD+e5Hcn7sRUa8xU9U6Mw+olcBIElrIuvFeSl40g+okT//YZ0SSLSODMCZzVusBv+Zt0ewXsGbxnR+ObknzjAXTeLcldktw2CWvGOyf52yR/muRxSR6f5A0H1G9RCUhAArMkoAAyy2Gz0VsIXCrJNye5b5JLbPF7UpLPb8LBMYH+epKPSXLJLZUeIoB8XJJHJ7n6lvrZSP28JE89ZsesSwIzJ3DWa8OA76uSPDjJZbbw/L0mclY2ORRAZj4xbf7RCHD44HvaZ/u2Sn80yVck+bejPfltFU21xkxV75G7b3USOEkCS1sXFEBOcprZqJkROMt14c/bAcZt+3CHCCB3aIecrrhlTBBC7pTkuTMbN5srAQlI4CACCiAH4bPwCRJ41Mrmx8VJXpTkX5O8b5J37dr8/CQfduRNkL9aOcGxDtFYAeRjkzylbbIM9fK8lye5WpLrdQ+j35+Q5GknOEY2SQJnQeCs1wb6/A1NoB36/5a2Pv1Tkvdu7+PhNU6sc4OME1vbrBdAnl480cUm8a+cxSD4TAlMRIBDB8zpW3X1c7rxT5L8Z5LrJ7lC9xqfpdzAqt60qjR7qjVmqnorfdJHAnMmsMR1YVUAYS2r2P2T/GHFUR8JLJzAWa8LlYNLYwWQz20HJfshRHB5dbsJ0t8yeX2SD22/QxY+5HZPAhKQwNsIKIA4E5ZE4IuS/FDXoV9M8qUt9BV/vijJFyd5WCciPLadtD4Wh0EA4WTp81rILcJu3buFxeI5YwSQqyZ5cbvCSh1sivIl5ze6hnN9lvBXgxDy2iTvl+TvjtU565HATAmcwtqAIPnk7nOXWx6EwuOHCcaNtdsl+ZEWEou/PTMJYXy2Wf9D6lpJWIM0CZw3Ag9K8nVdp3kffW0SxEWM0578++s7H8qwKXgMm2qNmareY/TZOiRw6gSWuC6sCiD+lj/1WWj7To3AWa8Lw/f21zVRkn0C/vfw7iDUGAGEMJl/0N0w/7O2x9ELnx/fQoGzr4D9ZZL3T/LGUxsk2yMBCUhgCgJ+aZqCqnWeBYG3T/LSJMS8xH6r5f9Yd7rz7kke2fz4EoJw8EdHavSnJ/mLJlb0z6Y9H9WeMUYA4cT2PVv5/0jyQRtObPCF5oVJrtR8KfeVR+qb1UhgjgROYW3gs5Zr5jdsAPlRwnv439cAJW8RofQG+4wk5ATZZAogc5yVtvmYBN695cC6bKuUPF+EgVxn39KJINwQIY8WYSMPsanWmKnqPaSvlpXAXAgsdV1QAJnLDLSdp0jgrNcFmBB6CsGD/YL+O3wfRWKMAMLBz09p0F+T5AM2HIJE8EAUGULxckiTw6GaBCQggcUTUABZ/BCfmw6S1PcHWm/5MkG4C+JbbrLfT3Lz9iKJwG4/MalDBBASpXHjY/iiQv6A/qTratO/JMkj2h8RSxCFTIo+8QBb/ckSOIW1geSjfcipW7dwdpug/XS3Jj27W6vW+SuAnOzUs2EXiMC3J/ma9ixExffobn6sNuHSTSzBB3tIyxl2SFOnWmOmqveQvlpWAnMhsNR1QQFkLjPQdp4igbNeF7YxOUQAYd+DkJ+DsRfQR8VYfS57CeRLxdhjQBgiLK8mAQlIYNEEFEAWPbznqnOEgiJBOIbYQCLybXa3JCRCxcgPwo0JxIKp7BAB5HPadVXaxmbndZJsS478Du3LDCE/MMoTGkuTwHkkcAprAzfOuHmG8d7lPbwtBjDr1282f/yumYScIOtMAeQ8zmr73BPgFCU3ObAfT8Ln+zbjZOX/bg6U7fNnjSE71RozVb1j+mgZCcyNwFLXBQWQuc1E23tKBM56XdjG4hABhPCe3HDF2NcgNyj/3WTXbpEzhtcJt0vYXU0CEpDAogkogCx6eM9N59jwJ843OT4w4nxzwmObcSuChGCDEZ//1yYkdogA8rgkd2ht41YLeT122a+2JOj4UZ7rtpoEzhuBU1kbWGuG8Hw/mIST3dvsUu3W1iBikrvohzcUUAA5b7Pa/vYE3mfltieflT+zA9GHJCEHz2DUMeTi2ZfuVGvMVPXu2z/9JTBHAktdFxgLBZA5zkjbfAoEznpd2MXgEAGE7zR8t8HYA+Dm+S5jTwEm2Lclud+uAr4uAQlIYO4EFEDmPoK2HwI3S/KsDgW5Np5eQMNJbH5IYITPeGihzFiXQwSQF3Wix48l+fxCIx6Q5BubH+WJ96lJ4LwROIW14SorMXjvkuTRhYF4WpKPbn6E9/uyDWUUQAowdVksgdutCB7vmeSvd/SWMFj/koT/YtTxhJGEplpjpqp3ZDctJoFZEVjqusAgKIDMaira2BMicNbrwi4UYwUQ9vP4TjMcmmIP4Jt3PSwJewp3bX6E6b1NoYwuEpCABGZNQAFk1sNn4xsBNhQJezHYNZL8TYFOH16iKiwUql3rMlYA4SQ4Mc2H2y1ccf3WQiP6sFlval+K/rNQThcJLInAKawNCLK8/werXjPvw2YhhnzshoHpBZCfbfmPyG/AmvGPLcnibyf5iR2h85Y07vbl/BDoxX4+60iEvi283EDmJS0UHf+ubhasozrVGjNVvednZtjT80xgqesCY7oqgPxkkg9NcvU24Hzuc/CJMJr8Nvr78zwR7LsEOgJnvS7sGoyxAggHPyg7WDX0dR82i0OhhMXSJCABCSyagALIoof33HSOWN7E9MbY5CdZeCWRFzlAhljh2zYYjwFyrABC7P+Xdw34vC4fyLZ2fWQSNj0Hq5yKPUY/rUMCp0TgFNYG3rOID4Pxnn5FAVLf9m0/TCqbvcPa+Kgk90ryhsLzdZHAHAj0n+N/2Ykau9rO5uCQK+yQAxBTrTFT1buLi69LYAkElrouMDarAsi28Xpjku9oN++3aNgAACAASURBVMLfvISBtQ8SOIDAWa8Lu5o+VgBZ/c3Pv39n18OS9L9P2Dfh0GX1N0Whel0kIAEJnB4BBZDTGxNbtD8Bvtx/dSv22iTvUqziu5N8ZfN9TpIPLpYb4zZWAPmAJH/cPfDTkvxioQE3SvLczo96/qRQThcJLInAKawNX57kezuoV0zy+gLkr0rysOb3miRX3lCm/7HyD0nYBCbxIc953yTkEuiNdYGN39cV2qCLBE6dALeePrM1krn9QcUG/3wSPk8x6vjsYrlVt6nWmKnqHdlNi0lgVgSWui4wCKsCCDnG2DjlYMM7t5C53ITr7SlJPiXJxbMaRRsrgeMSOOt1YVdvxgogn5zkl7rKb5jkBbseluS2SZ7Y+fF74d8K5XSRgAQkMFsCCiCzHTob3hF4RJIvaf/mh8BwDXwXJBJ+kTAde3ELHbOrzNjXxwogN0/y+91Dq8naVxO9Uc+zxzbechKYKYFTWBvum+TBHT9uqBGqZ5eR+JyE6RgbG2+/oQDCJgnS+fGD+NEbp7lYMx6U5AO7F6oJEne10dclcNYEnpzk1q0RJAG9RbFBj0tCwnSMOj6pWG7Vbao1Zqp6R3bTYhKYFYGlrgsMAje6H5/kR5L8chJ+9/TGd4zPaJ/7Q55DXuf7xD1mNYo2VgLHJXDW68Ku3owVQG6f5Ke7ytkD+PNdD2u/D/g9MNhVDZlXoKaLBCQwawIKILMePhvfCPSx8gktQ4iZin1LEuJfYi9Nct1KoZE+YwUQ8gX011g/rsX13dWM6yQhxvlgH5HkGbsK+boEFkbgFNaGPsYueC9ZDNF39yS0HyN0BWLGWOM0KCff+gSHn7pyYmxs3ZaTwFkS6HN58VlJ6IeKETefONnYU5PcslJojc9Ua8xU9Y7spsUkMCsCS10X9hkEboP8epKbtELcFuV2eOVk+D7P0VcCcyFw1uvCLk5jBZA+7yfPYA9g9UDUumezpwCTwcgf+MpdjfR1CUhAAnMmoAAy59E77bbfNQlxtY9t5OzoE55T//ckuWd7ECFgrlJ86EOT/K/myw8CroxOZWMFEMJ5/GHXKDYwf6XQyPdP8sLOj3r6kFiFKnSRwCQEztvacO8k39mRvHySfy+Q/bIk39f8CJlFSKtD7B1bQnROeGFsjNzqkAotK4ETIEBISEK7YH+Q5GbFNj0hyWc1X+oYwmEVi/+321TfP6aqd9/+6S+BORJY6rqw71hwIOzPkgwhsbg18kX7VqK/BBZC4KzXhV0Yxwog3Pj6ua5y9gBetOth7VDUkzo/QogTSlyTgAQksFgCCiCLHdoz79iF3OQkvMvXtR4T+56Nvop9f5IvbY6/m+TDKoVG+owVQK7XfrwMj2XDpv+Ss6k55DPpQ15Rz1+MbLvFJHBMAudtbWCz4Yc6gFdK8o8FoPdJ8pDm96ok714os8vlAS0ZKn4kR+WEKP/VJDBXAo9NcsfWeET/GxQ7QuiYIewVddy5WG7VbarvH1PVO7KbFpPArAgsdV0YMwgcRuN7F8YG67XGVGIZCSyAwFmvC7sQjhVAOMxEnp/BbrpyeHLTc8l9Rji9wS5tnqBdQ+TrEpDA3AkogMx9BE+3/cSjfPgEzSNp+c+s1Lt6whoBBCFklyEkcGoCI34+IWGmsrECCKcx+s1SbroMp8K3tZUTsX2y9HdN8k9Tdc56JbAHgfO2NqyezGKDtr+dtQkdt0ZY27A/XsnhsQfu/8/1o5KwFg2mMDqWpOVOhUB/U4LPSgTGinGzckiY/r1JvqJSaI3PVN8/pqp3ZDctJoFZEVjqujBmEO6ycnO+modszLMsI4FTJnDW68IuNmMFkNVoEewB9Dc7Nj2XPQWYYP+S5Aq7GujrEpCABOZOQAFk7iNo+yFAWKj+g7569ZMbEtyUwAiH9TUT4hwrgNAkwnoNmzrVdnKzhRsuQ/lqWLAJEVi1BC44gVNYG1bD0VXD2HEqi9NZGOF6bncEeqs3ykgYTeJoTQJzJdCHiqMP1RBzf5/kyq3T1PEDIwFMtcZMVe/IblpMArMisNR1YcwgrJ4Ov/qaxOlj6rWMBOZG4KzXhV28xgog79AEjKH+6ncabplz2xzbJ4Torn74ugQkIIGTJaAAcrJDY8P2IHDtlsR8KEIoC665brOLkrwuyeWa0+dPlLNkaMMhAsjTk5DEHKvG7SfO7xe0MpTn5LcmgfNG4BTWBq6U/1uXxPz+SQhvs8sIWXfd5vTNSQhfdaiRALXPBcS/n39opZaXwBkS+NiWxHxoAqEsCWm5zQgn1yf6pI6njezDVGvMVPWO7KbFJDArAktdF8YMwm2TPLEr+E7t98+YuiwjgTkTOOt1YRe7sQII9f51EpKYY9VcP+wp3LKVeXQSbotpEpCABBZNQAFk0cN7rjr3iiTXaD1+RJfbYxOED1k5+cxG40snJHaIAPLAJGyaYiRDJpzVf+5o658meZ/mQ/lvmLBvVi2BUyZwCmvDM7ocQ0/ucg9s4vZuKyc0+YHy1CNAvlOSx3T1eBL0CFCt4kwJcPLxNUkI64Ldt8uds6lhd0jyuPYiOXC4YYlIOdamWmOmqndsPy0ngbkQWPK6sO8Y3C/Jt7ZC/9ElRN+3Hv0lMHcCp7AubGN4iADyU10usxcnuf6OweIgKGFDh7ypHJp81NwH2PZLQAIS2EVAAWQXIV+fC4E+oTmbIZzwfNOWxhPz+8vb63+S5AMm7ughAshqQnNyCvSnuVabfpMkz+n+SPn+3xN31eolcFIETmFt6BOaX9zEWkLwbLKvTvId7cV/bqF6domeFejkBSI2MGYy1AoxfeZAoE9o/oIkN9zRaHJ+fXLzoezw/8f2dao1Zqp6x/bTchKYE4Glrgv7jAG/85/X5RDjt8jH7FOBvhJYGIGzXhe24TxEAFlNaE5ekP7G9+pzPzPJz7Y/viXJ1ZJs+12ysGlgdyQggfNKQAHkvI788vq9KhKQ0BSRY51xU+RF3akHNieHzcapyBwigPA+JQkyuQQw4nR+aJI3b2js/0ny6e01ki1/YJK3TtUx65XAiRM4hbWBNecl3Sn170qCyLHOOKGGKHvN9iKboINYewhqhA8EkMG+O8m9DqnQshI4EQKrP/w/NQkixzpjU4D8X5dsL1J22AQY252p1pip6h3bT8tJYE4Elrou7DMGfHfofwt9VZKH71OBvhJYGIGzXhe24TxEACH/2cu63GbsBSByrDO+//x+kpu2F49xEGRh08TuSEACSyWgALLUkT2f/fqFJGx8YP+a5NZJnrmC4gotYfqQU+PVSa6T5A0bkL1X+0IxvPxNSb5xBN5DBBAeh6DBl5nBHtY2UFeFDTY02VwdjHI/P6K9FpHAkgicwtrApgPCLIZ4efskP7cCmSvp5C/6rPZ31iXWJ9apVbtikh9t+UT+cMdg3bHFBOYHEvbvrd6/XdIg25dzS4Dvspx0HG5+8H4h1jehIHvjhCOh5N6v/ZGT0Qgi6w4IfPRKXpC7JfnxLYSnWGN43FT1ntvJYsfPDYElrgschLp3C/P3Z1tGkr7zfeM7O7H3VS2v2KbfO+dmYtjRc03gFNaFTQNwiABCnat7APybw0690X/2CRBDMb7/EDli222Rcz1h7LwEJLAsAgogyxrP894bxApOdl65gSDWLfEsf60JItyEuGeSa7XXufJJcsBNJ0Vx21cA+dy20bg6FiRCHt5vPJcwOKt2qyQkLN9kj0/CyZXByCvwyCQvT0LOAJK/96E8npDkdud9Uth/CbT38VmvDe+c5FlJ3rtbfxA7ECj/qeXsuUcXqgI3Tm9yA2Sdkcj0te0FNnqf0kJdsPlLPgPi+t6giSmcJB+MHzvkQGA90SSwFAKcZOTz83KtQ+TLIh8YfyN83M3a++mq7XU2AT9yS3jIfQWQKb5/0NSp6l3KuNsPCWwjsLR14UbdRiUHH34zyfNb6BrWNL5n3DgJhx7etwPD7yFyifG7QZPAeSdw1uvC1yfhf6s25DLj7xyUWhf6lvye/O5fZ+w1sCZ8WPfik1ruPw488X3i7kk+vHudCBhEwtAkIAEJnAsCCiDnYpjPVSdv0QSNd9nRa75YfOWWzcWh+L4CyF2T/NhI4sTl5abIJmNjh2uqlfi9T0tymy03W0Y20WISmC2Bs14bAHe9JL+R5D0KFL89yddu8esFkEJ1/+XyL0m+uEsAXS2nnwTmQIAbj4/pRJBNbWajkAMD23Jp7SuA8KxjrzFD+6eqdw5jahslcCiBJa0LvQBS5cLGJ4ez+O6hSUACbyNwlusCkSQeMHIgOMTJTZFNxiFQbrpyAGqXcQiLtYGDmZoEJCCBc0FAAeRcDPO56yQJ0Ak382lJLrWm95wE5+rn7xXInJIAQnMv0U5qcAX+KmvaTwIzrrY+1C80hdHV5bwROMu1YWCNcMGJqztt2KglP9F9W6i+bePDSTFOuBPq5z13DOTrkvxEC4fx1+dt0O3vuSJAeCti3vO+WP2Oy+0nNga4CboaHmsV0hgBhDqOucb0bZqq3nM1OezsuSWwlHWBG2yEwOUgFDe/t9nftRvp/B56zbkdeTsugc0EzmpdmFIAobeXTfLNSb4oCeFyVw0B5VtaGF3nhwQkIIFzRUAB5FwN97nrLKcgCHFBAmKuhRL/lgTif74AEgg79I38AFdqP25e2oX7WEAX7YIEJiNwCmsDIarYpOU2CLk5CF31xyPj8CKGEuKPxOmsB4gj5EEitNYL2v+49aZJ4LwQ4H3FzQmEA+xvkvxukldcIABTrTFT1XuBsPgYCZwpgSWtC/SFnCB87hP6ihxi3PJE7CCe/4s35Dc60wHw4RI4QQJnvS5MhQQhhMMcHOZkjUAUZV0gAfq63GdTtcN6JSABCZwMAQWQkxkKGyIBCUhAAhKQgAQkIAEJSEACEpCABCQgAQlIQAISkMCxCCiAHIuk9UhAAhKQgAQkIAEJSEACEpCABCQgAQlIQAISkIAEJHAyBBRATmYobIgEJCABCUhAAhKQgAQkIAEJSEACEpCABCQgAQlIQALHIqAAciyS1iMBCUhAAhKQgAQkIAEJSEACEpCABCQgAQlIQAISkMDJEFAAOZmhsCESkIAEJCABCUhAAhKQgAQkIAEJSEACEpCABCQgAQkci4ACyLFIWo8EJCABCUhAAhKQgAQkIAEJSEACEpCABCQgAQlIQAInQ0AB5GSGwoZIQAISkIAEJCABCUhAAhKQgAQkIAEJSEACEpCABCRwLAIKIMciaT0SkIAEJCABCUhAAhKQgAQkIAEJSEACEpCABCQgAQmcDAEFkJMZChsiAQlIQAISkIAEJCABCUhAAhKQgAQkIAEJSEACEpDAsQgogByLpPVIQAISkIAEJCABCUhAAhKQgAQkIAEJSEACEpCABCRwMgQUQE5mKGyIBCQgAQlIQAISkIAEJCABCUhAAhKQgAQkIAEJSEACxyKgAHIsktYjAQlIQAISkIAEJCABCUhAAhKQgAQkIAEJSEACEpDAyRBQADmZobAhEpCABCQgAQlIQAISkIAEJCABCUhAAhKQgAQkIAEJHIuAAsixSFqPBCQgAQlIQAISkIAEJCABCUhAAhKQgAQkIAEJSEACJ0NAAeRkhsKGSEACEpCABCQgAQlIQAISkIAEJCABCUhAAhKQgAQkcCwCCiDHImk9EpCABCQgAQlIQAISkIAEJCABCUhAAhKQgAQkIAEJnAwBBZCTGQobIgEJSEACEpCABCQgAQlIQAISkIAEJCABCUhAAhKQwLEIKIAci6T1SEACEpCABCQgAQlIQAISkIAEJCABCUhAAhKQgAQkcDIEFEBOZihsiAQkIAEJSEACEpCABCQgAQlIQAISkIAEJCABCUhAAscioAByLJLWIwEJSEACEpCABCQgAQnsQ+Bvk1y1FfjQJL+/T2F9LxiB903y4va0/0hy2Qv2ZB8kAQlIQAISkIAEJCCBAwkogBwI0OISkIAEJCABCUhgBIEfT3KXEeVel+SdRpSziAROkcDcBZArJLlVkk9IcpMkV27/+88kr03y0iTPSvLrSX4zyVtOcRAKbVqyAPLDSb6wMWAsGSus7/M6RG9IwnrM//4uyR8leU6S307yygJTXSQgAQlIQAISkIAELhABBZALBNrHSEACEpCABCQggY6AAojTQQLJXAWQyyf5qiT3SXLF4kCyKf6wJN+X5E3FMqfitlQBhN/Cf5Pkakn+JcmVurHZJYBsGhtErl9J8v1JfvVUBtB2SEACEpCABCQggfNMQAHkPI++fZeABCQgAQlI4KwI9AIIJ8WfXWzIvyb5rKKvbhI4dQJzFEDeO8kvJ+G/vV2c5GVJ/iHJW9um+nskufSK3/OS3PjUB2alfUsVQG6a5A9aX39uZW1dFUAIz8Ztj8Eu2W7jcSPvWkn496r9dJJ7JPnnmY23zZWABCQgAQlIQAKLIqAAsqjhtDMSkIAEJCABCcyEQC+AEDLlo2fSbpspgfNM4IOS/FqSd+0gIF5+ewudxC2C3rgpQnisuyb5lPYC4ZLebWYQlyqAfGOSB7SxuFsS1uXBVgWQbTlqGOcPTnLnJJ+zkiPlJUk+JMk/zmzMba4EJCABCUhAAhJYDAEFkMUMpR2RgAQkIAEJSGBGBBRAZjRYNlUC7bQ/eR447Y8R6ogwWIS04sbHLrtFkh9MchUFkF2oLtjrf5gEUYuxRJTi9s5g+wggfYOvnuRnknx498enJ/n4GYY+u2AD4YMkIAEJSEACEpDAlAQUQKaka90SkIAEJCABCUhgPQEFEGeGBOZF4KfaCf+h1XdP8qN7duHtkzyoCSd7Fj1T9yXeAEGoIP8HRngrbnj0NlYAoY5LtTwgiB6D3bOJZWc6kD5cAhKQgAQkIAEJnEcCCiDncdTtswQkIAEJSEACZ03g2ALIulwKJGcmJAs5Q67bTjhf1Db62PBbZzdIcsckt0xC/oJ3aXHv/7Il9P2RbtOwwpC4+ISEoR3U/c55W+LrF7ZwM/+nnb5+cJL7tgp/KMmXrKn81kme3P7+Z0nYoNxllXpX67hCa+9tkrx/kqsm+c/Wbk5yPy7JU3c9uG2q3rz5wZR8APBgPAiJ9AHtNgD5AZ6b5LFJ2GTnNPo+Rvi0T0/yUS3vBGP2hiR/3eolZNMTk5A/ZrDvTHLv9g/6RNmq4f8RzZmk3kM91fK9XyUHCHPhEa3QU5IwD7APbPkV6D9z9c1J/qptPH/Xymn+MW3ry/D+Yc5dov2RefuZh1aahPfjK9oco7rPT/JjxXqvk+Qvkgy/526Y5AVbyl6jzWs25clfcuVW9jVJ/iQJofjIg/Hna+oYK4AgKtwuycckQXBgTfqn9gzyqLCekAOpYty8gQ/j/T7tRg7vFcKOMddZU56Z5Bfbe3VXnV+UhLUGu38Tpvoyhwgg1APfF7XE6vybNjKPyBWzzsgVAyfWXnKT0Efey9wuInwWdbHuwAyGmwyh5Xvai7wfrl28oUSRRyf53FaWNeMzdkH0dQlIQAISkIAEJDAHAgogcxgl2ygBCUhAAhKQwNIITC2AsFHLRv0114BbF8v+HZM8PMlduk3edcz/vW0WfndhQNiUfkKSQQRYV4QN7Tsl+ZoTEUAQJh7SNi+3dZHNWzYKt23eIjL1AgjCASLIIB6sq/+3knxq29TdhZgNUjZwK+IFm8RX6kLwUPZPuwdcr22m73omfggBgyEQsTE71sYIIJ+Y5OuTkL9hECRWn4+oRM6NZ4xt2Eq570/ypd3frp/kxUeq+9uSfG2riw38PnTStkd8a5L7NQcSed9sgzMiywOTfMVKbop17my2I1aydvS2rwBytRbui7m8zdjI/7L2vtjmhzj6zWsSyq8rw3sS4WCX/VKST25O68SjQwUQqoY74spgn9YEmtW23aoxQCDeZbyXETl+YoMjSdlfleRy7XUEr9/YVWkTp17dlUMA/pVCOV0kIAEJSEACEpDAyRNQADn5IbKBEpCABCQgAQkskMCUAginpL83CYl5MU50syHG5hqbepyg7m+AkJPgV5PcuOP8pnYqnM1EEj5zW4HbC4Ox+com9Cbj9DObuZw0H+w/kvxxu53ABjzPxdj0ZwP3Pu3fZ3UDZHWzkuZw84UT+mwiv19jOPSHE+eIGWy2r7NeAPniFvaIOoZ6ORHOGN2o1T/UwSl8bolsMzbJOeneb5hyA4JNefIYsPnJye+BMXXxtzd2lXLi/yPbv0niPWzCb3sufohV2O8lIa/FITZGACFvw7Dx/7rWZ+YWbPv+vr79jbl/qDFWCHrY7yb5sEMr7MozTiTKHn6X0Y9enFr3KN6LtIlbFRjz64fXOL5Dkl9I8rErr72ylec2ArkveJ8OYtI9mnjRF9lHAKEubh29V1cBwim3TNi853n0cegvogvt52bDOkO4QZztbXhfcjOLWyU8k/9izAlEgG3Ge4FbFfwXju+5xvkYAggMXtbVzc2r/7XmWV+w0n/aRh+Zw5dNwm0fuPVGmUdt6CTiyOe118hHcocdPHiZcf+B5sf8gMm+t9EKj9FFAhKQgAQkIAEJXHgCCiAXnrlPlIAEJCABCUhAAlMKIGwycqODcFFfuXKyHzGDjfJh055Nz1/vNkj5+9e108WEURqM2wPf0oWmYtPyk5pwsm40ufnRb+ITkojy/XMJIURoI9pEGB6egZ2FAMLNjz70EONDe9mEHIxN59u3OP6D8MCNDsJbrbNeAGFDk34iOnB6GyGoZ8vmNWGsBkPgQEBaZ4QyImTWwIvNZQQpEmyvhsbhxgabn5yyZ0OzF0A46U/ILQwhgg1+NpQ3GXkNEIOGjdgxOTBW695XABk48l8SkLO5O4QUYi7TJjZxaSv2yCRfuKVPlZfgRiihwRDKvqFScA8f3oOEPsK+oxMDN1XBzQVuMGD/1kKf8b5fNW5y9JvflKHtz19xJOwbtzUIN8acYC71VhVAEBQQqAahj410hE1EvT70E0wRA4YwYghY3GBZDeFFfcwR2of9bKuvH4+hnTyTkE28HxFst1nPj/nC+2PVjiGAUCcCHDdisGdvuBGHmMENI3LKPGllvg3tIlk7AuQwT3jf8/4e8pj07UegG24/wRahbFvYLMo+J8lNWiWsff97B0NfloAEJCABCUhAArMhoAAym6GyoRKQgAQkIAEJLIjAlAIImH6+CRCIHdusP/XLzQE2zsgrsMnYGBtufnCie91GI5v3v9NVsG3DmFj3+HLKebALLYBwa+ClSTgtj7GxvnrivOdB7gluP5DQGmPjlhssq9YLILzGqXg2XtflAOCGyfOSEFoJ4zQ8OQrWGTc/CO+EkdeDEDebcroM5WkrghbC1WCXaZunCDPYpvA8gz+vM68wNtvZ1GXz/RDbVwDhWTyT0GLMv3XG7RAEoaGd3EZiE3issUnPxvtgt223KsbWt64cYiGiIfb3SRC5NuWKwIf8DLQDQ7jj1teqIQYgPAxWEVbw5X3Q54vhb1UBpL8hxM0z1gLWlXXG71BuKgw5Jwi3RNil3pjbvG8wQq8Rcm3XmoZQucuHNWZ4fxFSjRtwq3YsAQRBY+gXwt0gXPbP4yZY5b1E37jRM9S3bW3lhhq8MITwIS/IurEgBBjrD8Yawa2kdSLThqH0zxKQgAQkIAEJSOC0CSiAnPb42DoJSEACEpCABJZJoBdAqj18+UpYmb5cv5HMRjehV9hI3WacmGeTkvAqGMmKh03YTeXYgCM8D8l8McJpcauht59sic/5G/WzCbftZsGD2q2ToY4LLYA8oOWT4PnrNmHXseB09De1FxjLu61x6gUQQoqxqbjutPZQtBejyKsxbF72VfM3bo8M3+E5sT8kcq7Oo96Pmzn3an/gdsC2nA19zoRtAs0+7RgjgBCC66FbHkL4o7/r8kVsEqiq7eyTsFOGk/jcwDmmrSZDR3Qh0fo6u2oSblYMt1wQLQnLtWrcNvjg9kdeJ1zb2JBGFQGEW2e0i9sabKJ/SLvxsI0TvoSgInzVuo133lfcisAQS7ipdQyjne/eRAcEwHUC2bEEkH6tR5hhrHshct/+IJIO4h9rAYLsOutDh3GzBpFjkxEy8cvbi9xGIieJJgEJSEACEpCABBZDQAFkMUNpRyQgAQlIQAISmBGBKQUQwt6QWHyX9Tc12BAkYXplY66/BUJiYgSEwfhuSZirIWQN8e4JdbPNOO3OJujwvfRCCyDkXxhEIDb+2ADcZfhTDtuUQ6AXQLg50Ye4Wlf/DboQQJs2Snv2hNYhlNA2cWlXP/pNXp5JGCwSIa8aIXTo55AHhhsYbLAfavsKIGzgc4J+W/J52kQYJoQKjFwIiHJjjSTWnLQfjLHvQ6ONrXe13IOTkOwb2ybEIQBx0wLbJJT18xO/QxNaVwSQz+k475MnpRdMucnSh6IjnNVjW1//KAk3xipr1LYxYV4wP7Bt78tjCSAPa7fKhjYh0JGn5BDjBhY3dXjPstYSDmvVCNPHGjHcrtskBPL6kCOKOgjz9/hDGmdZCUhAAhKQgAQkcGoEFEBObURsjwQkIAEJSEAC54FAL4CwmVvZTOZU+102wOk3kolnPySz3caSXB/cvsCI+z+EotnFnw0ycl9ghHcZwjHx79VNQzb1CcWyy8hJMJxkvpACCGGchiTZbCYSiqYaLombNsPmIpvyhLfprRdA2Nh+yA4I77JSBxubq3kdSBj/Ua0e8jRwa+RQe3q7HUA9zAk24letnyvbTp3v25Z9BRCSvA9hwrY9qw8Txkl4TriPNUS+PucHIhGC4bEN0YLwc/w+Yy4ibq27McQNrPdpD//qJNziWbU+pw2hlbhhsSss1Lb+VASQPqzUPnlSeG8Mc+77Wo6coS3kuCD01WDkyiEE36awWpUx6W9vbUskfiwBhHB6zMHBGAuSm28yxEZCf3Fjg3w73Kzh1khvH9PdcNomyD26W9c3rau9yEQuJm7GcGNNk4AEJCABCUhAAoshoACymKG0IxKQdGFwqgAAFWBJREFUgAQkIAEJzIjAlDlAbp3kKQUWj+luiryshasqFAs5FYbT9Wzyf2hXqE8uzM0EkhhXbihwyntIJn4hBZA+xwCbfk+rAGg+H9ttTLJZ2m/U4tILIAhXbEZuM8SUPvE8m5+IXr3xb3KWYCT3Jsn3odYnQ2cDnk3n3vi9QCizIezZrnwC+7RnXwGE8YH7LkOgQ6jDvra7MbGr3LrX771yi4kwZNy8mML6ZOiILv3NE55HGCsEK4z5ymY1m9ar1ufieGbLxXFIeysCCM+5RXsIfF5RfCA3z4ak6YzbsA4MxbkNQ56OwciNQti9p7ZE34jH+2zYk69nuEmC2MAcXGfHEkD6tZ61cFXMGJ4NB26LkGtnuGlVQbgtJFufDB3RBcF39bYIHIf3FM9nvmsSkIAEJCABCUhgUQQUQBY1nHZGAhKQgAQkIIGZEJhSANmUE2AVDYl/P+FAXqsn8rlFMmz0/1OSIcH2rsf0MegvpAByhySEDDvU1oWE6gUQNnWHWzObnrUqgLBZubo5y0bvsIF6rGTcJEPnFgw3ULDVvC78exCGuB3DpjFjewzbVwBB2EPg22W9ALLpVsuuOobX+9sU/I3QcWz2T2Gf3YUfIswWolMf8qlfN8jXQ96edUaOFm43YJXwa7v6UhFA+pspu+rb9PqTk3zSyosIrtw0I4TTOuOGC/OTdYek79vynPCe4lYNv4ERQjbVyXOOJYD8ctcnbq4MAmbfF26/0YfhPbgPPwRo1ppN1idDZy6TS2WwayV5aRd+cEpxb58+6SsBCUhAAhKQgASOSkAB5Kg4rUwCEpCABCQgAQmUCEwpgOzaEBsa+DtHOBnOrQc2Cge7e3crgc1tNhwr9h1JCOeDXUgBpG9vpZ2bfNYxP7YAwqnw/jYNp+IRsY5hfZ6C1XBo/JtbIlg1v0y1TXMQQD6y3TgY+nRo4vltbBC3CK81bJLfst10oAwh0cjP8vatAsTLX9tQWR/66GeSIPQdYhUBhBsf5PM5xDYJXMx9blF9cUvsvuk3LJv95D8iTNs6QxRCHMIIhUVOnU12LAGkn+OrN+Z4NmNOUvP3bg15YxNzuPmCwEx5boZx82Wwyvtm8OXG1ne3fzyjC3fHn7hhRI4b7Pe6GzyHjKFlJSABCUhAAhKQwMkRUAA5uSGxQRKQgAQkIAEJnAMCpyCAcKqa5MgYicpJWH6o9SfYOZlNot6K9fkDjimAPLTr17p6PysJJ+kxcniQy+NYdmwBhHYRxoacABib2mxuH8MIQTSEdWKzFeGKRM0kbGbTfch18nFJfvMYD2x1VDZyERwe0fzP4gYIfYfFpVsbSNJNsu6prA9f1QtObP6T9wV7eZJrb7nt8D1dLg1Esj6E1Jh2VwSQ/qbBPZOQz2MK40YIt5LIhUMujNWcMLyPb7whBNcvJPnU1qhtoaNwOYYAspqMnvWIJPa99bfQED8Ic/acHeBYWwchbJfgvZoMfQjXh6jEPCKMGoYY/KNTDJh1SkACEpCABCQggbMmoABy1iPg8yUgAQlIQAISOI8ETkEAeVS3kfuTST7vCAPBpiSJugdjs3JdjoLVR3GSnXwc2CYBhDj1xKvHCA/E5uIu60MBrau3z6lAkmhylvQnrXfVv+31KQQQcnEMJ8XX5Yg4pL19MvQvbaID//3+Vimhcnh2H5LpkOdRdg4CCO3s2RD+izBghAObwvpk6GyI86zXJiHXxQe3Bz4gCcnZN9n9knxrN25D/pax7a0IIH0uCW5WcMPiQhgJ4UmkfrfuYT+Q5MtWHo6QhTiCcMAtG5LZb7NjCCDf1nLQDM/5lBbOq39uvw4jcN1jR7sQJZkPg+0SQPDrbwQ9pPEi1BjhubB/aaInwoomAQlIQAISkIAEFkdAAWRxQ2qHJCABCUhAAhKYAYFTEEBIov3DjdW65NdjMF6xbc4N3zG5YUIol23GSWSSew/5QjYJIGz+sgmMsQFYiZdPWJcPaWXW1Xv5VteQV6OaP6XCZgoBpN/IJGH2rSoNKfp8ThKEMOyPktyk/ZfT9Bihch5UrKvqNhcBpM9tQ9+4AcJNkKnsN5Jw2wb7iiYqvqD9mxwX79k28Tc9vxcL8SE0FbkvxlpFAEFwQXjBjj03K+3u8768pBMKh7L9hv+mNaZ/zqECyFXbraphnfqr1qY+jN3AilBnGCG6EES2Gbd5+jW1IoCQt4aQhxhrLfPh8Uk+vf0NofiLKpD1kYAEJCABCUhAAnMkoAAyx1GzzRKQgAQkIAEJzJ3AKQgg79VuUgzfB2/R4sAfyvb5SUjqi5Fwl8S724yk1iQ/HmzT5iQbin1ScE5wc5J7kxHahU3HSzWHTfUS0olQOhiCEKGGjmFTCCD9Rjwb4Zzsf9kxGtvCXLFJPmzYssk/hMThdsw1W7L0Iz3uv6qZiwCCQMatoyHHBcmsSRjNf/c1btEgOG4zkpsP4c14P/12E0Iosy5R+Gpd3HJgo3sIQfeNSb5p34Z2/hUBpM+Vwi0q5uZfH/DMfYv2oaS40UDOlN4Io0Y4NWzdTYzV5x0igDBfGKdBxKLu4VbV6nO4McfNOawigDAvmB+DVQQQfMkzMoQLg8P3tvwjvHbzTlzel7v+EpCABCQgAQlI4OQJKICc/BDZQAlIQAISkIAEFkjgFAQQsP5cks9ofP+wJUUn7M4hRi4RYt1jnHZGDCGZ7zrj9ge3NIbQPvhsO539qi6x+r2TkLx7k/Xhr7bVy2boL7ZK2Lglv8DvHgKglZ1CALlM21QekmQTOowT4YghxzCSJZM0GWMeDLk/yBcDp2PbXAQQ+v1pSX6+A8D4cqugD0e0iw+3bAhdRf6ObUa+EcQ9QsitjgV5a3jf7rKHd6LJv7e8GIRQG2MVAYR6WUPIrYExZ8i3cUjINH6rVsv3N9rIbYHA2xtiDKIpOW64bcZ/t9lYAQThFZGC22SDIXJwW2tdeD3yvAxJ6nfll0Fkoq7+N3xVAPmqbr3s39skjB8E6zFzwzISkIAEJCABCUjg5AkogJz8ENlACUhAAhKQgAQWSOBUBBBOBP9Bl1CXk+Z32nHSH9GCfB33aaGA2GzsjaS7f9Zt3rLpykno1dsa3MwgVj8bl71tE0DIR8FJaozcIpxc5mT+qtE2Yt1X6uX7MPkLhlsgbGiTD4UN3G3GCfcvb/36jjWOUwggPKZPhs2/2WwlfA0J0tcZYb7IK8CG+K78JswHToqv2m2TkED62DYnAYS+f1eSe3UQmOdsLJNofJshCpAPgk1wbma8WwEk85d53Nvft1sou8aRMuQOIWzWEFqO9x8iDuHNNhnva+ru8/jgWxVACL1F+KtLtAf8bHt///OWZyLqIZSQHLwXQilCHpErtdsK227NcDuMEE9DfpzVnEY3SvLc1oaqmLePAMKNm5sluXMSRK5BOOSRrH+IFOSOWWfcxuB2CgZ71sohXFXvz1pHzo5hPIfXqgIIN7u44dW3jTqYv6wNmgQkIAEJSEACElgsAQWQxQ6tHZOABCQgAQlI4IQJnIoAAiJOHz+2O1VMcucnJCE01CtasmcS716r5YXgxsFwMp2/EWZq1RBRHtP9kQ1QNvme0U5ev1/bGGVjkpPY5DwYbhhsE0BIeMymLifkMTYVuQWC2MAtCF5HvCDvB2FwntY2V/HdVi/9QQgit8Jg1MmJ/xcmeV0ShAQ2Wmkzt0SG3BiEFiLE0KpNJYDwnD7fAf8mFBObvs9s/59k7iTTJsk7XAmFxN8qt3vYfCVnwGCvbuGvVnMXHOPtNTcBBPGP+XbPlc4zJ8nLQLgqRArsakmY5/DvT9hXBRAENjbP+99rCG2rosi2cfjkNodpN8Z7hDnNRjrCJWNKO2/axBGeiVhGMu7eqgIIZRAyvr0rjDDHLQfmFXOJcGqsJ9drgscndOGqVn+bPrgl7KY6bpewJiFkwJi5zPuW0H2EaxuEAUQEBCfet4N9Q5c0HgFxyH20jd2qAML7mXVgMJiS82hYG4dQe32drKsItn251We+YwtjN7T/Ta193O5i3UTIYhzvmIRn/lITfodbYFUBhOeyRiDQDMZaT/2bxJltfHxNAhKQgAQkIAEJzIaAAshshsqGSkACEpCABCSwIAKnJICAlRPYP5WEzbh9bJMAQh0kzX7gjsrYDGXzkpsH922+uxIUcwKfk/jbjM3Rz24b+dV62Qh+Yttc3IfBWQggbLaySX33PRpaFUBWE36zCf11ezxnH9e5CSBD39hEJyH8kC+l2mcERVj24uC2stxM4lbFYGzKc+tkH2PzHMEMAa9ihwogPIMbSd/X5ZioPBefbQJIpQ7ED+bvkD9lKPOsdkODf1cTwq8KIJXn48OaRv4P+v+UYiFEZW5YkTtkmyG0Ib4SUhAxFttHAEEQfXr3AOYFwoomAQlIQAISkIAEFk1AAWTRw2vnJCABCUhAAhI4UQKnJoCACQHga5PcpZ1s3oSOPBycdn/0hlAtfTlC7pBXYjUePz5/2kJIscnbn/TeJYBQllsenIYfbqL0z3x224DlNP6+9SIssIFKHpMhYfA6DggsnGjnZDu3Zf51jdOUN0CGx7Fxyu0Twu9sMm4RkFuAkEqVXCHcVoAdRv4FTuq/ZKL30VwFEHBw+p/wQbdvNz02IWJDnJtPP9HmS+UWzlBXH3KLOtjAHmPkvkCo47YXQtg645YCAuC3rAkrt88NkKFubpN8fRMiCRG1yQhhR1gq1sQhTNXge8P2XmaeI7ZuMm6ycKsF0XU1hBtCATdP+N1L+K+bFAHuEkAYR5hxw4X6aftz2q0zQk3ta+T34JbcunWH9YX3MGIuN+Yq75t1z+e2yj92Icpu2cL/7dtW/SUgAQlIQAISkMCsCCiAzGq4bKwEJCABCUhAAhKYnABhVgiJw0Yc8fc5lUw4KU6vs7m4LRb/usbxfZOEwB/QwsUQAojwNIScGmxfoYJyhMFi05AwQ5xuZxOSMDl96JtDYF2zhdJiA5XNbhJJE2qKE/icxN5nI/uQdlTKEsaGsFXklrhCE2RI+sym7MsqFXQ+5KpACMPIBTHkRtmzmnPlzq0CNtYJS0QoI0QPwgq9tG2KrxPIdgHifUiYKpJqY3dtIsquctteJ/8DIgpiAu9thAPCSb2oiQNThDnjfcotBQQR2NAvRANC5/FeXc0htKn9CLSIc7SdPEOsK9TDesRasimMEzfMHtUqJQH9Aw4BOHFZcqeQB4W5hFhBn1h3CeXH+nOo9fmDEJ4Yk2qS+UOfbXkJSEACEpCABCRwZgQUQM4MvQ+WgAQkIAEJSEACEmgExgggwjs+AcQuhJMhSTdJncljoF14AuQO+cX2WHJBIIQcYxP8wvfkbJ/IrZbbtiYgLnBL47waAjH5UTBuyxDGTZOABCQgAQlIQAKLJ6AAsvghtoMSkIAEJCABCUjg5AkogJzGEH1Bkh9pTeG2CzcbSMqsXXgCfTL6h7dwWxe+FfN+4mVayKfhhhgi0nm98UC4q19vw8l7mrBo3P7RJCABCUhAAhKQwOIJKIAsfojtoAQkIAEJSEACEjh5AgogZz9EN0jymy00Eq3xhPjZjAm/z+6T5Nvb40nsTR4WQkZp+xEgNBwJ2TESh68mR9+vtvl6I3aQa+m9WxcQOQcu8+2VLZeABCQgAQlIQAJFAgogRVC6SUACEpCABCQgAQlMRkABZDK0Gysm3BUJ3DFCXpH3hfwMGHkHyAEzJnfFhe/J/J/4CUnu0fLtkHz72l2XvjvJvebfRXtwgQmQNJ1cKeRd4b1N/heMfE68t195gdvj4yQgAQlIQAISkMCZEVAAOTP0PlgCEpCABCQgAQlIoBFQALnwU4EN0TeseSzJ3dmQf/qFb9K5feKXJHnEmt6T3Pujzf1xbufFIR3/2yRXXangLUnI6/PTh1RsWQlIQAISkIAEJDA3Agogcxsx2ysBCUhAAhKQgASWR0AB5MKPaS+AsDFKzo/fSvLAJC+88M0510/sBRDyM/xlkse3MFgmPj/XU2N05wcBhJwnr03ye0lYZ58xukYLSkACEpCABCQggZkSUACZ6cDZbAlIQAISkIAEJCABCUhAAhKQgAQkIAEJSEACEpCABDYTUABxdkhAAhKQgAQkIAEJSEACEpCABCQgAQlIQAISkIAEJLA4AgogixtSOyQBCUhAAhKQgAQkIAEJSEACEpCABCQgAQlIQAISkIACiHNAAhKQgAQkIAEJSEACEpCABCQgAQlIQAISkIAEJCCBxRFQAFnckNohCUhAAhKQgAQkIAEJSEACEpCABCQgAQlIQAISkIAEFECcAxKQgAQkIAEJSEACEpCABCQgAQlIQAISkIAEJCABCSyOgALI4obUDklAAhKQgAQkIAEJSEACEpCABCQgAQlIQAISkIAEJKAA4hyQgAQkIAEJSEACEpCABCQgAQlIQAISkIAEJCABCUhgcQQUQBY3pHZIAhKQgAQkIAEJSEACEpCABCQgAQlIQAISkIAEJCABBRDngAQkIAEJSEACEpCABCQgAQlIQAISkIAEJCABCUhAAosjoACyuCG1QxKQgAQkIAEJSEACEpCABCQgAQlIQAISkIAEJCABCSiAOAckIAEJSEACEpCABCQgAQlIQAISkIAEJCABCUhAAhJYHAEFkMUNqR2SgAQkIAEJSEACEpCABCQgAQlIQAISkIAEJCABCUhAAcQ5IAEJSEACEpCABCQgAQlIQAISkIAEJCABCUhAAhKQwOIIKIAsbkjtkAQkIAEJSEACEpCABCQgAQlIQAISkIAEJCABCUhAAgogzgEJSEACEpCABCQgAQlIQAISkIAEJCABCUhAAhKQgAQWR0ABZHFDaockIAEJSEACEpCABCQgAQlIQAISkIAEJCABCUhAAhJQAHEOSEACEpCABCQgAQlIQAISkIAEJCABCUhAAhKQgAQksDgCCiCLG1I7JAEJSEACEpCABCQgAQlIQAISkIAEJCABCUhAAhKQgAKIc0ACEpCABCQgAQlIQAISkIAEJCABCUhAAhKQgAQkIIHFEVAAWdyQ2iEJSEACEpCABCQgAQlIQAISkIAEJCABCUhAAhKQgAQUQJwDEpCABCQgAQlIQAISkIAEJCABCUhAAhKQgAQkIAEJLI6AAsjihtQOSUACEpCABCQgAQlIQAISkIAEJCABCUhAAhKQgAQkoADiHJCABCQgAQlIQAISkIAEJCABCUhAAhKQgAQkIAEJSGBxBBRAFjekdkgCEpCABCQgAQlIQAISkIAEJCABCUhAAhKQgAQkIAEFEOeABCQgAQlIQAISkIAEJCABCUhAAhKQgAQkIAEJSEACiyPwfwH4B/S3VsFoVwAAAABJRU5ErkJggg==\" width=\"640\">"
      ],
      "text/plain": [
       "<IPython.core.display.HTML object>"
      ]
     },
     "metadata": {},
     "output_type": "display_data"
    },
    {
     "data": {
      "text/plain": [
       "(-5, 68087129.795518145)"
      ]
     },
     "execution_count": 22,
     "metadata": {},
     "output_type": "execute_result"
    }
   ],
   "source": [
    "fig, ax = plt.subplots()\n",
    "\n",
    "ax.stem(freqs, np.abs(X))\n",
    "ax.set_xlabel('Frequency in Cycles/Day')\n",
    "ax.set_ylabel('Frequency Domain (Spectrum) Magnitude')\n",
    "ax.set_xlim(-.1, 5)\n",
    "ax.set_ylim(-5, np.max(abs(X)))"
   ]
  },
  {
   "cell_type": "code",
   "execution_count": 42,
   "metadata": {
    "collapsed": true
   },
   "outputs": [],
   "source": [
    "abs_x = np.abs(X)"
   ]
  },
  {
   "cell_type": "code",
   "execution_count": 48,
   "metadata": {
    "collapsed": false
   },
   "outputs": [],
   "source": [
    "mags = abs_x[np.where(freqs>0)]\n",
    "ind = np.argpartition(mags,-2)[-2:]"
   ]
  },
  {
   "cell_type": "code",
   "execution_count": 53,
   "metadata": {
    "collapsed": false
   },
   "outputs": [],
   "source": [
    "pos_freqs = freqs[np.where(freqs>0)]"
   ]
  },
  {
   "cell_type": "code",
   "execution_count": 54,
   "metadata": {
    "collapsed": false
   },
   "outputs": [
    {
     "data": {
      "text/plain": [
       "array([ 19028607.75716174,  68087129.79551814])"
      ]
     },
     "execution_count": 54,
     "metadata": {},
     "output_type": "execute_result"
    }
   ],
   "source": [
    "mags[ind]"
   ]
  },
  {
   "cell_type": "code",
   "execution_count": 56,
   "metadata": {
    "collapsed": false
   },
   "outputs": [
    {
     "data": {
      "text/plain": [
       "array([ 0.04232506,  0.01410835])"
      ]
     },
     "execution_count": 56,
     "metadata": {},
     "output_type": "execute_result"
    }
   ],
   "source": [
    "pos_freqs[ind]"
   ]
  },
  {
   "cell_type": "code",
   "execution_count": 57,
   "metadata": {
    "collapsed": false
   },
   "outputs": [
    {
     "data": {
      "text/plain": [
       "0"
      ]
     },
     "execution_count": 57,
     "metadata": {},
     "output_type": "execute_result"
    }
   ],
   "source": [
    "np.argmax(mags)"
   ]
  },
  {
   "cell_type": "code",
   "execution_count": 59,
   "metadata": {
    "collapsed": false
   },
   "outputs": [
    {
     "data": {
      "text/plain": [
       "0.014108352144482356"
      ]
     },
     "execution_count": 59,
     "metadata": {},
     "output_type": "execute_result"
    }
   ],
   "source": [
    "pos_freqs[np.argmax(mags)]"
   ]
  },
  {
   "cell_type": "code",
   "execution_count": 17,
   "metadata": {
    "collapsed": false
   },
   "outputs": [
    {
     "data": {
      "text/plain": [
       "3.5781456354783696"
      ]
     },
     "execution_count": 17,
     "metadata": {},
     "output_type": "execute_result"
    }
   ],
   "source": [
    "mags[ind].max()/mags[ind].min()"
   ]
  },
  {
   "cell_type": "code",
   "execution_count": 10,
   "metadata": {
    "collapsed": false
   },
   "outputs": [
    {
     "data": {
      "text/plain": [
       "3620612.3807966686"
      ]
     },
     "execution_count": 10,
     "metadata": {},
     "output_type": "execute_result"
    }
   ],
   "source": [
    "mags[ind].max()"
   ]
  },
  {
   "cell_type": "code",
   "execution_count": null,
   "metadata": {
    "collapsed": true
   },
   "outputs": [],
   "source": []
  }
 ],
 "metadata": {
  "anaconda-cloud": {},
  "kernelspec": {
   "display_name": "Python [kepler2]",
   "language": "python",
   "name": "Python [kepler2]"
  },
  "language_info": {
   "codemirror_mode": {
    "name": "ipython",
    "version": 2
   },
   "file_extension": ".py",
   "mimetype": "text/x-python",
   "name": "python",
   "nbconvert_exporter": "python",
   "pygments_lexer": "ipython2",
   "version": "2.7.13"
  }
 },
 "nbformat": 4,
 "nbformat_minor": 1
}
